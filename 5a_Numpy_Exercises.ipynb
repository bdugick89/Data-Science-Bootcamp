{
  "cells": [
    {
      "cell_type": "markdown",
      "metadata": {
        "id": "view-in-github",
        "colab_type": "text"
      },
      "source": [
        "<a href=\"https://colab.research.google.com/github/bdugick89/Data-Science-Bootcamp/blob/main/5a_Numpy_Exercises.ipynb\" target=\"_parent\"><img src=\"https://colab.research.google.com/assets/colab-badge.svg\" alt=\"Open In Colab\"/></a>"
      ]
    },
    {
      "cell_type": "markdown",
      "metadata": {
        "id": "BPTyvAP5bvFg"
      },
      "source": [
        "# Playing with NumPY"
      ]
    },
    {
      "cell_type": "markdown",
      "metadata": {
        "id": "W60uHHECpsNb"
      },
      "source": [
        "## Setup: Import numpy"
      ]
    },
    {
      "cell_type": "code",
      "execution_count": 1,
      "metadata": {
        "id": "IjItW6VyW08X"
      },
      "outputs": [],
      "source": [
        "import numpy as np"
      ]
    },
    {
      "cell_type": "markdown",
      "metadata": {
        "id": "tbBVgqhOW8x8"
      },
      "source": [
        "## Problem 1: random integers\n",
        "\n"
      ]
    },
    {
      "cell_type": "markdown",
      "metadata": {
        "id": "NlTKOhfOa3TM"
      },
      "source": [
        "### Part 1\n"
      ]
    },
    {
      "cell_type": "markdown",
      "metadata": {
        "id": "mwFjUA8Fa5qb"
      },
      "source": [
        "Create a 1 dimensional array with 10 random integers"
      ]
    },
    {
      "cell_type": "code",
      "execution_count": 27,
      "metadata": {
        "id": "Dwq632M9XAOr",
        "colab": {
          "base_uri": "https://localhost:8080/"
        },
        "outputId": "673a66c8-87fb-4e9d-c8cc-86e70daa9f43"
      },
      "outputs": [
        {
          "output_type": "execute_result",
          "data": {
            "text/plain": [
              "array([ 0,  3,  6,  9, 12, 15, 18, 21, 24, 27])"
            ]
          },
          "metadata": {},
          "execution_count": 27
        }
      ],
      "source": [
        "array1=np.arange(0,30,3)\n",
        "array1"
      ]
    },
    {
      "cell_type": "markdown",
      "metadata": {
        "id": "AK7pui02Xlkd"
      },
      "source": [
        "### Part 2\n"
      ]
    },
    {
      "cell_type": "markdown",
      "metadata": {
        "id": "gg6uOCdsbb1Q"
      },
      "source": [
        "Create a second 1 dimensional array with 10 random integers.  Concatenate it with your first array to create a 2 dimensional array with shape (2,10).\n",
        "\n",
        "**Note:**  You may have to get creative to make this work.  "
      ]
    },
    {
      "cell_type": "code",
      "execution_count": 26,
      "metadata": {
        "id": "_zAap6kaXIDM",
        "colab": {
          "base_uri": "https://localhost:8080/"
        },
        "outputId": "7912256d-e536-42bb-b383-152a351f5a38"
      },
      "outputs": [
        {
          "output_type": "execute_result",
          "data": {
            "text/plain": [
              "array([0.19234587, 0.08790802, 0.13737769, 0.38798553, 0.20719018,\n",
              "       0.49473803, 0.01507793, 0.06951904, 0.81821959, 0.59142278])"
            ]
          },
          "metadata": {},
          "execution_count": 26
        }
      ],
      "source": [
        "array2=np.random.rand(10)\n",
        "array2\n"
      ]
    },
    {
      "cell_type": "code",
      "source": [
        "concatenated_array = np.concatenate((array1, array2), axis=0)\n",
        "concatenated_array"
      ],
      "metadata": {
        "colab": {
          "base_uri": "https://localhost:8080/"
        },
        "id": "xdV6dxhD2jJQ",
        "outputId": "9a856bd8-e3b1-4b86-c5ec-2e6d4f2084bd"
      },
      "execution_count": 30,
      "outputs": [
        {
          "output_type": "execute_result",
          "data": {
            "text/plain": [
              "array([0.00000000e+00, 3.00000000e+00, 6.00000000e+00, 9.00000000e+00,\n",
              "       1.20000000e+01, 1.50000000e+01, 1.80000000e+01, 2.10000000e+01,\n",
              "       2.40000000e+01, 2.70000000e+01, 1.92345874e-01, 8.79080224e-02,\n",
              "       1.37377690e-01, 3.87985525e-01, 2.07190177e-01, 4.94738030e-01,\n",
              "       1.50779302e-02, 6.95190446e-02, 8.18219593e-01, 5.91422777e-01])"
            ]
          },
          "metadata": {},
          "execution_count": 30
        }
      ]
    },
    {
      "cell_type": "markdown",
      "metadata": {
        "id": "JMVqlBl6pcxt"
      },
      "source": [
        "### Part 3\n"
      ]
    },
    {
      "cell_type": "markdown",
      "metadata": {
        "id": "1VivD_babdiU"
      },
      "source": [
        "Use indexing to access the first two columns in the array you created in #2."
      ]
    },
    {
      "cell_type": "code",
      "execution_count": 36,
      "metadata": {
        "id": "87PGK4yAppM0",
        "colab": {
          "base_uri": "https://localhost:8080/"
        },
        "outputId": "a4043fc2-1fd8-44ab-e8d9-ae257dea174d"
      },
      "outputs": [
        {
          "output_type": "execute_result",
          "data": {
            "text/plain": [
              "array([0., 3.])"
            ]
          },
          "metadata": {},
          "execution_count": 36
        }
      ],
      "source": [
        "concatenated_array[:2]"
      ]
    },
    {
      "cell_type": "markdown",
      "metadata": {
        "id": "4CfzSUWUY5yD"
      },
      "source": [
        "## Problem 2: 2D array\n",
        "\n"
      ]
    },
    {
      "cell_type": "markdown",
      "metadata": {
        "id": "m2U9K4rBa9UQ"
      },
      "source": [
        "Convert the array below into a 2 dimensional array\n"
      ]
    },
    {
      "cell_type": "markdown",
      "metadata": {
        "id": "EOEizi6CY-g1"
      },
      "source": [
        "```python\n",
        "arr = np.arange(70)\n",
        "```"
      ]
    },
    {
      "cell_type": "code",
      "execution_count": 49,
      "metadata": {
        "id": "3FBUDMWubpEg",
        "colab": {
          "base_uri": "https://localhost:8080/"
        },
        "outputId": "1106fde9-69c5-4ad2-d9f0-ae15df50e31d"
      },
      "outputs": [
        {
          "output_type": "execute_result",
          "data": {
            "text/plain": [
              "array([ 0,  1,  2,  3,  4,  5,  6,  7,  8,  9, 10, 11, 12, 13, 14, 15, 16,\n",
              "       17, 18, 19, 20, 21, 22, 23, 24, 25, 26, 27, 28, 29, 30, 31, 32, 33,\n",
              "       34, 35, 36, 37, 38, 39, 40, 41, 42, 43, 44, 45, 46, 47, 48, 49, 50,\n",
              "       51, 52, 53, 54, 55, 56, 57, 58, 59, 60, 61, 62, 63, 64, 65, 66, 67,\n",
              "       68, 69])"
            ]
          },
          "metadata": {},
          "execution_count": 49
        }
      ],
      "source": [
        "arr = np.arange(70)\n",
        "arr"
      ]
    },
    {
      "cell_type": "code",
      "source": [
        "two_d_array = arr.reshape(7, 10)\n"
      ],
      "metadata": {
        "id": "x3hH5zu67jPf"
      },
      "execution_count": 50,
      "outputs": []
    },
    {
      "cell_type": "code",
      "source": [
        "num_dimensions = two_d_array.ndim\n",
        "\n",
        "print(\"Number of dimensions:\", num_dimensions)\n"
      ],
      "metadata": {
        "colab": {
          "base_uri": "https://localhost:8080/"
        },
        "id": "4Q_Ax8-x7PZF",
        "outputId": "0747f0b7-45f9-45d0-ec5d-b1c44c4f9581"
      },
      "execution_count": 51,
      "outputs": [
        {
          "output_type": "stream",
          "name": "stdout",
          "text": [
            "Number of dimensions: 2\n"
          ]
        }
      ]
    },
    {
      "cell_type": "markdown",
      "metadata": {
        "id": "NvcuJwkwc6QO"
      },
      "source": [
        "## Problem 3: multiply\n"
      ]
    },
    {
      "cell_type": "markdown",
      "metadata": {
        "id": "aJZCjS_UbCw5"
      },
      "source": [
        "Multiply all numbers in the array below by a number of your choice.  "
      ]
    },
    {
      "cell_type": "markdown",
      "metadata": {
        "id": "_wStQV5lZGpO"
      },
      "source": [
        "```python\n",
        "arr = np.arange(30)\n",
        "```"
      ]
    },
    {
      "cell_type": "code",
      "execution_count": 52,
      "metadata": {
        "id": "FaHn3sZFbodg"
      },
      "outputs": [],
      "source": [
        "arr = np.arange(30)\n"
      ]
    },
    {
      "cell_type": "code",
      "source": [
        "print(1231231**arr)"
      ],
      "metadata": {
        "colab": {
          "base_uri": "https://localhost:8080/"
        },
        "id": "NRZx-kS171Pr",
        "outputId": "e63d1656-7cda-4de8-9848-dffa10485fb1"
      },
      "execution_count": 53,
      "outputs": [
        {
          "output_type": "stream",
          "name": "stdout",
          "text": [
            "[                   1              1231231        1515929775361\n",
            "  1866459733247499391  3047355537111013889  4647696502781079423\n",
            "  5086966137482708737  7389072368900784767 -2514158363084278783\n",
            "  1513982432787305855   169310723474809089 -6043402378973353857\n",
            "  1909058332973534721  7670493267061160831  6425768048389372673\n",
            "  -799042720177484161 -4412467766194247679  1943653163991916927\n",
            "  8366816665448355073 -7944426086887312257  -736811715194011135\n",
            "  7001890924515166079  6895986163175288577 -4742110116430554497\n",
            "  1326239123266739201   936574061064138111 -3847757671660074751\n",
            " -4159569692159278977 -3147718904689428991  -398573662099254401]\n"
          ]
        }
      ]
    },
    {
      "cell_type": "markdown",
      "metadata": {
        "id": "8_9s82PwqI7j"
      },
      "source": [
        "## Problem 4: stats\n"
      ]
    },
    {
      "cell_type": "markdown",
      "metadata": {
        "id": "bzr_fEvxbGVx"
      },
      "source": [
        "Find the min, max, and mean and standard deviation for the array below."
      ]
    },
    {
      "cell_type": "markdown",
      "metadata": {
        "id": "gPzTmle4qif-"
      },
      "source": [
        "```python\n",
        "arr = np.random.normal(5,10,10000)\n",
        "```\n"
      ]
    },
    {
      "cell_type": "code",
      "execution_count": 54,
      "metadata": {
        "id": "4dA7btgebn4M"
      },
      "outputs": [],
      "source": [
        "arr = np.random.normal(5,10,10000)\n"
      ]
    },
    {
      "cell_type": "code",
      "source": [
        "arr.mean()\n"
      ],
      "metadata": {
        "colab": {
          "base_uri": "https://localhost:8080/"
        },
        "id": "tNitO-2_8Hkg",
        "outputId": "cc9ee701-4908-4f89-9606-9cbf3a489858"
      },
      "execution_count": 55,
      "outputs": [
        {
          "output_type": "execute_result",
          "data": {
            "text/plain": [
              "4.927477440973822"
            ]
          },
          "metadata": {},
          "execution_count": 55
        }
      ]
    },
    {
      "cell_type": "code",
      "source": [
        "arr.min()\n"
      ],
      "metadata": {
        "colab": {
          "base_uri": "https://localhost:8080/"
        },
        "id": "vc_M411a8OxC",
        "outputId": "95202569-8e53-4098-c8e8-5e9ef98f3fc9"
      },
      "execution_count": 56,
      "outputs": [
        {
          "output_type": "execute_result",
          "data": {
            "text/plain": [
              "-31.31253335674679"
            ]
          },
          "metadata": {},
          "execution_count": 56
        }
      ]
    },
    {
      "cell_type": "code",
      "source": [
        "arr.max()"
      ],
      "metadata": {
        "colab": {
          "base_uri": "https://localhost:8080/"
        },
        "id": "B9tn0G-E8P88",
        "outputId": "94496188-d4dd-416d-d4ea-9957e309f0be"
      },
      "execution_count": 57,
      "outputs": [
        {
          "output_type": "execute_result",
          "data": {
            "text/plain": [
              "42.89867767022286"
            ]
          },
          "metadata": {},
          "execution_count": 57
        }
      ]
    },
    {
      "cell_type": "markdown",
      "metadata": {
        "id": "GoRnhskdsae_"
      },
      "source": [
        "## Problem 5: filtering\n"
      ]
    },
    {
      "cell_type": "markdown",
      "metadata": {
        "id": "Xul2MDLNbI5i"
      },
      "source": [
        "### Part 1\n"
      ]
    },
    {
      "cell_type": "markdown",
      "metadata": {
        "id": "6TkMabyBbMtw"
      },
      "source": [
        "Create a 4X6 array with random integers between 0 and 10.  \n"
      ]
    },
    {
      "cell_type": "code",
      "execution_count": 62,
      "metadata": {
        "id": "IMD3awoabmbL",
        "colab": {
          "base_uri": "https://localhost:8080/"
        },
        "outputId": "90be08c3-8100-46ec-a8af-205e5ec6af01"
      },
      "outputs": [
        {
          "output_type": "execute_result",
          "data": {
            "text/plain": [
              "array([[6, 2, 3, 1, 4, 7],\n",
              "       [5, 9, 9, 0, 1, 1],\n",
              "       [0, 3, 2, 3, 8, 3],\n",
              "       [9, 8, 9, 7, 0, 8]])"
            ]
          },
          "metadata": {},
          "execution_count": 62
        }
      ],
      "source": [
        "fourxsix = np.random.randint(0, 10, (4,6))\n",
        "fourxsix"
      ]
    },
    {
      "cell_type": "markdown",
      "metadata": {
        "id": "mY6Y_QBjbWcL"
      },
      "source": [
        "### Part 2\n"
      ]
    },
    {
      "cell_type": "markdown",
      "metadata": {
        "id": "FxBbNLTkbOAr"
      },
      "source": [
        "Create a boolean array with `True` entries where the entries in your array are greater than 6\n"
      ]
    },
    {
      "cell_type": "code",
      "execution_count": 65,
      "metadata": {
        "id": "Xqs_SFUYbm7q",
        "colab": {
          "base_uri": "https://localhost:8080/"
        },
        "outputId": "e7533b12-52cb-49cd-ed10-553c9b46ac2a"
      },
      "outputs": [
        {
          "output_type": "execute_result",
          "data": {
            "text/plain": [
              "array([[6, 2, 3, 1, 4, 7],\n",
              "       [5, 9, 9, 0, 1, 1],\n",
              "       [0, 3, 2, 3, 8, 3],\n",
              "       [9, 8, 9, 7, 0, 8]])"
            ]
          },
          "metadata": {},
          "execution_count": 65
        }
      ],
      "source": [
        "filter = (fourxsix > 6)\n",
        "filter\n"
      ]
    },
    {
      "cell_type": "markdown",
      "metadata": {
        "id": "F4TT1tiWbPoa"
      },
      "source": [
        "### Part 3\n"
      ]
    },
    {
      "cell_type": "markdown",
      "metadata": {
        "id": "m0HAGIWVbQPH"
      },
      "source": [
        "Use your boolean array as a filter to pull out the entries greater than 6"
      ]
    },
    {
      "cell_type": "code",
      "execution_count": 66,
      "metadata": {
        "id": "NH8JTAKFsaDO",
        "colab": {
          "base_uri": "https://localhost:8080/"
        },
        "outputId": "4d914ef4-c081-42de-aae9-9a96bf8c4937"
      },
      "outputs": [
        {
          "output_type": "execute_result",
          "data": {
            "text/plain": [
              "array([7, 9, 9, 8, 9, 8, 9, 7, 8])"
            ]
          },
          "metadata": {},
          "execution_count": 66
        }
      ],
      "source": [
        "fourxsix[filter]"
      ]
    }
  ],
  "metadata": {
    "colab": {
      "provenance": [],
      "include_colab_link": true
    },
    "kernelspec": {
      "display_name": "Python 3 (ipykernel)",
      "language": "python",
      "name": "python3"
    },
    "language_info": {
      "codemirror_mode": {
        "name": "ipython",
        "version": 3
      },
      "file_extension": ".py",
      "mimetype": "text/x-python",
      "name": "python",
      "nbconvert_exporter": "python",
      "pygments_lexer": "ipython3",
      "version": "3.10.12"
    }
  },
  "nbformat": 4,
  "nbformat_minor": 0
}