{
  "cells": [
    {
      "cell_type": "markdown",
      "metadata": {
        "id": "view-in-github",
        "colab_type": "text"
      },
      "source": [
        "<a href=\"https://colab.research.google.com/github/bdugick89/Data-Science-Bootcamp/blob/main/2a_Conditionals_Exercises.ipynb\" target=\"_parent\"><img src=\"https://colab.research.google.com/assets/colab-badge.svg\" alt=\"Open In Colab\"/></a>"
      ]
    },
    {
      "cell_type": "markdown",
      "metadata": {
        "id": "Rx0lMGBJxSp8"
      },
      "source": [
        "# Conditionals Exercises"
      ]
    },
    {
      "cell_type": "markdown",
      "metadata": {
        "id": "hUa0UquRxjML"
      },
      "source": [
        "1. Print 'A is really BIG!' if a is greater than b.\n",
        "\n",
        "```python\n",
        "a = 900\n",
        "b = 7\n",
        "```"
      ]
    },
    {
      "cell_type": "code",
      "source": [
        "a = 900\n",
        "b = 7\n",
        "if a > b:\n",
        "  print('A is really BIG!')"
      ],
      "metadata": {
        "id": "jTxguoEBTk1b",
        "outputId": "a7f168a1-f670-4a89-8bd0-038d8e798abc",
        "colab": {
          "base_uri": "https://localhost:8080/"
        }
      },
      "execution_count": 4,
      "outputs": [
        {
          "output_type": "stream",
          "name": "stdout",
          "text": [
            "A is really BIG!\n"
          ]
        }
      ]
    },
    {
      "cell_type": "code",
      "execution_count": null,
      "metadata": {
        "id": "n-spY1eOxQFv"
      },
      "outputs": [],
      "source": []
    },
    {
      "cell_type": "markdown",
      "metadata": {
        "id": "_JXQWDunxt66"
      },
      "source": [
        "2. If a and b are equal print 'These things are the same'.  Otherwise, print 'These things are not the same'.\n",
        "\n",
        "```python\n",
        "a = 2\n",
        "b = 4\n",
        "```"
      ]
    },
    {
      "cell_type": "code",
      "execution_count": 8,
      "metadata": {
        "id": "fJcu66FSx2XW",
        "outputId": "2374246d-b8a0-4950-d859-3d93c9843cdb",
        "colab": {
          "base_uri": "https://localhost:8080/"
        }
      },
      "outputs": [
        {
          "output_type": "stream",
          "name": "stdout",
          "text": [
            "these are not the same\n"
          ]
        }
      ],
      "source": [
        "a = 2\n",
        "b = 4\n",
        "\n",
        "if a == b:\n",
        "  print('these things are the same')\n",
        "else:\n",
        "  print('these are not the same')"
      ]
    },
    {
      "cell_type": "markdown",
      "metadata": {
        "id": "WuB_pg_jzaZI"
      },
      "source": [
        "3. If a is greater than b AND b is greater than c, print your own silly sentence.\n",
        "\n",
        "```python\n",
        "a = 9\n",
        "b = 5\n",
        "c = 2\n",
        "```"
      ]
    },
    {
      "cell_type": "code",
      "execution_count": 12,
      "metadata": {
        "id": "-v_or2BizZoR",
        "outputId": "bf567928-20fe-4784-db00-90efcad12afe",
        "colab": {
          "base_uri": "https://localhost:8080/"
        }
      },
      "outputs": [
        {
          "output_type": "stream",
          "name": "stdout",
          "text": [
            "print you own silly sentence\n"
          ]
        }
      ],
      "source": [
        "a = 9\n",
        "b = 5\n",
        "c = 2\n",
        "\n",
        "if a > b and b > c :\n",
        "  print('print you own silly sentence')"
      ]
    },
    {
      "cell_type": "markdown",
      "metadata": {
        "id": "iNxwSd5Ez54Z"
      },
      "source": [
        "[link text](https://)4. If your favorite ice cream is in the list of flavors, print 'I am so happy!'\n",
        "\n",
        "```python\n",
        "flavors = [\n",
        "  'chocolate',\n",
        "  'vanilla',\n",
        "  'strawberry',\n",
        "  'chocolate-chip',\n",
        "  \"Ben and Jerry's Half-Baked\",\n",
        "]\n",
        "```"
      ]
    },
    {
      "cell_type": "code",
      "execution_count": 17,
      "metadata": {
        "id": "X5SeaBvPz9Pr",
        "outputId": "5107241b-4cf4-41ac-ebe2-63533fdabb22",
        "colab": {
          "base_uri": "https://localhost:8080/"
        }
      },
      "outputs": [
        {
          "output_type": "stream",
          "name": "stdout",
          "text": [
            "Yah\n"
          ]
        }
      ],
      "source": [
        "flavors = [\n",
        "  'chocolate',\n",
        "  'vanilla',\n",
        "  'strawberry',\n",
        "  'chocolate-chip',\n",
        "  \"Ben and Jerry's Half-Baked\",\n",
        "]\n",
        "\n",
        "favorite_flavor = 'vanilla'\n",
        "\n",
        "if favorite_flavor in flavors:\n",
        "  print('Yah')\n",
        "else:\n",
        "  print('sad guy')"
      ]
    },
    {
      "cell_type": "markdown",
      "metadata": {
        "id": "eIaPk_4ox5Hv"
      },
      "source": [
        "5. Make a list called mypets with your pets (real or imaginary) as elements.  \n",
        "- if mypets contains 'dog' and 'cat', print 'I am a dog person and a cat person'\n",
        "- else if mypets contains 'dog', print 'I am a dog person'\n",
        "- else if mypets contains 'cat', print 'I am a cat person'\n",
        "- otherwise, print 'I am not a cat person or a dog person'\n",
        "\n",
        "```python\n",
        "mypets = [  ]\n",
        "```\n"
      ]
    },
    {
      "cell_type": "code",
      "execution_count": 33,
      "metadata": {
        "id": "zERIi0eOyola",
        "outputId": "787eb7ca-79da-486e-8c4f-18731c6422fc",
        "colab": {
          "base_uri": "https://localhost:8080/"
        }
      },
      "outputs": [
        {
          "output_type": "stream",
          "name": "stdout",
          "text": [
            "['dog', 'cats', 'fish', 'parrot']\n",
            "I am not a cat person or a dog person\n"
          ]
        }
      ],
      "source": [
        "my_pets = ['dog cat fish parrot']\n",
        "words = mypets[0].split()\n",
        "\n",
        "print(words)\n",
        "\n",
        "if 'dog' and 'cat' in my_pets:\n",
        "  print('i am a dog person')\n",
        "elif 'dog' in my_pets:\n",
        "  print('I am a dog person')\n",
        "elif 'cat'in my_pets:\n",
        "  print('i am a cat person')\n",
        "else :\n",
        "  print('I am not a cat person or a dog person')"
      ]
    }
  ],
  "metadata": {
    "colab": {
      "provenance": [],
      "include_colab_link": true
    },
    "kernelspec": {
      "display_name": "Python 3",
      "name": "python3"
    }
  },
  "nbformat": 4,
  "nbformat_minor": 0
}