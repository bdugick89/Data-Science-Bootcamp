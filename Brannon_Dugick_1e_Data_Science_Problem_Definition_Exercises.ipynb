{
  "cells": [
    {
      "cell_type": "markdown",
      "metadata": {
        "id": "view-in-github",
        "colab_type": "text"
      },
      "source": [
        "<a href=\"https://colab.research.google.com/github/bdugick89/Data-Science-Bootcamp/blob/main/Brannon_Dugick_1e_Data_Science_Problem_Definition_Exercises.ipynb\" target=\"_parent\"><img src=\"https://colab.research.google.com/assets/colab-badge.svg\" alt=\"Open In Colab\"/></a>"
      ]
    },
    {
      "cell_type": "markdown",
      "source": [
        "# Data Science Problem Definition\n"
      ],
      "metadata": {
        "id": "awgH2l8uBh0A"
      }
    },
    {
      "cell_type": "markdown",
      "source": [
        "For each item develop a well-worded data science problem statement.  Your answer should include what type of data science problem this is ( supervised vs unsupervised ) and then whether it is a classification, regression, or clustering problem.  If it is a supervised problem, you should state what the target of the prediction is."
      ],
      "metadata": {
        "id": "Czgo5Bc0B0wy"
      }
    },
    {
      "cell_type": "markdown",
      "source": [
        "1. Zillow wants you to predict real estate sales prices. They have a large\n",
        "database of 12 years of home features accompanied by the corresponding\n",
        "sales prices.\n",
        "\n"
      ],
      "metadata": {
        "id": "52NQyS51Bx5Z"
      }
    },
    {
      "cell_type": "markdown",
      "source": [
        "Statement:\n",
        "1. supervised, regression\n",
        "1. home price\n",
        "\n",
        "  Using Zillow's 12-year history of home prices, we will use a regression model to predict home prices.\n",
        "\n"
      ],
      "metadata": {
        "id": "94RK_mqPB7Ef"
      }
    },
    {
      "cell_type": "markdown",
      "source": [
        "Amazon wants you to develop a code that upsells (add additional items to the\n",
        "customer’s order) based on what items have been viewed and bought by that\n",
        "customer over the past 2 years.\n",
        "\n",
        "\n",
        "\n"
      ],
      "metadata": {
        "id": "nmzdvqyNBxJr"
      }
    },
    {
      "cell_type": "markdown",
      "source": [
        "Statement:\n",
        "1. supervised, regression\n",
        "1. Customer Purchases\n",
        "\n",
        "  Using Amazons' customer's navigation event and puchase history over the past 2 years, we will use a regression model to suggest additional items of interest to the customers.\n"
      ],
      "metadata": {
        "id": "36n5bLo3VE9e"
      }
    },
    {
      "cell_type": "markdown",
      "source": [
        "**Statement**\n"
      ],
      "metadata": {
        "id": "NgzYHk3VB6iD"
      }
    },
    {
      "cell_type": "markdown",
      "source": [
        "3. MGM wants to know what features of a movie seem to increase the movie’s\n",
        "box office income. They have a large database of previously released movies\n",
        "accompanied by the resulting box office revenue.\n",
        "\n"
      ],
      "metadata": {
        "id": "n9w9ufidBwKc"
      }
    },
    {
      "cell_type": "markdown",
      "source": [
        "\n",
        "Statement:\n",
        "1. Unsupervised, Clustering\n",
        "1. box office revenue\n",
        "\n",
        "  Using MGM's movie and financials database we will use a unsupervised clustering model to understand movie features that increase revenue."
      ],
      "metadata": {
        "id": "JvYP9dgyslNv"
      }
    },
    {
      "cell_type": "markdown",
      "source": [
        "**Statement**\n",
        "\n"
      ],
      "metadata": {
        "id": "wJzVA6TUB58s"
      }
    },
    {
      "cell_type": "markdown",
      "source": [
        "4. Spotify wants you to develop a method of predicting whether a customer is\n",
        "about to terminate their service BEFORE they terminate so that they can offer\n",
        "enticements to the customer to keep the service and not terminate (called\n",
        "‘churn’)\n",
        "\n"
      ],
      "metadata": {
        "id": "H2yNAHDABvGH"
      }
    },
    {
      "cell_type": "markdown",
      "source": [
        "Statement:\n",
        "1. Unsupervised, Clustering\n",
        "1. Customer Churn  \n",
        "\n",
        "  Using Spotify data we will use an unservised clustering model to predict  customer churn before attricition.\n"
      ],
      "metadata": {
        "id": "-gxX0jX-B5Rj"
      }
    },
    {
      "cell_type": "markdown",
      "source": [
        "5. Comcast wants you to develop a chat bot (automated customer service) to\n",
        "take text input and respond with the appropriate help and/or service\n",
        "response.\n",
        "\n",
        "Statement:\n",
        "1. Supervised, Classification\n",
        "1. Customer Service Chat bot\n",
        "\n",
        "  \n",
        "We will employ a supervised classification model to respond to customer inquiries appropriately, utilizing customer text input."
      ],
      "metadata": {
        "id": "X2Mln1gdBuLr"
      }
    },
    {
      "cell_type": "markdown",
      "source": [
        "Statement:\n"
      ],
      "metadata": {
        "id": "lR84SBENB4u-"
      }
    },
    {
      "cell_type": "markdown",
      "source": [
        "6. Instagram wants you to analyze images and output whether the image\n",
        "contains people, animals, scenery, or some other subject.\n"
      ],
      "metadata": {
        "id": "gx2HzDC8BtFH"
      }
    },
    {
      "cell_type": "markdown",
      "source": [
        "1. Supervised, Classification\n",
        "1. Image recognition\n",
        "\n",
        "We will employ a supervised classification model to indentify if images fall into the classification of people, animals, scenary, or others.\n",
        "\n"
      ],
      "metadata": {
        "id": "3XUbZJFDB32d"
      }
    }
  ],
  "metadata": {
    "colab": {
      "provenance": [],
      "include_colab_link": true
    },
    "kernelspec": {
      "display_name": "Python 3",
      "name": "python3"
    }
  },
  "nbformat": 4,
  "nbformat_minor": 0
}