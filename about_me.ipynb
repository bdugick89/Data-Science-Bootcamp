{
  "nbformat": 4,
  "nbformat_minor": 0,
  "metadata": {
    "colab": {
      "provenance": [],
      "toc_visible": true,
      "authorship_tag": "ABX9TyNAXF8UEoCkuRQjAJVUbFfk",
      "include_colab_link": true
    },
    "kernelspec": {
      "name": "python3",
      "display_name": "Python 3"
    },
    "language_info": {
      "name": "python"
    }
  },
  "cells": [
    {
      "cell_type": "markdown",
      "metadata": {
        "id": "view-in-github",
        "colab_type": "text"
      },
      "source": [
        "<a href=\"https://colab.research.google.com/github/bdugick89/Data-Science-Bootcamp/blob/main/about_me.ipynb\" target=\"_parent\"><img src=\"https://colab.research.google.com/assets/colab-badge.svg\" alt=\"Open In Colab\"/></a>"
      ]
    },
    {
      "cell_type": "markdown",
      "source": [
        "# Hi My name is Brannon\n"
      ],
      "metadata": {
        "id": "0fyfZmpLZuyY"
      }
    },
    {
      "cell_type": "markdown",
      "source": [
        "\n",
        "\n",
        "## My last name is Dugick\n",
        "\n",
        "**This is my bold text**\n",
        "\n",
        "*Check out my italic text*\n",
        "\n",
        "Click Here [Here is my mega cool link.]( https://www.deepdivecoding.com )\n",
        "\n",
        "\n",
        "- Check this out 2\n",
        "\n",
        "> Indented block\n",
        "\n",
        "\n",
        "- Then This\n",
        "- Finally This\n",
        "\n",
        "\n",
        "1. First Value\n",
        "1. Second Value\n",
        "1. Third Value\n",
        "\n",
        "\n",
        "\n",
        "City| State 2| Region 3|\n",
        " - | - | -\n",
        "Dallas | Texas | South\n",
        "Albuquerque| New Mexio | South\n",
        "\n",
        "Check out my super cool image:\n",
        "<br>\n",
        "![Deep Dive powered by CNM Ingenuity](https://www.themartiniapp.com/_next/image?url=%2Fimages%2FBrannon_Headshot.png&w=640&q=75)\n",
        "\n",
        "<!DOCTYPE html>\n",
        "<html lang=\"en\">\n",
        "<head>\n",
        "  <meta charset=\"UTF-8\">\n",
        "  <meta name=\"viewport\" content=\"width=device-width, initial-scale=1.0\">\n",
        "  <title>Your Name</title>\n",
        "</head>\n",
        "<body>\n",
        "  <h1>About Me</h1>\n",
        "  <p>Why did you sign up for this bootcamp?</p>\n",
        "  <p>To have a good time</p>\n",
        "\n",
        "  <p>If you had your human body, but the head of an animal, what animal would you pick?</p>\n",
        "  <p> Dog</p>\n",
        "\n",
        "  <p>If you had to delete all but 3 apps from your smartphone, which ones would you keep?</p>\n",
        " <p>Instagram Instagram Instragram </p>\n",
        "\n",
        "  <p>As a kid, did you ever do something wrong but manage to pin it on your siblings? If so, what was it?</p>\n",
        "  <p>I got in trouble either way</p>\n",
        "\n",
        "  <p>What are your favorite podcasts? (Or if you're not a podcast person share your favorite TV show, music, or other category.)</p>\n",
        "  <p> Things you should know </p>\n",
        "\n",
        "  <p>Anything else you want to share - be creative and have fun!</p>\n",
        " <p> Im all out of love, im so lost without you</p>\n",
        "</body>\n",
        "</html>"
      ],
      "metadata": {
        "id": "NwuwTlqbjH2_"
      }
    },
    {
      "cell_type": "code",
      "source": [],
      "metadata": {
        "id": "oN77ATtZjKIp"
      },
      "execution_count": null,
      "outputs": []
    }
  ]
}