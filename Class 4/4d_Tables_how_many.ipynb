{
  "cells": [
    {
      "cell_type": "markdown",
      "metadata": {
        "id": "view-in-github",
        "colab_type": "text"
      },
      "source": [
        "<a href=\"https://colab.research.google.com/github/bdugick89/Data-Science-Bootcamp/blob/main/4d_Tables_how_many.ipynb\" target=\"_parent\"><img src=\"https://colab.research.google.com/assets/colab-badge.svg\" alt=\"Open In Colab\"/></a>"
      ]
    },
    {
      "cell_type": "markdown",
      "source": [
        "\n",
        "Given a table of data, how many ... ?\n",
        "\n",
        "```yaml\n",
        "columns:\n",
        "  identifier columns:\n",
        "  feature columns:\n",
        "    rows with nulls in each:\n",
        "  target columns:\n",
        "    rows with nulls in each:\n",
        "  categorical columns:\n",
        "    nominal columns:\n",
        "      rows with nulls in each:\n",
        "      categories in each:\n",
        "    ordinal columns:\n",
        "      rows with nulls in each:\n",
        "      categories in each:\n",
        "  numerical columns:\n",
        "    discreet columns:\n",
        "      rows with nulls in each:\n",
        "    continuous columns:\n",
        "      rows with nulls in each:\n",
        "  nested columns:\n",
        "rows:\n",
        "  rows with nulls:\n",
        "  duplicate rows:\n",
        "  missing rows:\n",
        "```\n",
        "\n",
        "\n",
        "\n"
      ],
      "metadata": {
        "id": "YRWmoxShb8QF"
      }
    },
    {
      "cell_type": "code",
      "source": [
        "import pandas as pd\n",
        "\n",
        "# Load the dataset\n",
        "# Replace 'your_dataset.csv' with the path to your dataset\n",
        "df = pd.read_csv('your_dataset.csv')\n",
        "\n",
        "# Count the number of columns\n",
        "num_columns = len(df.columns)\n",
        "\n",
        "# Identify identifier columns\n",
        "identifier_columns = []\n",
        "\n",
        "# Identify feature columns\n",
        "feature_columns = list(df.columns)\n",
        "\n",
        "# Identify target columns\n",
        "target_columns = []\n",
        "\n",
        "# Identify categorical columns\n",
        "categorical_columns = []\n",
        "\n",
        "# Identify nominal columns (categorical without order)\n",
        "nominal_columns = []\n",
        "\n",
        "# Identify ordinal columns (categorical with order)\n",
        "ordinal_columns = []\n",
        "\n",
        "# Identify numerical columns\n",
        "numerical_columns = []\n",
        "\n",
        "# Identify discrete columns\n",
        "discrete_columns = []\n",
        "\n",
        "# Identify continuous columns\n",
        "continuous_columns = []\n",
        "\n",
        "# Identify nested columns (e.g., lists, dictionaries)\n",
        "nested_columns = []\n",
        "\n",
        "# Count the number of rows\n",
        "num_rows = len(df)\n",
        "\n",
        "# Count the number of rows with nulls\n",
        "num_rows_with_nulls = df.isnull().any(axis=1).sum()\n",
        "\n",
        "# Count the number of duplicate rows\n",
        "num_duplicate_rows = df.duplicated().sum()\n",
        "\n",
        "# Count the number of missing rows (rows with all null values)\n",
        "num_missing_rows = df.isnull().all(axis=1).sum()\n",
        "\n",
        "# Output the results\n",
        "print(\"Columns:\")\n",
        "print(\"Total number of columns:\", num_columns)\n",
        "print(\"Identifier columns:\", identifier_columns)\n",
        "print(\"Feature columns:\", feature_columns)\n",
        "print(\"Target columns:\", target_columns)\n",
        "print(\"Categorical columns:\", categorical_columns)\n",
        "print(\"Nominal columns:\", nominal_columns)\n",
        "print(\"Ordinal columns:\", ordinal_columns)\n",
        "print(\"Numerical columns:\", numerical_columns)\n",
        "print(\"Discrete columns:\", discrete_columns)\n",
        "print(\"Continuous columns:\", continuous_columns)\n",
        "print(\"Nested columns:\", nested_columns)\n",
        "print(\"\\nRows:\")\n",
        "print(\"Total number of rows:\", num_rows)\n",
        "print(\"Rows with nulls:\", num_rows_with_nulls)\n",
        "print(\"Duplicate rows:\", num_duplicate_rows)\n",
        "print(\"Missing rows:\", num_missing_rows)\n"
      ],
      "metadata": {
        "id": "W1BaMhg7cDcB"
      },
      "execution_count": null,
      "outputs": []
    }
  ],
  "metadata": {
    "colab": {
      "provenance": [],
      "include_colab_link": true
    },
    "kernelspec": {
      "display_name": "Python 3",
      "name": "python3"
    },
    "language_info": {
      "name": "python"
    }
  },
  "nbformat": 4,
  "nbformat_minor": 0
}