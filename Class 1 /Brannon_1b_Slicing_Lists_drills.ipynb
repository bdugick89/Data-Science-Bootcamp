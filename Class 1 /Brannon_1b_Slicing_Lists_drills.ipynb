{
  "cells": [
    {
      "cell_type": "markdown",
      "metadata": {
        "id": "view-in-github",
        "colab_type": "text"
      },
      "source": [
        "<a href=\"https://colab.research.google.com/github/bdugick89/Data-Science-Bootcamp/blob/main/Brannon_1b_Slicing_Lists_drills.ipynb\" target=\"_parent\"><img src=\"https://colab.research.google.com/assets/colab-badge.svg\" alt=\"Open In Colab\"/></a>"
      ]
    },
    {
      "cell_type": "markdown",
      "metadata": {
        "id": "G_f5UJiQx-wD"
      },
      "source": [
        "# Slicing exercise"
      ]
    },
    {
      "cell_type": "markdown",
      "metadata": {
        "id": "fkNNQPQxyA8z"
      },
      "source": [
        "Below is a collection of several lists of numbers with the numbers 1, 2, and 3 embedded.\n",
        "\n",
        "Your task is two-fold:\n",
        "1. to come up with a slice syntax so that the result is the list `[1, 2, 3]`\n",
        "1. to do as many as you can in 5 minutes\n",
        "\n",
        "For example, here's the slice syntax for two of the lists:\n"
      ]
    },
    {
      "cell_type": "code",
      "execution_count": null,
      "metadata": {
        "colab": {
          "base_uri": "https://localhost:8080/"
        },
        "id": "BrEnrRiYys9o",
        "outputId": "c099fbd3-eec2-4fb9-c6ef-2d815eda6d5f"
      },
      "outputs": [
        {
          "output_type": "execute_result",
          "data": {
            "text/plain": [
              "[1, 2, 3]"
            ]
          },
          "metadata": {},
          "execution_count": 8
        }
      ],
      "source": [
        "line_001 = [50, 50, 50, 50, 1, 2, 3, 50, 50, 50, 50, 50, 50]\n",
        "line_001[4:7]\n",
        "\n",
        "\n",
        "line_001 = [50, 50,  1, 2, 3, 50, 50, 50]\n",
        "line_001 [2:5:]\n"
      ]
    },
    {
      "cell_type": "code",
      "execution_count": null,
      "metadata": {
        "colab": {
          "base_uri": "https://localhost:8080/"
        },
        "id": "_jdf_jFgyxsP",
        "outputId": "cebe38f2-f44c-4954-87a7-7442b81a82c3"
      },
      "outputs": [
        {
          "output_type": "execute_result",
          "data": {
            "text/plain": [
              "[1, 2, 3]"
            ]
          },
          "metadata": {},
          "execution_count": 21
        }
      ],
      "source": [
        "line_013 = [50, 50, 3, 10, 2, 10, 1, 50, 50, 50, 50, 50, 50, 50, 50]\n",
        "line_013[6:1:-2]\n",
        "\n",
        "\n",
        "\n",
        "\n",
        "line_013 = [50, 3, 10, 2, 10, 1, 50, 50, 50, 50, 50]\n",
        "line_013[5:0:-2]\n",
        "\n",
        "\n"
      ]
    },
    {
      "cell_type": "markdown",
      "metadata": {
        "id": "a31_Ikhhy8H9"
      },
      "source": [
        "The full collection:\n"
      ]
    },
    {
      "cell_type": "code",
      "execution_count": null,
      "metadata": {
        "colab": {
          "base_uri": "https://localhost:8080/"
        },
        "id": "KeslWSjYzDEO",
        "outputId": "a113f4d8-68ed-4a31-b266-6a0dff854250"
      },
      "outputs": [
        {
          "output_type": "execute_result",
          "data": {
            "text/plain": [
              "[1, 2, 3]"
            ]
          },
          "metadata": {},
          "execution_count": 26
        }
      ],
      "source": [
        "line_001 = [50, 50, 50, 50, 1, 2, 3, 50, 50, 50, 50, 50, 50]\n",
        "line_001[4:7]\n",
        "\n",
        "\n",
        "\n",
        "\n",
        "line_001 = [50, 50, 50, 50, 50, 50,50, 50,1, 2, 3, 50,50, 50,50, 50, 50]\n",
        "line_001[8:11]"
      ]
    },
    {
      "cell_type": "code",
      "source": [
        "line_002 = [50, 1, 2, 3, 50, 50, 50, 50, 50, 50, 50, 50, 50]\n",
        "line_002 [1:4]\n"
      ],
      "metadata": {
        "id": "bf5YHh43c4xM"
      },
      "execution_count": null,
      "outputs": []
    },
    {
      "cell_type": "code",
      "source": [
        "line_003 = [50, 50, 50, 1, 10, 10, 10, 2, 10, 10, 10, 3, 50, 50, 50, 50, 50, 50, 50]\n",
        "line_003 [3:12:4]\n",
        "\n"
      ],
      "metadata": {
        "colab": {
          "base_uri": "https://localhost:8080/"
        },
        "id": "55D3FSvkdE2m",
        "outputId": "4de90ebd-c152-4347-843d-934d40a73f71"
      },
      "execution_count": null,
      "outputs": [
        {
          "output_type": "execute_result",
          "data": {
            "text/plain": [
              "[1, 2, 3]"
            ]
          },
          "metadata": {},
          "execution_count": 48
        }
      ]
    },
    {
      "cell_type": "code",
      "source": [
        "\n",
        "line_004 = [50, 50, 50, 50, 50, 50, 50, 50, 1, 10, 2, 10, 3, 50, 50]\n",
        "line_004 [8:13:2]"
      ],
      "metadata": {
        "colab": {
          "base_uri": "https://localhost:8080/"
        },
        "id": "9Bpe1550d93T",
        "outputId": "d4be5652-d871-44f0-cb7e-1a236dadde99"
      },
      "execution_count": null,
      "outputs": [
        {
          "output_type": "execute_result",
          "data": {
            "text/plain": [
              "[1, 2, 3]"
            ]
          },
          "metadata": {},
          "execution_count": 53
        }
      ]
    },
    {
      "cell_type": "code",
      "source": [
        "line_005 = [50, 50, 50, 50, 50, 50, 50, 50, 50, 3, 2, 1, 50]\n",
        "line_005 [11:8:-1]"
      ],
      "metadata": {
        "colab": {
          "base_uri": "https://localhost:8080/"
        },
        "id": "th8b1OCueaSs",
        "outputId": "f4f49029-7824-4106-d0e2-5472447472c2"
      },
      "execution_count": null,
      "outputs": [
        {
          "output_type": "execute_result",
          "data": {
            "text/plain": [
              "[1, 2, 3]"
            ]
          },
          "metadata": {},
          "execution_count": 58
        }
      ]
    },
    {
      "cell_type": "code",
      "source": [
        "line_006 = [50, 50, 3, 2, 1, 50, 50, 50, 50, 50, 50, 50, 50]\n",
        "for index, value in enumerate(line_006):\n",
        "    print(f\"Index: {index}, Value: {value}\")\n",
        "\n",
        "line_006 [4:1:-1]"
      ],
      "metadata": {
        "colab": {
          "base_uri": "https://localhost:8080/"
        },
        "id": "OEjbV9ZUfHFu",
        "outputId": "f0369637-9f23-405f-81dd-a8b8da03dcc2"
      },
      "execution_count": null,
      "outputs": [
        {
          "output_type": "execute_result",
          "data": {
            "text/plain": [
              "[1, 2, 3]"
            ]
          },
          "metadata": {},
          "execution_count": 63
        }
      ]
    },
    {
      "cell_type": "code",
      "source": [
        "line_007 = [50, 50, 1, 10, 10, 10, 2, 10, 10, 10, 3, 50, 50, 50, 50, 50, 50, 50, 50]\n",
        "\n",
        "for index, value in enumerate(line_007):\n",
        "    print(f\"Index: {index}, Value: {value}\")\n",
        "\n",
        "\n",
        "line_007[2:11:4]"
      ],
      "metadata": {
        "colab": {
          "base_uri": "https://localhost:8080/"
        },
        "id": "IRcHclOBfsW3",
        "outputId": "9cd7ae6b-9fb6-4a32-ec7d-ec252bcf2a9b"
      },
      "execution_count": null,
      "outputs": [
        {
          "output_type": "stream",
          "name": "stdout",
          "text": [
            "Index: 0, Value: 50\n",
            "Index: 1, Value: 50\n",
            "Index: 2, Value: 1\n",
            "Index: 3, Value: 10\n",
            "Index: 4, Value: 10\n",
            "Index: 5, Value: 10\n",
            "Index: 6, Value: 2\n",
            "Index: 7, Value: 10\n",
            "Index: 8, Value: 10\n",
            "Index: 9, Value: 10\n",
            "Index: 10, Value: 3\n",
            "Index: 11, Value: 50\n",
            "Index: 12, Value: 50\n",
            "Index: 13, Value: 50\n",
            "Index: 14, Value: 50\n",
            "Index: 15, Value: 50\n",
            "Index: 16, Value: 50\n",
            "Index: 17, Value: 50\n",
            "Index: 18, Value: 50\n"
          ]
        },
        {
          "output_type": "execute_result",
          "data": {
            "text/plain": [
              "[1, 2, 3]"
            ]
          },
          "metadata": {},
          "execution_count": 73
        }
      ]
    },
    {
      "cell_type": "code",
      "source": [
        "\n",
        "line_008 = [50, 50, 50, 50, 1, 10, 10, 2, 10, 10, 3, 50, 50, 50, 50, 50, 50]\n",
        "\n",
        "for index, value in enumerate(line_008):\n",
        "    print(f\"Index: {index}, Value: {value}\")\n",
        "\n",
        "line_008[4:11:3]"
      ],
      "metadata": {
        "colab": {
          "base_uri": "https://localhost:8080/"
        },
        "id": "mEHCJZ1yge6-",
        "outputId": "6d888064-2d1f-454c-93cc-cbb544178166"
      },
      "execution_count": null,
      "outputs": [
        {
          "output_type": "stream",
          "name": "stdout",
          "text": [
            "Index: 0, Value: 50\n",
            "Index: 1, Value: 50\n",
            "Index: 2, Value: 50\n",
            "Index: 3, Value: 50\n",
            "Index: 4, Value: 1\n",
            "Index: 5, Value: 10\n",
            "Index: 6, Value: 10\n",
            "Index: 7, Value: 2\n",
            "Index: 8, Value: 10\n",
            "Index: 9, Value: 10\n",
            "Index: 10, Value: 3\n",
            "Index: 11, Value: 50\n",
            "Index: 12, Value: 50\n",
            "Index: 13, Value: 50\n",
            "Index: 14, Value: 50\n",
            "Index: 15, Value: 50\n",
            "Index: 16, Value: 50\n"
          ]
        },
        {
          "output_type": "execute_result",
          "data": {
            "text/plain": [
              "[1, 2, 3]"
            ]
          },
          "metadata": {},
          "execution_count": 82
        }
      ]
    },
    {
      "cell_type": "code",
      "source": [
        "line_009 = [50, 50, 50, 50, 50, 50, 50, 1, 2, 3, 50, 50, 50]\n",
        "for index, value in enumerate(line_009):\n",
        "    print(f\"Index: {index}, Value: {value}\")\n",
        "\n",
        "line_009[7:10:1]"
      ],
      "metadata": {
        "colab": {
          "base_uri": "https://localhost:8080/"
        },
        "id": "RdECWRyVhIG3",
        "outputId": "985ce1ad-ec6c-4683-831b-bfacd6f25819"
      },
      "execution_count": null,
      "outputs": [
        {
          "output_type": "stream",
          "name": "stdout",
          "text": [
            "Index: 0, Value: 50\n",
            "Index: 1, Value: 50\n",
            "Index: 2, Value: 50\n",
            "Index: 3, Value: 50\n",
            "Index: 4, Value: 50\n",
            "Index: 5, Value: 50\n",
            "Index: 6, Value: 50\n",
            "Index: 7, Value: 1\n",
            "Index: 8, Value: 2\n",
            "Index: 9, Value: 3\n",
            "Index: 10, Value: 50\n",
            "Index: 11, Value: 50\n",
            "Index: 12, Value: 50\n"
          ]
        },
        {
          "output_type": "execute_result",
          "data": {
            "text/plain": [
              "[1, 2, 3]"
            ]
          },
          "metadata": {},
          "execution_count": 87
        }
      ]
    },
    {
      "cell_type": "code",
      "source": [
        "line_010 = [50, 50, 1, 10, 10, 2, 10, 10, 3, 50, 50, 50, 50, 50, 50, 50, 50]\n",
        "for index, value in enumerate(line_010):\n",
        "    print(f\"Index: {index}, Value: {value}\")\n",
        "\n",
        "line_010[2:9:3]"
      ],
      "metadata": {
        "colab": {
          "base_uri": "https://localhost:8080/"
        },
        "id": "O6oAMm9Ahz8_",
        "outputId": "52e61ec1-0814-413a-938b-b22d056dcff0"
      },
      "execution_count": null,
      "outputs": [
        {
          "output_type": "stream",
          "name": "stdout",
          "text": [
            "Index: 0, Value: 50\n",
            "Index: 1, Value: 50\n",
            "Index: 2, Value: 1\n",
            "Index: 3, Value: 10\n",
            "Index: 4, Value: 10\n",
            "Index: 5, Value: 2\n",
            "Index: 6, Value: 10\n",
            "Index: 7, Value: 10\n",
            "Index: 8, Value: 3\n",
            "Index: 9, Value: 50\n",
            "Index: 10, Value: 50\n",
            "Index: 11, Value: 50\n",
            "Index: 12, Value: 50\n",
            "Index: 13, Value: 50\n",
            "Index: 14, Value: 50\n",
            "Index: 15, Value: 50\n",
            "Index: 16, Value: 50\n"
          ]
        },
        {
          "output_type": "execute_result",
          "data": {
            "text/plain": [
              "[1, 2, 3]"
            ]
          },
          "metadata": {},
          "execution_count": 89
        }
      ]
    },
    {
      "cell_type": "code",
      "source": [
        "line_011 = [50, 50, 50, 50, 50, 1, 10, 10, 10, 2, 10, 10, 10, 3, 50, 50, 50, 50, 50]\n",
        "for index, value in enumerate(line_011):\n",
        "    print(f\"Index: {index}, Value: {value}\")\n",
        "\n",
        "line_011[5:14:4]\n"
      ],
      "metadata": {
        "colab": {
          "base_uri": "https://localhost:8080/"
        },
        "id": "ua8qoUP8iBWc",
        "outputId": "85698cc1-6abe-4146-a875-7e80ba5b17f7"
      },
      "execution_count": null,
      "outputs": [
        {
          "output_type": "stream",
          "name": "stdout",
          "text": [
            "Index: 0, Value: 50\n",
            "Index: 1, Value: 50\n",
            "Index: 2, Value: 50\n",
            "Index: 3, Value: 50\n",
            "Index: 4, Value: 50\n",
            "Index: 5, Value: 1\n",
            "Index: 6, Value: 10\n",
            "Index: 7, Value: 10\n",
            "Index: 8, Value: 10\n",
            "Index: 9, Value: 2\n",
            "Index: 10, Value: 10\n",
            "Index: 11, Value: 10\n",
            "Index: 12, Value: 10\n",
            "Index: 13, Value: 3\n",
            "Index: 14, Value: 50\n",
            "Index: 15, Value: 50\n",
            "Index: 16, Value: 50\n",
            "Index: 17, Value: 50\n",
            "Index: 18, Value: 50\n"
          ]
        },
        {
          "output_type": "execute_result",
          "data": {
            "text/plain": [
              "[1, 2, 3]"
            ]
          },
          "metadata": {},
          "execution_count": 92
        }
      ]
    },
    {
      "cell_type": "code",
      "source": [
        "line_012 = [50, 50, 50, 50, 50, 50, 50, 3, 10, 10, 10, 2, 10, 10, 10, 1, 50, 50, 50]\n",
        "for index, value in enumerate(line_012):\n",
        "    print(f\"Index: {index}, Value: {value}\")\n",
        "\n",
        "line_012[15:6:-4]"
      ],
      "metadata": {
        "colab": {
          "base_uri": "https://localhost:8080/"
        },
        "id": "jxeSA-QFit3k",
        "outputId": "89d93774-1ee3-4f9c-8c4f-4fbec6b1829f"
      },
      "execution_count": null,
      "outputs": [
        {
          "output_type": "stream",
          "name": "stdout",
          "text": [
            "Index: 0, Value: 50\n",
            "Index: 1, Value: 50\n",
            "Index: 2, Value: 50\n",
            "Index: 3, Value: 50\n",
            "Index: 4, Value: 50\n",
            "Index: 5, Value: 50\n",
            "Index: 6, Value: 50\n",
            "Index: 7, Value: 3\n",
            "Index: 8, Value: 10\n",
            "Index: 9, Value: 10\n",
            "Index: 10, Value: 10\n",
            "Index: 11, Value: 2\n",
            "Index: 12, Value: 10\n",
            "Index: 13, Value: 10\n",
            "Index: 14, Value: 10\n",
            "Index: 15, Value: 1\n",
            "Index: 16, Value: 50\n",
            "Index: 17, Value: 50\n",
            "Index: 18, Value: 50\n"
          ]
        },
        {
          "output_type": "execute_result",
          "data": {
            "text/plain": [
              "[1, 2, 3]"
            ]
          },
          "metadata": {},
          "execution_count": 96
        }
      ]
    },
    {
      "cell_type": "code",
      "source": [
        "line_012 = [50, 50, 50, 50, 50, 50, 50, 3, 10, 10, 10, 2, 10, 10, 10, 1, 50, 50, 50]\n",
        "for index, value in enumerate(line_012):\n",
        "    print(f\"Index: {index}, Value: {value}\")\n",
        "\n",
        "line_012 [15:6:-4]"
      ],
      "metadata": {
        "colab": {
          "base_uri": "https://localhost:8080/"
        },
        "id": "CDfJFVnpjDgg",
        "outputId": "a56fd241-ef08-438e-beff-31ac618b5600"
      },
      "execution_count": null,
      "outputs": [
        {
          "output_type": "stream",
          "name": "stdout",
          "text": [
            "Index: 0, Value: 50\n",
            "Index: 1, Value: 50\n",
            "Index: 2, Value: 50\n",
            "Index: 3, Value: 50\n",
            "Index: 4, Value: 50\n",
            "Index: 5, Value: 50\n",
            "Index: 6, Value: 50\n",
            "Index: 7, Value: 3\n",
            "Index: 8, Value: 10\n",
            "Index: 9, Value: 10\n",
            "Index: 10, Value: 10\n",
            "Index: 11, Value: 2\n",
            "Index: 12, Value: 10\n",
            "Index: 13, Value: 10\n",
            "Index: 14, Value: 10\n",
            "Index: 15, Value: 1\n",
            "Index: 16, Value: 50\n",
            "Index: 17, Value: 50\n",
            "Index: 18, Value: 50\n"
          ]
        },
        {
          "output_type": "execute_result",
          "data": {
            "text/plain": [
              "[1, 2, 3]"
            ]
          },
          "metadata": {},
          "execution_count": 98
        }
      ]
    },
    {
      "cell_type": "code",
      "source": [
        "line_013 = [50, 50, 3, 10, 2, 10, 1, 50, 50, 50, 50, 50, 50, 50, 50]\n",
        "for index, value in enumerate(line_013):\n",
        "    print(f\"Index: {index}, Value: {value}\")\n",
        "line_013[6:1:-2]"
      ],
      "metadata": {
        "colab": {
          "base_uri": "https://localhost:8080/"
        },
        "id": "tDrljq42kE_g",
        "outputId": "2eed1971-e961-41e7-a930-6ba176ed9211"
      },
      "execution_count": null,
      "outputs": [
        {
          "output_type": "stream",
          "name": "stdout",
          "text": [
            "Index: 0, Value: 50\n",
            "Index: 1, Value: 50\n",
            "Index: 2, Value: 3\n",
            "Index: 3, Value: 10\n",
            "Index: 4, Value: 2\n",
            "Index: 5, Value: 10\n",
            "Index: 6, Value: 1\n",
            "Index: 7, Value: 50\n",
            "Index: 8, Value: 50\n",
            "Index: 9, Value: 50\n",
            "Index: 10, Value: 50\n",
            "Index: 11, Value: 50\n",
            "Index: 12, Value: 50\n",
            "Index: 13, Value: 50\n",
            "Index: 14, Value: 50\n"
          ]
        },
        {
          "output_type": "execute_result",
          "data": {
            "text/plain": [
              "[1, 2, 3]"
            ]
          },
          "metadata": {},
          "execution_count": 100
        }
      ]
    },
    {
      "cell_type": "code",
      "source": [
        "line_014 = [50, 50, 50, 50, 50, 1, 10, 2, 10, 3, 50, 50, 50, 50, 50]\n",
        "for index, value in enumerate(line_014):\n",
        "    print(f\"Index: {index}, Value: {value}\")\n",
        "line_014[5:10:2]"
      ],
      "metadata": {
        "colab": {
          "base_uri": "https://localhost:8080/"
        },
        "id": "-4aeH93Br-3w",
        "outputId": "313bdd02-78f5-41b0-f46c-8429302999dc"
      },
      "execution_count": null,
      "outputs": [
        {
          "output_type": "stream",
          "name": "stdout",
          "text": [
            "Index: 0, Value: 50\n",
            "Index: 1, Value: 50\n",
            "Index: 2, Value: 50\n",
            "Index: 3, Value: 50\n",
            "Index: 4, Value: 50\n",
            "Index: 5, Value: 1\n",
            "Index: 6, Value: 10\n",
            "Index: 7, Value: 2\n",
            "Index: 8, Value: 10\n",
            "Index: 9, Value: 3\n",
            "Index: 10, Value: 50\n",
            "Index: 11, Value: 50\n",
            "Index: 12, Value: 50\n",
            "Index: 13, Value: 50\n",
            "Index: 14, Value: 50\n"
          ]
        },
        {
          "output_type": "execute_result",
          "data": {
            "text/plain": [
              "[1, 2, 3]"
            ]
          },
          "metadata": {},
          "execution_count": 103
        }
      ]
    },
    {
      "cell_type": "code",
      "source": [
        "line_015 = [50, 50, 50, 50, 1, 10, 10, 10, 2, 10, 10, 10, 3, 50, 50, 50, 50, 50, 50]\n",
        "for index, value in enumerate(line_015):\n",
        "    print(f\"Index: {index}, Value: {value}\")\n",
        "line_015 [4:13:4]"
      ],
      "metadata": {
        "colab": {
          "base_uri": "https://localhost:8080/"
        },
        "id": "2iPdruUPsL_d",
        "outputId": "34d11161-424c-465c-a9d1-0e029b9aeaf4"
      },
      "execution_count": null,
      "outputs": [
        {
          "output_type": "execute_result",
          "data": {
            "text/plain": [
              "[1, 2, 3]"
            ]
          },
          "metadata": {},
          "execution_count": 106
        }
      ]
    },
    {
      "cell_type": "code",
      "execution_count": null,
      "metadata": {
        "id": "Tq-kEou0GUcp"
      },
      "outputs": [],
      "source": [
        "\n",
        "line_016 = [50, 50, 50, 50, 50, 50, 1, 10, 10, 2, 10, 10, 3, 50, 50, 50, 50]\n",
        "line_017 = [50, 50, 50, 3, 2, 1, 50, 50, 50, 50, 50, 50, 50]\n",
        "line_018 = [50, 50, 1, 2, 3, 50, 50, 50, 50, 50, 50, 50, 50]\n",
        "line_019 = [50, 50, 50, 1, 2, 3, 50, 50, 50, 50, 50, 50, 50]\n",
        "line_020 = [50, 50, 50, 50, 3, 2, 1, 50, 50, 50, 50, 50, 50]\n",
        "line_021 = [50, 1, 10, 2, 10, 3, 50, 50, 50, 50, 50, 50, 50, 50, 50]\n",
        "line_022 = [50, 50, 50, 50, 50, 1, 2, 3, 50, 50, 50, 50, 50]\n",
        "line_023 = [50, 50, 50, 50, 50, 50, 3, 10, 10, 10, 2, 10, 10, 10, 1, 50, 50, 50, 50]\n",
        "line_024 = [50, 50, 50, 50, 50, 50, 50, 50, 50, 1, 2, 3, 50]\n",
        "line_025 = [50, 1, 10, 10, 10, 2, 10, 10, 10, 3, 50, 50, 50, 50, 50, 50, 50, 50, 50]\n",
        "line_026 = [1, 2, 3, 50, 50, 50, 50, 50, 50, 50, 50, 50, 50]\n",
        "line_027 = [50, 50, 50, 50, 50, 50, 50, 3, 10, 10, 2, 10, 10, 1, 50, 50, 50]\n",
        "line_028 = [50, 50, 3, 10, 10, 2, 10, 10, 1, 50, 50, 50, 50, 50, 50, 50, 50]\n",
        "line_029 = [50, 50, 50, 50, 3, 10, 10, 10, 2, 10, 10, 10, 1, 50, 50, 50, 50, 50, 50]\n",
        "line_030 = [50, 50, 50, 50, 50, 50, 50, 50, 50, 1, 10, 2, 10, 3, 50]\n",
        "line_031 = [50, 50, 50, 50, 50, 50, 50, 1, 10, 2, 10, 3, 50, 50, 50]\n",
        "line_032 = [50, 50, 50, 50, 1, 10, 2, 10, 3, 50, 50, 50, 50, 50, 50]\n",
        "line_033 = [1, 10, 10, 10, 2, 10, 10, 10, 3, 50, 50, 50, 50, 50, 50, 50, 50, 50, 50]\n",
        "line_034 = [50, 1, 10, 10, 2, 10, 10, 3, 50, 50, 50, 50, 50, 50, 50, 50, 50]\n",
        "line_035 = [50, 50, 50, 1, 10, 2, 10, 3, 50, 50, 50, 50, 50, 50, 50]\n",
        "line_036 = [50, 50, 50, 50, 50, 50, 50, 1, 10, 10, 2, 10, 10, 3, 50, 50, 50]\n",
        "line_037 = [50, 50, 50, 50, 50, 50, 3, 2, 1, 50, 50, 50, 50]\n",
        "line_038 = [1, 10, 10, 2, 10, 10, 3, 50, 50, 50, 50, 50, 50, 50, 50, 50, 50]\n",
        "line_039 = [50, 50, 50, 3, 10, 10, 2, 10, 10, 1, 50, 50, 50, 50, 50, 50, 50]\n",
        "line_040 = [50, 50, 50, 50, 50, 50, 50, 50, 3, 2, 1, 50, 50]\n",
        "line_041 = [50, 50, 50, 50, 50, 50, 1, 2, 3, 50, 50, 50, 50]\n",
        "line_042 = [50, 50, 50, 50, 50, 50, 50, 50, 50, 1, 10, 10, 10, 2, 10, 10, 10, 3, 50]\n",
        "line_043 = [50, 50, 50, 50, 50, 50, 1, 10, 10, 10, 2, 10, 10, 10, 3, 50, 50, 50, 50]\n",
        "line_044 = [50, 3, 2, 1, 50, 50, 50, 50, 50, 50, 50, 50, 50]\n",
        "line_045 = [50, 50, 50, 50, 50, 50, 1, 10, 2, 10, 3, 50, 50, 50, 50]\n",
        "line_046 = [50, 50, 50, 50, 50, 50, 50, 3, 2, 1, 50, 50, 50]\n",
        "line_047 = [1, 10, 2, 10, 3, 50, 50, 50, 50, 50, 50, 50, 50, 50, 50]\n",
        "line_048 = [50, 50, 50, 50, 50, 50, 50, 50, 1, 10, 10, 10, 2, 10, 10, 10, 3, 50, 50]\n",
        "line_049 = [50, 50, 50, 50, 50, 50, 50, 50, 1, 2, 3, 50, 50]\n",
        "line_050 = [50, 50, 50, 50, 50, 50, 50, 50, 50, 3, 10, 10, 10, 2, 10, 10, 10, 1, 50]\n"
      ]
    },
    {
      "cell_type": "code",
      "source": [
        "line_010"
      ],
      "metadata": {
        "colab": {
          "base_uri": "https://localhost:8080/"
        },
        "id": "aI82sl_nJc3b",
        "outputId": "198068f8-0197-4aad-a4d4-45239a408bae"
      },
      "execution_count": null,
      "outputs": [
        {
          "output_type": "execute_result",
          "data": {
            "text/plain": [
              "[50, 50, 1, 10, 10, 2, 10, 10, 3, 50, 50, 50, 50, 50, 50, 50, 50]"
            ]
          },
          "metadata": {},
          "execution_count": 34
        }
      ]
    },
    {
      "cell_type": "code",
      "source": [
        "line_010[2:9:3]"
      ],
      "metadata": {
        "colab": {
          "base_uri": "https://localhost:8080/"
        },
        "id": "mzZFSsqNJdka",
        "outputId": "4a40a49b-4a0f-48fe-f4f0-cebfd47a3650"
      },
      "execution_count": null,
      "outputs": [
        {
          "output_type": "execute_result",
          "data": {
            "text/plain": [
              "[1, 2, 3]"
            ]
          },
          "metadata": {},
          "execution_count": 25
        }
      ]
    },
    {
      "cell_type": "code",
      "source": [],
      "metadata": {
        "id": "Q3KxNHDrJnId"
      },
      "execution_count": null,
      "outputs": []
    }
  ],
  "metadata": {
    "colab": {
      "provenance": [],
      "include_colab_link": true
    },
    "kernelspec": {
      "display_name": "Python 3 (ipykernel)",
      "language": "python",
      "name": "python3"
    },
    "language_info": {
      "codemirror_mode": {
        "name": "ipython",
        "version": 3
      },
      "file_extension": ".py",
      "mimetype": "text/x-python",
      "name": "python",
      "nbconvert_exporter": "python",
      "pygments_lexer": "ipython3",
      "version": "3.10.12"
    }
  },
  "nbformat": 4,
  "nbformat_minor": 0
}