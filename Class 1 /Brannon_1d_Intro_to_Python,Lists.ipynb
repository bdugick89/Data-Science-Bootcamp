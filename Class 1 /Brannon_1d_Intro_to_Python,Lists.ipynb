{
  "cells": [
    {
      "cell_type": "markdown",
      "metadata": {
        "id": "view-in-github",
        "colab_type": "text"
      },
      "source": [
        "<a href=\"https://colab.research.google.com/github/bdugick89/Data-Science-Bootcamp/blob/main/Brannon_1d_Intro_to_Python%2CLists.ipynb\" target=\"_parent\"><img src=\"https://colab.research.google.com/assets/colab-badge.svg\" alt=\"Open In Colab\"/></a>"
      ]
    },
    {
      "cell_type": "code",
      "source": [
        "import numpy as np\n"
      ],
      "metadata": {
        "id": "_0AUHwpDUxR-"
      },
      "execution_count": null,
      "outputs": []
    },
    {
      "cell_type": "markdown",
      "metadata": {
        "id": "h_X3UmcwlQXp"
      },
      "source": [
        "# Python Exercises - Intro to Python & Lists"
      ]
    },
    {
      "cell_type": "markdown",
      "metadata": {
        "id": "VPXV1urijf6W"
      },
      "source": [
        "1. Use a variable to represent a famous person’s name and then print that person’s name in lowercase, uppercase and title case."
      ]
    },
    {
      "cell_type": "code",
      "execution_count": 3,
      "metadata": {
        "id": "HVxaeoiHkob8"
      },
      "outputs": [],
      "source": [
        "name = \"Ronald McDonald\""
      ]
    },
    {
      "cell_type": "code",
      "source": [
        "name.lower()"
      ],
      "metadata": {
        "colab": {
          "base_uri": "https://localhost:8080/",
          "height": 35
        },
        "id": "xX2BSU6wVsBY",
        "outputId": "2b2cf4ae-22fa-4c96-d170-d77a867a2184"
      },
      "execution_count": null,
      "outputs": [
        {
          "output_type": "execute_result",
          "data": {
            "text/plain": [
              "'ronald mcdonald'"
            ],
            "application/vnd.google.colaboratory.intrinsic+json": {
              "type": "string"
            }
          },
          "metadata": {},
          "execution_count": 5
        }
      ]
    },
    {
      "cell_type": "code",
      "source": [
        "name.upper()\n"
      ],
      "metadata": {
        "colab": {
          "base_uri": "https://localhost:8080/",
          "height": 35
        },
        "id": "iMQ8g-88VuRb",
        "outputId": "7c13fa69-af74-448d-c265-02ba0101b06c"
      },
      "execution_count": null,
      "outputs": [
        {
          "output_type": "execute_result",
          "data": {
            "text/plain": [
              "'RONALD MCDONALD'"
            ],
            "application/vnd.google.colaboratory.intrinsic+json": {
              "type": "string"
            }
          },
          "metadata": {},
          "execution_count": 6
        }
      ]
    },
    {
      "cell_type": "code",
      "source": [
        "name.title()"
      ],
      "metadata": {
        "colab": {
          "base_uri": "https://localhost:8080/",
          "height": 35
        },
        "id": "kGPlowL9VuT9",
        "outputId": "051fa571-a22b-45b0-a446-5b657a73b543"
      },
      "execution_count": 4,
      "outputs": [
        {
          "output_type": "execute_result",
          "data": {
            "text/plain": [
              "'Ronald Mcdonald'"
            ],
            "application/vnd.google.colaboratory.intrinsic+json": {
              "type": "string"
            }
          },
          "metadata": {},
          "execution_count": 4
        }
      ]
    },
    {
      "cell_type": "markdown",
      "metadata": {
        "id": "-_qwGFyojiwO"
      },
      "source": [
        "2. Print a message about the person you defined above using an f-string."
      ]
    },
    {
      "cell_type": "code",
      "execution_count": null,
      "metadata": {
        "id": "k5hnJP6xko5s",
        "colab": {
          "base_uri": "https://localhost:8080/",
          "height": 35
        },
        "outputId": "cb748e84-b4c6-4e3c-c178-a5d5d55c1417"
      },
      "outputs": [
        {
          "output_type": "execute_result",
          "data": {
            "text/plain": [
              "'Ronald McDonald had a farm.'"
            ],
            "application/vnd.google.colaboratory.intrinsic+json": {
              "type": "string"
            }
          },
          "metadata": {},
          "execution_count": 10
        }
      ],
      "source": [
        "f\"{name} had a farm"
      ]
    },
    {
      "cell_type": "markdown",
      "metadata": {
        "id": "eiMZFs72jlBG"
      },
      "source": [
        "3. Store the names of at least 5 of your favorite movies in a list called `movies`."
      ]
    },
    {
      "cell_type": "code",
      "execution_count": 44,
      "metadata": {
        "id": "g5tfPanGkpYk"
      },
      "outputs": [],
      "source": [
        "movies = (\n",
        "    \"Odessey\",\n",
        "    \"Star Wars\",\n",
        "    \"Mellia\",\n",
        "    \"Steve Jobs\",\n",
        "    \"Fast and Furious\"\n",
        ")\n",
        "\n",
        "\n",
        "Brannon_friends=('Ryan','sam','harrison')"
      ]
    },
    {
      "cell_type": "markdown",
      "metadata": {
        "id": "XeZjXPpejmve"
      },
      "source": [
        "4. Remove one of the movies from your `movies` list."
      ]
    },
    {
      "cell_type": "code",
      "execution_count": 46,
      "metadata": {
        "id": "o36yLyIBkqBY",
        "colab": {
          "base_uri": "https://localhost:8080/"
        },
        "outputId": "5c382295-2546-4fe7-dff6-7323e8660953"
      },
      "outputs": [
        {
          "output_type": "stream",
          "name": "stdout",
          "text": [
            "['Ryan', 'sam', 'harrison']\n"
          ]
        }
      ],
      "source": [
        "\n",
        "Friendslist= list(Brannon_friends)\n",
        "print(Friendslist)"
      ]
    },
    {
      "cell_type": "code",
      "source": [
        "movies_list.remove(\"Steve Jobs\")\n",
        "movies_list\n",
        "\n",
        "\n",
        "Friends_List.remove"
      ],
      "metadata": {
        "colab": {
          "base_uri": "https://localhost:8080/",
          "height": 197
        },
        "id": "Lc7D0qYLWs5b",
        "outputId": "8385219c-7c2d-43fe-b68e-3779e383157c"
      },
      "execution_count": 16,
      "outputs": [
        {
          "output_type": "error",
          "ename": "ValueError",
          "evalue": "list.remove(x): x not in list",
          "traceback": [
            "\u001b[0;31m---------------------------------------------------------------------------\u001b[0m",
            "\u001b[0;31mValueError\u001b[0m                                Traceback (most recent call last)",
            "\u001b[0;32m<ipython-input-16-af521c2b4c5b>\u001b[0m in \u001b[0;36m<cell line: 1>\u001b[0;34m()\u001b[0m\n\u001b[0;32m----> 1\u001b[0;31m \u001b[0mFriendslist\u001b[0m\u001b[0;34m.\u001b[0m\u001b[0mremove\u001b[0m\u001b[0;34m(\u001b[0m\u001b[0;34m'Ryan'\u001b[0m\u001b[0;34m)\u001b[0m\u001b[0;34m\u001b[0m\u001b[0;34m\u001b[0m\u001b[0m\n\u001b[0m\u001b[1;32m      2\u001b[0m \u001b[0mFriendslist\u001b[0m\u001b[0;34m\u001b[0m\u001b[0;34m\u001b[0m\u001b[0m\n",
            "\u001b[0;31mValueError\u001b[0m: list.remove(x): x not in list"
          ]
        }
      ]
    },
    {
      "cell_type": "markdown",
      "metadata": {
        "id": "242VkR1Cjpba"
      },
      "source": [
        "5. Sort your `movies` list in reverse alphabetical order."
      ]
    },
    {
      "cell_type": "code",
      "execution_count": 34,
      "metadata": {
        "id": "l-AhH36DkqkC"
      },
      "outputs": [],
      "source": [
        "movies_list.sort(reverse=True)\n",
        "movies_list\n",
        "\n",
        "additional_values=('Ryan','Bob','Carl')\n",
        "Friendslist.extend(additional_values)\n",
        "\n",
        "Friendslist.sort(reverse=True)\n",
        "print(Friendslist)"
      ]
    },
    {
      "cell_type": "markdown",
      "metadata": {
        "id": "Co56cvlwj6ko"
      },
      "source": [
        "6. Use a slice to access the first 3 of your favorite movies."
      ]
    },
    {
      "cell_type": "code",
      "execution_count": 35,
      "metadata": {
        "id": "IvzHHLQxkrBJ",
        "colab": {
          "base_uri": "https://localhost:8080/"
        },
        "outputId": "1d8a90b1-2fac-40dc-f4a3-5f8428085442"
      },
      "outputs": [
        {
          "output_type": "stream",
          "name": "stdout",
          "text": [
            "['sam', 'harrison', 'Ryan', 'Bob', 'Carl']\n"
          ]
        }
      ],
      "source": [
        "movies_listc\n",
        "\n",
        "\n",
        "print(Friendslist)\n",
        "\n",
        "Friendslist[:4]"
      ]
    },
    {
      "cell_type": "markdown",
      "metadata": {
        "id": "H18ygca-k9s6"
      },
      "source": [
        "7. Add your least favorite movie to your `movies` list."
      ]
    },
    {
      "cell_type": "code",
      "execution_count": null,
      "metadata": {
        "id": "kHymBWfRlDlX",
        "colab": {
          "base_uri": "https://localhost:8080/"
        },
        "outputId": "4729cfdb-2475-4c0f-b3d5-1f1bce5fafd7"
      },
      "outputs": [
        {
          "output_type": "execute_result",
          "data": {
            "text/plain": [
              "['Star Wars',\n",
              " 'Odessey',\n",
              " 'Mellia',\n",
              " 'Fast and Furious',\n",
              " 'Chicken Run',\n",
              " 'Chicken Run']"
            ]
          },
          "metadata": {},
          "execution_count": 21
        }
      ],
      "source": [
        "movies_list.append(\"Chicken Run\")\n",
        "movies_list"
      ]
    },
    {
      "cell_type": "code",
      "source": [
        "movies_list.pop(-1)\n",
        "\n",
        "\n",
        "Friendslist.pop(-1)\n",
        "Friendslist"
      ],
      "metadata": {
        "colab": {
          "base_uri": "https://localhost:8080/"
        },
        "id": "_ptwNj0_YBV_",
        "outputId": "546745d7-18f3-454b-ff71-fa11897f05c7"
      },
      "execution_count": 37,
      "outputs": [
        {
          "output_type": "execute_result",
          "data": {
            "text/plain": [
              "['sam', 'harrison', 'Ryan']"
            ]
          },
          "metadata": {},
          "execution_count": 37
        }
      ]
    },
    {
      "cell_type": "code",
      "source": [
        "movies_list = movies_list[:-1]\n",
        "del\n",
        "\n",
        "Friendslist = Friendslist[:-1]\n",
        "del\n",
        "Friendslist"
      ],
      "metadata": {
        "colab": {
          "base_uri": "https://localhost:8080/",
          "height": 143
        },
        "id": "56HPbF6NYiXJ",
        "outputId": "1b21533c-04a0-4192-b8bd-ca6bf58ebc16"
      },
      "execution_count": 58,
      "outputs": [
        {
          "output_type": "error",
          "ename": "SyntaxError",
          "evalue": "invalid syntax (<ipython-input-58-180222339e9d>, line 2)",
          "traceback": [
            "\u001b[0;36m  File \u001b[0;32m\"<ipython-input-58-180222339e9d>\"\u001b[0;36m, line \u001b[0;32m2\u001b[0m\n\u001b[0;31m    del\u001b[0m\n\u001b[0m       ^\u001b[0m\n\u001b[0;31mSyntaxError\u001b[0m\u001b[0;31m:\u001b[0m invalid syntax\n"
          ]
        }
      ]
    },
    {
      "cell_type": "code",
      "source": [
        "del(movies_list[2])\n",
        "\n",
        "del(Friendslist[1])\n",
        "print(Friendslist)"
      ],
      "metadata": {
        "id": "ezS7qQoFZO21",
        "colab": {
          "base_uri": "https://localhost:8080/"
        },
        "outputId": "0835ae0d-19f3-4169-f96a-8911b1f8d24c"
      },
      "execution_count": 60,
      "outputs": [
        {
          "output_type": "stream",
          "name": "stdout",
          "text": [
            "['Ryan', 'Bob', 'Carl']\n"
          ]
        }
      ]
    },
    {
      "cell_type": "code",
      "source": [
        "movies_list\n",
        "\n",
        "\n",
        "additional_values=('Bob','Carl')\n",
        "Friendslist.extend(additional_values)\n",
        "Friendslist"
      ],
      "metadata": {
        "id": "A2rX6IkjZmla",
        "outputId": "24ed854b-c147-4678-88a0-331e2fb8bc3f",
        "colab": {
          "base_uri": "https://localhost:8080/"
        }
      },
      "execution_count": 55,
      "outputs": [
        {
          "output_type": "execute_result",
          "data": {
            "text/plain": [
              "['Ryan', 'Ryan', 'Bob', 'Carl']"
            ]
          },
          "metadata": {},
          "execution_count": 55
        }
      ]
    },
    {
      "cell_type": "markdown",
      "metadata": {
        "id": "X3AHu-aLlYS0"
      },
      "source": [
        "8. Convert the float `16.4` to an integer."
      ]
    },
    {
      "cell_type": "code",
      "execution_count": 62,
      "metadata": {
        "id": "wkOKUrS4lcYz",
        "colab": {
          "base_uri": "https://localhost:8080/"
        },
        "outputId": "577f5680-af46-4f81-9967-3f4cde387c20"
      },
      "outputs": [
        {
          "output_type": "execute_result",
          "data": {
            "text/plain": [
              "16"
            ]
          },
          "metadata": {},
          "execution_count": 62
        }
      ],
      "source": [
        "int(16.4)"
      ]
    },
    {
      "cell_type": "markdown",
      "metadata": {
        "id": "oPY7sMfflL-d"
      },
      "source": [
        "**BONUS** (only if you have time)\n",
        "\n",
        "1. Create a variable called `birthday` and set it equal to the string `'Happy Birthday to You!'`. Use slicing to access every other character in `birthday`."
      ]
    },
    {
      "cell_type": "code",
      "execution_count": 69,
      "metadata": {
        "id": "jaQPOIN8mPm1",
        "colab": {
          "base_uri": "https://localhost:8080/",
          "height": 35
        },
        "outputId": "855fe002-549f-4b09-f4e0-c5cc09da6194"
      },
      "outputs": [
        {
          "output_type": "execute_result",
          "data": {
            "text/plain": [
              "'Happy Birthday to Yo'"
            ],
            "application/vnd.google.colaboratory.intrinsic+json": {
              "type": "string"
            }
          },
          "metadata": {},
          "execution_count": 69
        }
      ],
      "source": [
        "birthday='Happy Birthday to You!'\n",
        "\n",
        "\n",
        "birthday[:-2]"
      ]
    },
    {
      "cell_type": "markdown",
      "metadata": {
        "id": "bhfMCVlOmP9r"
      },
      "source": [
        "2. Create a variable called `nested` and set it equal to the following nested list: `[[1,2,3], ['a','b','c']]`. Use indexing to access the `b` from your nested list. Use indexing to access `[2,3]` from your nested list."
      ]
    },
    {
      "cell_type": "code",
      "source": [
        "nested=[[1,2,3], ['a','b','c'], ['z','y','z']]\n",
        "\n",
        "\n",
        "element_b = nested[1][1]\n",
        "print(element_b)  # Output: 'b'\n",
        "\n",
        "\n",
        "sublist_23 = nested[2][:3]\n",
        "print(sublist_23)  # Output: [2, 3]\n"
      ],
      "metadata": {
        "id": "85tGCDihqojX",
        "colab": {
          "base_uri": "https://localhost:8080/"
        },
        "outputId": "ef213d5e-a8a8-43a9-a10d-3c61f03ba95c"
      },
      "execution_count": 90,
      "outputs": [
        {
          "output_type": "stream",
          "name": "stdout",
          "text": [
            "['z', 'y', 'z']\n"
          ]
        }
      ]
    }
  ],
  "metadata": {
    "colab": {
      "provenance": [],
      "include_colab_link": true
    },
    "kernelspec": {
      "display_name": "Python 3",
      "name": "python3"
    },
    "language_info": {
      "name": "python"
    }
  },
  "nbformat": 4,
  "nbformat_minor": 0
}