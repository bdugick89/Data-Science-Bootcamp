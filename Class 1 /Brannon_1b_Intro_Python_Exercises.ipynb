{
  "cells": [
    {
      "cell_type": "markdown",
      "metadata": {
        "id": "view-in-github",
        "colab_type": "text"
      },
      "source": [
        "<a href=\"https://colab.research.google.com/github/bdugick89/Data-Science-Bootcamp/blob/main/Brannon_1b_Intro_Python_Exercises.ipynb\" target=\"_parent\"><img src=\"https://colab.research.google.com/assets/colab-badge.svg\" alt=\"Open In Colab\"/></a>"
      ]
    },
    {
      "cell_type": "markdown",
      "metadata": {
        "id": "_LisqFaek3CB"
      },
      "source": [
        "Getting started\n",
        "- Save this notebook to your Google Drive\n",
        "- Move it to your Exercises folder\n",
        "- Rename it to 'Your Name - Intro Python Exercises'\n",
        "- Some code cells have a little bit to get you started"
      ]
    },
    {
      "cell_type": "markdown",
      "metadata": {
        "id": "KgrpJVDmWXpC"
      },
      "source": [
        "Pick your own numbers to perform the following operations:\n",
        "- addition\n",
        "- subtraction\n",
        "- multiplication\n",
        "- division\n",
        "- exponentiation\n",
        "- modulation\n",
        "\n",
        "(You will need to make a new code block for each one.)"
      ]
    },
    {
      "cell_type": "code",
      "execution_count": null,
      "metadata": {
        "id": "Qd8tTnUrWs0s",
        "colab": {
          "base_uri": "https://localhost:8080/"
        },
        "outputId": "591b3d34-c58d-4906-e209-161d84a3d8c1"
      },
      "outputs": [
        {
          "output_type": "execute_result",
          "data": {
            "text/plain": [
              "2"
            ]
          },
          "metadata": {},
          "execution_count": 31
        }
      ],
      "source": [
        "1+1"
      ]
    },
    {
      "cell_type": "code",
      "execution_count": null,
      "metadata": {
        "id": "zLBMvP_z7dgh",
        "colab": {
          "base_uri": "https://localhost:8080/"
        },
        "outputId": "eae29b33-c1be-493e-b96d-f18f6a0032bb"
      },
      "outputs": [
        {
          "output_type": "execute_result",
          "data": {
            "text/plain": [
              "-1"
            ]
          },
          "metadata": {},
          "execution_count": 32
        }
      ],
      "source": [
        "2-3"
      ]
    },
    {
      "cell_type": "code",
      "source": [
        "5*8"
      ],
      "metadata": {
        "colab": {
          "base_uri": "https://localhost:8080/"
        },
        "id": "HeEm4EMlABm2",
        "outputId": "8691e323-a43c-4acf-989e-ddd237b483ae"
      },
      "execution_count": null,
      "outputs": [
        {
          "output_type": "execute_result",
          "data": {
            "text/plain": [
              "40"
            ]
          },
          "metadata": {},
          "execution_count": 33
        }
      ]
    },
    {
      "cell_type": "code",
      "source": [
        "1000/991"
      ],
      "metadata": {
        "colab": {
          "base_uri": "https://localhost:8080/"
        },
        "id": "6Huabc6eABkR",
        "outputId": "3cedc8d0-1f8f-4905-92cf-67f310028d69"
      },
      "execution_count": null,
      "outputs": [
        {
          "output_type": "execute_result",
          "data": {
            "text/plain": [
              "1.0090817356205852"
            ]
          },
          "metadata": {},
          "execution_count": 34
        }
      ]
    },
    {
      "cell_type": "code",
      "source": [
        "3**9"
      ],
      "metadata": {
        "colab": {
          "base_uri": "https://localhost:8080/"
        },
        "id": "6ul43D9ZABgD",
        "outputId": "0b447892-ef0e-4a8d-fe39-f2430cac4f6a"
      },
      "execution_count": null,
      "outputs": [
        {
          "output_type": "execute_result",
          "data": {
            "text/plain": [
              "19683"
            ]
          },
          "metadata": {},
          "execution_count": 35
        }
      ]
    },
    {
      "cell_type": "code",
      "source": [
        "1234 % 8"
      ],
      "metadata": {
        "colab": {
          "base_uri": "https://localhost:8080/"
        },
        "id": "D4_R4libABbJ",
        "outputId": "5eedc16b-3a96-495f-abaf-427da98e777d"
      },
      "execution_count": null,
      "outputs": [
        {
          "output_type": "execute_result",
          "data": {
            "text/plain": [
              "2"
            ]
          },
          "metadata": {},
          "execution_count": 36
        }
      ]
    },
    {
      "cell_type": "markdown",
      "metadata": {
        "id": "Jq9H_BSkWxeg"
      },
      "source": [
        "Pick two numbers (one integer and one float) and assign them to the variables `first_number` and `second_number`."
      ]
    },
    {
      "cell_type": "code",
      "execution_count": 1,
      "metadata": {
        "id": "Pm_qRRN9XDmJ",
        "colab": {
          "base_uri": "https://localhost:8080/"
        },
        "outputId": "6da437eb-469b-43bd-a6fd-832060383dbb"
      },
      "outputs": [
        {
          "output_type": "execute_result",
          "data": {
            "text/plain": [
              "(31415927, 3.1415927)"
            ]
          },
          "metadata": {},
          "execution_count": 1
        }
      ],
      "source": [
        "first_number = 31415927\n",
        "second_number = 3.1415927\n",
        "\n",
        "(\n",
        "  first_number,\n",
        "  second_number,\n",
        ")\n"
      ]
    },
    {
      "cell_type": "markdown",
      "metadata": {
        "id": "Kpu3UqT6XNN4"
      },
      "source": [
        "Make a variable called `product` that is the product of your two variables from above.  "
      ]
    },
    {
      "cell_type": "code",
      "execution_count": null,
      "metadata": {
        "id": "0_rWQgjJXkpI",
        "colab": {
          "base_uri": "https://localhost:8080/"
        },
        "outputId": "ad51d74e-2f13-4b6f-f46a-7cf42d80e785"
      },
      "outputs": [
        {
          "output_type": "execute_result",
          "data": {
            "text/plain": [
              "98696046.9269329"
            ]
          },
          "metadata": {},
          "execution_count": 38
        }
      ],
      "source": [
        "product =   first_number * second_number\n",
        "product"
      ]
    },
    {
      "cell_type": "markdown",
      "metadata": {
        "id": "lqUdyV_9XnAc"
      },
      "source": [
        "Come up with your own fun sentence to use a string and assign it to a variable name.  (Make sure to pick a variable name that follows the naming conventions.)"
      ]
    },
    {
      "cell_type": "code",
      "execution_count": 20,
      "metadata": {
        "id": "iWr98iLCX0ug",
        "colab": {
          "base_uri": "https://localhost:8080/"
        },
        "outputId": "1f3845ea-136e-4c3e-dac9-4f0ffb17bca8"
      },
      "outputs": [
        {
          "output_type": "stream",
          "name": "stdout",
          "text": [
            "Hello all\n"
          ]
        }
      ],
      "source": [
        "mark_twain_quote = \"It ain’t what you don’t know that gets you into trouble. It’s what you know for sure that just ain’t so.\"\n",
        "mark_twain_quote\n",
        "\n",
        "Variable_Brannon_Saying = 'Hello all'\n",
        "print(Variable_Brannon_Saying)"
      ]
    },
    {
      "cell_type": "markdown",
      "metadata": {
        "id": "dPvdakIjYIGp"
      },
      "source": [
        "Make print statements for each of your variables\n",
        "- first_number\n",
        "- second_number\n",
        "- product\n",
        "- your string"
      ]
    },
    {
      "cell_type": "code",
      "execution_count": 12,
      "metadata": {
        "id": "qFPHiIc7Yahw",
        "colab": {
          "base_uri": "https://localhost:8080/"
        },
        "outputId": "ef3664c8-b415-46d7-c328-88f7a5b0e982"
      },
      "outputs": [
        {
          "output_type": "stream",
          "name": "stdout",
          "text": [
            "31415927\n"
          ]
        }
      ],
      "source": [
        "print(first_number)"
      ]
    },
    {
      "cell_type": "code",
      "source": [
        "print(second_number)"
      ],
      "metadata": {
        "colab": {
          "base_uri": "https://localhost:8080/"
        },
        "id": "iINY2GQ_BSS5",
        "outputId": "a4545ad6-20c6-45be-cc8e-1303d0934952"
      },
      "execution_count": null,
      "outputs": [
        {
          "output_type": "stream",
          "name": "stdout",
          "text": [
            "3.1415927\n"
          ]
        }
      ]
    },
    {
      "cell_type": "code",
      "source": [
        "print(product)"
      ],
      "metadata": {
        "colab": {
          "base_uri": "https://localhost:8080/"
        },
        "id": "21pVrW_VBSPh",
        "outputId": "bd9aa62d-9806-44a4-ab9a-d497c04defc0"
      },
      "execution_count": null,
      "outputs": [
        {
          "output_type": "stream",
          "name": "stdout",
          "text": [
            "98696046.9269329\n"
          ]
        }
      ]
    },
    {
      "cell_type": "code",
      "source": [
        "print(mark_twain_quote)"
      ],
      "metadata": {
        "colab": {
          "base_uri": "https://localhost:8080/"
        },
        "id": "av56TRvSBSLs",
        "outputId": "c657f718-ee15-4f18-ea07-f52af846116e"
      },
      "execution_count": null,
      "outputs": [
        {
          "output_type": "stream",
          "name": "stdout",
          "text": [
            "It ain’t what you don’t know that gets you into trouble. It’s what you know for sure that just ain’t so.\n"
          ]
        }
      ]
    },
    {
      "cell_type": "markdown",
      "metadata": {
        "id": "7nfKd9dvYczK"
      },
      "source": [
        "Print the type of each of your variables\n",
        "- first_number\n",
        "- second_number\n",
        "- product\n",
        "- your string"
      ]
    },
    {
      "cell_type": "code",
      "execution_count": 16,
      "metadata": {
        "id": "4uGwXn9aYkuw"
      },
      "outputs": [],
      "source": [
        "type(first_number)\n",
        "type (Variable_Brannon_Saying)\n",
        "del Variable_Brannon_Saying\n"
      ]
    },
    {
      "cell_type": "code",
      "execution_count": null,
      "metadata": {
        "id": "ZDpijA3wQCiA",
        "colab": {
          "base_uri": "https://localhost:8080/"
        },
        "outputId": "f9f4d1f4-564f-419f-8487-adb6255200c7"
      },
      "outputs": [
        {
          "output_type": "execute_result",
          "data": {
            "text/plain": [
              "float"
            ]
          },
          "metadata": {},
          "execution_count": 45
        }
      ],
      "source": [
        "type(second_number)"
      ]
    },
    {
      "cell_type": "code",
      "execution_count": null,
      "metadata": {
        "id": "XcijRMyQQHTz",
        "colab": {
          "base_uri": "https://localhost:8080/"
        },
        "outputId": "2c59dee1-6f04-4a66-e85f-68c35adabd9e"
      },
      "outputs": [
        {
          "output_type": "execute_result",
          "data": {
            "text/plain": [
              "float"
            ]
          },
          "metadata": {},
          "execution_count": 46
        }
      ],
      "source": [
        "type(product)"
      ]
    },
    {
      "cell_type": "code",
      "source": [
        "type(mark_twain_quote)"
      ],
      "metadata": {
        "colab": {
          "base_uri": "https://localhost:8080/"
        },
        "id": "V6CBuxU8BlQz",
        "outputId": "391d8169-7492-47c2-d549-499c69291410"
      },
      "execution_count": null,
      "outputs": [
        {
          "output_type": "execute_result",
          "data": {
            "text/plain": [
              "str"
            ]
          },
          "metadata": {},
          "execution_count": 47
        }
      ]
    },
    {
      "cell_type": "markdown",
      "metadata": {
        "id": "1rUWZ6OvX2dU"
      },
      "source": [
        "Find a string method that we did not go over in class to use on your string. You can find a list of string methods by checking the [documentation]( https://docs.python.org/3.10/library/stdtypes.html#string-methods ).\n"
      ]
    },
    {
      "cell_type": "code",
      "execution_count": 18,
      "metadata": {
        "id": "pY-wuo_pYDJb"
      },
      "outputs": [],
      "source": [
        "mark_twain_quote.isnumeric?"
      ]
    },
    {
      "cell_type": "code",
      "source": [
        "mark_twain_quote.isnumeric()\n",
        "Variable_Brannon_Saying.isnumeric()"
      ],
      "metadata": {
        "id": "yvQv9ITeXsN3",
        "colab": {
          "base_uri": "https://localhost:8080/"
        },
        "outputId": "0e1f4506-2ce1-4458-ebd4-6d2be76b22d2"
      },
      "execution_count": 23,
      "outputs": [
        {
          "output_type": "execute_result",
          "data": {
            "text/plain": [
              "False"
            ]
          },
          "metadata": {},
          "execution_count": 23
        }
      ]
    },
    {
      "cell_type": "code",
      "source": [
        "\"10.2\".isnumeric()"
      ],
      "metadata": {
        "colab": {
          "base_uri": "https://localhost:8080/"
        },
        "id": "Ydg6feuyD7y9",
        "outputId": "15d7b40b-eb65-45d0-b2d9-29110ebd7a37"
      },
      "execution_count": 24,
      "outputs": [
        {
          "output_type": "execute_result",
          "data": {
            "text/plain": [
              "False"
            ]
          },
          "metadata": {},
          "execution_count": 24
        }
      ]
    },
    {
      "cell_type": "code",
      "source": [
        "\"I cannot wait for fall\".split()"
      ],
      "metadata": {
        "colab": {
          "base_uri": "https://localhost:8080/"
        },
        "id": "aB9WIItcD_M4",
        "outputId": "d71b52b9-f504-4d70-d9b1-e1829b523a59"
      },
      "execution_count": null,
      "outputs": [
        {
          "output_type": "execute_result",
          "data": {
            "text/plain": [
              "['I', 'cannot', 'wait', 'for', 'fall']"
            ]
          },
          "metadata": {},
          "execution_count": 53
        }
      ]
    },
    {
      "cell_type": "code",
      "source": [
        "\"I cannot wait for fall\".partition(\" \")"
      ],
      "metadata": {
        "colab": {
          "base_uri": "https://localhost:8080/"
        },
        "id": "kVjcNYq_EO8h",
        "outputId": "6ef64815-5ef3-463f-cf59-b1e1e0bd3d66"
      },
      "execution_count": null,
      "outputs": [
        {
          "output_type": "execute_result",
          "data": {
            "text/plain": [
              "('I', ' ', 'cannot wait for fall')"
            ]
          },
          "metadata": {},
          "execution_count": 55
        }
      ]
    }
  ],
  "metadata": {
    "colab": {
      "provenance": [],
      "include_colab_link": true
    },
    "kernelspec": {
      "display_name": "Python 3",
      "name": "python3"
    }
  },
  "nbformat": 4,
  "nbformat_minor": 0
}