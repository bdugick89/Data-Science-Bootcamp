{
  "cells": [
    {
      "cell_type": "markdown",
      "metadata": {
        "id": "view-in-github",
        "colab_type": "text"
      },
      "source": [
        "<a href=\"https://colab.research.google.com/github/bdugick89/Data-Science-Bootcamp/blob/main/Brannon_2c_Conditionals%2CDictionaries%2CLoops.ipynb\" target=\"_parent\"><img src=\"https://colab.research.google.com/assets/colab-badge.svg\" alt=\"Open In Colab\"/></a>"
      ]
    },
    {
      "cell_type": "markdown",
      "metadata": {
        "id": "ZBskTfnHvjvU"
      },
      "source": [
        "# Python Exercises - Conditionals, Dictionaries, & Loops"
      ]
    },
    {
      "cell_type": "markdown",
      "metadata": {
        "id": "SwyBr_aevrfw"
      },
      "source": [
        "1. Create a dictionary to store information about a famous person. Store their first name, last name, age, and what they are famous for. You should have keys ‘first_name’, ‘last_name’, ‘age’, and ‘famous_for’. Print each piece of information stored in your dictionary. **BONUS**: Use a for loop to print the information."
      ]
    },
    {
      "cell_type": "code",
      "execution_count": 13,
      "metadata": {
        "id": "pD3RdU01v1TS",
        "colab": {
          "base_uri": "https://localhost:8080/"
        },
        "outputId": "512744bd-5514-42f9-92f3-83d06fe82980"
      },
      "outputs": [
        {
          "output_type": "stream",
          "name": "stdout",
          "text": [
            "Matt Lablanc is famous for Friends\n",
            "Tim Keller is famous for Mayer\n"
          ]
        }
      ],
      "source": [
        "famous_people = {'Matt Lablanc':{'first name': 'Matt', 'last name': 'Lablanc', 'famous for': 'Friends'}, 'Tim Keller':{'first name': 'Tim', 'last name': 'Keller', 'famous for': 'Mayer'}}\n",
        "\n",
        "for key, value in famous_people.items():\n",
        "    first_name = value['first name']\n",
        "    last_name = value['last name']\n",
        "    famous_for = value['famous for']\n",
        "    print(f\"{first_name} {last_name} is famous for {famous_for}\")\n",
        "\n"
      ]
    },
    {
      "cell_type": "markdown",
      "metadata": {
        "id": "e2-tZpsoxF-i"
      },
      "source": [
        "2. Add the famous person's place of birth to the dictionary you created in #1."
      ]
    },
    {
      "cell_type": "code",
      "execution_count": 14,
      "metadata": {
        "id": "NRzR5KIjxW26",
        "colab": {
          "base_uri": "https://localhost:8080/"
        },
        "outputId": "c8f7e785-f042-47d5-9d29-4d105a2ec4b1"
      },
      "outputs": [
        {
          "output_type": "stream",
          "name": "stdout",
          "text": [
            "Matt Lablanc is famous for Friends in Cleveland\n",
            "Tim Keller is famous for Mayer in Albuquerque\n"
          ]
        }
      ],
      "source": [
        "famous_people = {'Matt Lablanc':{'first name': 'Matt', 'last name': 'Lablanc', 'famous for': 'Friends','birthplace': 'Cleveland'}, 'Tim Keller':{'first name': 'Tim', 'last name': 'Keller', 'famous for': 'Mayer' ,'birthplace': 'Albuquerque'}}\n",
        "\n",
        "for key, value in famous_people.items():\n",
        "    first_name = value['first name']\n",
        "    last_name = value['last name']\n",
        "    famous_for = value['famous for']\n",
        "    birthplace = value['birthplace']\n",
        "\n",
        "    print(f\"{first_name} {last_name} is famous for {famous_for} in {birthplace}\")\n"
      ]
    },
    {
      "cell_type": "markdown",
      "metadata": {
        "id": "eTMha36Iv1nn"
      },
      "source": [
        "3. A number raised to the second power is called a square (e.g., 3^2 is the square of 3). Use a for loop to print out the square of each integer from 1 to 15."
      ]
    },
    {
      "cell_type": "code",
      "execution_count": 18,
      "metadata": {
        "id": "-iAYQCoBv4hK",
        "colab": {
          "base_uri": "https://localhost:8080/"
        },
        "outputId": "bc89bddc-50c4-4882-f2d0-702069738c63"
      },
      "outputs": [
        {
          "output_type": "stream",
          "name": "stdout",
          "text": [
            "1\n",
            "4\n",
            "9\n",
            "16\n",
            "25\n",
            "36\n",
            "49\n",
            "64\n",
            "81\n",
            "100\n",
            "121\n",
            "144\n",
            "169\n",
            "196\n",
            "225\n"
          ]
        }
      ],
      "source": [
        "for num in range(1, 16):\n",
        "    print(num ** 2)"
      ]
    },
    {
      "cell_type": "markdown",
      "metadata": {
        "id": "X-L3fBADv4xu"
      },
      "source": [
        "4. Write a python program that will take a word and print a message stating whether that word starts with a vowel or a consonant. Test it out with several words.\n",
        "\n",
        "Example input: ‘popcorn’\n",
        "\n",
        "Example output: ‘This word starts with a consonant.’\n"
      ]
    },
    {
      "cell_type": "code",
      "execution_count": 43,
      "metadata": {
        "id": "MJmgEHGMv9xt",
        "colab": {
          "base_uri": "https://localhost:8080/",
          "height": 35
        },
        "outputId": "5a8df2e1-a2c5-4802-a549-a4c3abe502bd"
      },
      "outputs": [
        {
          "output_type": "execute_result",
          "data": {
            "text/plain": [
              "'ba'"
            ],
            "application/vnd.google.colaboratory.intrinsic+json": {
              "type": "string"
            }
          },
          "metadata": {},
          "execution_count": 43
        }
      ],
      "source": [
        "def check_starting_letter(word):\n",
        "  ##convert everything to lower case\n",
        "    word = word.lower()\n",
        "    vowels = 'aeiou'\n",
        "#get the first letter in the word with\n",
        "    if word[0] in vowels:\n",
        "        return 'vowel'\n",
        "    else:\n",
        "        return 'consonant'\n",
        "\n",
        "input_word = 'popcorn carrot apple orange'\n",
        "input_words = input_word.split()\n",
        "\n",
        "for word in input_words:\n",
        "    result = check_starting_letter(word)\n",
        "    print(f\"The word '{word}' starts with a {result}.\")\n",
        "\n",
        "\n"
      ]
    },
    {
      "cell_type": "markdown",
      "metadata": {
        "id": "BC6KcJcNwJS0"
      },
      "source": [
        "5. Write a python program that will loop through the following list:\n",
        "`pets = ['Muffin', 'Kiki', 'Moe', 'Daisy']`. If the length of the pet's name is less than 5 characters, print out the name.  "
      ]
    },
    {
      "cell_type": "code",
      "execution_count": 33,
      "metadata": {
        "id": "pw8Hdfc1xbnk",
        "colab": {
          "base_uri": "https://localhost:8080/"
        },
        "outputId": "6baa5675-175b-41c5-9b29-bba725960de2"
      },
      "outputs": [
        {
          "output_type": "stream",
          "name": "stdout",
          "text": [
            ">5 Char\n"
          ]
        }
      ],
      "source": [
        "pets = ['Muffin', 'Kiki', 'Moe', 'Daisy']\n",
        "\n",
        "for pet in pets:\n",
        "    if len(pet) < 5:\n",
        "        print(pet)\n",
        "    else:\n",
        "        print('>5 Char')"
      ]
    },
    {
      "cell_type": "markdown",
      "metadata": {
        "id": "t0TWJXSmwSRi"
      },
      "source": [
        "**Bonus** (only if you have time)\n",
        "1. Create the following two lists of numbers:\n",
        "\n",
        "`list_1 = [1,2,3,4,5,6,7,8]`\n",
        "\n",
        "`list_2 = [9,10,11,12,13,14]`\n",
        "\n",
        " Write a program to create a new list such that the new list should contain odd numbers from the first list and even numbers from the second list."
      ]
    },
    {
      "cell_type": "markdown",
      "metadata": {
        "id": "dKAqvVEkwUws"
      },
      "source": [
        "2. Write a program that will check to see if a username contains at least one of the following:\n",
        "\n",
        "*   A number\n",
        "*   A letter\n",
        "*   A symbol ($, %, ! or ?)\n",
        "\n",
        "It should print out 'Good password' if it meets the above requirements and 'Bad password' otherwise.\n",
        "\n",
        "Example input: 'Hello5?'\n",
        "\n",
        "Example output: 'Good password'\n",
        "\n",
        "Hint: `import string` and then use `list(string.ascii_lowercase)` to get a list of all lowercase letters\n"
      ]
    },
    {
      "cell_type": "code",
      "source": [
        "#part 1\n",
        "\n",
        "\n",
        "list_1 = [1, 2, 3, 4, 5, 6, 7, 8]\n",
        "list_2 = [9, 10, 11, 12, 13, 14]\n",
        "\n",
        "new_list = [num\n",
        "            #numbers that are not divisible by 2\n",
        "            for num in list_1\n",
        "              if num % 2 != 0] + [num\n",
        "            #numbers that are divisible by 2\n",
        "            for num in list_2\n",
        "              if num % 2 == 0]\n",
        "print(\"New List:\", new_list)\n",
        "\n",
        "\n",
        "\n",
        "#part 2\n",
        "\n",
        "\n",
        "#chat gpt result\n",
        "\n",
        "def check_password(username):\n",
        "  #this is creating 3 result sets\n",
        "    has_number = any(char.isdigit() for char in username)\n",
        "    has_letter = any(char.isalpha() for char in username)\n",
        "    has_symbol = any(char in '$%!?' for char in username)\n",
        "  \"\"\"\n",
        "  char.isdigit(): This is a method available for strings in Python, and it returns True if all characters in the string are digits (0-9),\n",
        "    otherwise, it returns False.for char in username: This is a generator expression that iterates over each character (char) in the username string\n",
        "   .any(...): The any() function returns True if at least one element in the provided iterable is True. In this case, the iterable is a series of True or False values generated by the char.isdigit() checks.\n",
        "  \"\"\"\n",
        "    if has_number and has_letter and has_symbol:\n",
        "        print('Good password')\n",
        "    else:\n",
        "        print('Bad password')\n",
        "\n",
        "\n",
        "\n",
        "#Working Version\n",
        "\n",
        "\n",
        "def check_password(username):\n",
        "  #this is creating 3 result sets\n",
        "    has_number = any(char.isdigit() for char in username)\n",
        "    has_letter = any(char.isalpha() for char in username)\n",
        "    has_symbol = any(char in '$%!?' for char in username)\n",
        "    if has_number and has_letter and has_symbol:\n",
        "        print('Good password')\n",
        "    else:\n",
        "        print('Bad password')\n",
        "\n",
        "# Example usage\n",
        "username = 'Hello5?'\n",
        "check_password(username)\n"
      ],
      "metadata": {
        "colab": {
          "base_uri": "https://localhost:8080/"
        },
        "id": "OCpYTJb367S5",
        "outputId": "8b0a7d2b-710f-4eb6-eb58-528636cdd006"
      },
      "execution_count": 47,
      "outputs": [
        {
          "output_type": "stream",
          "name": "stdout",
          "text": [
            "Good password\n"
          ]
        }
      ]
    }
  ],
  "metadata": {
    "colab": {
      "provenance": [],
      "include_colab_link": true
    },
    "kernelspec": {
      "display_name": "Python 3",
      "name": "python3"
    },
    "language_info": {
      "name": "python"
    }
  },
  "nbformat": 4,
  "nbformat_minor": 0
}