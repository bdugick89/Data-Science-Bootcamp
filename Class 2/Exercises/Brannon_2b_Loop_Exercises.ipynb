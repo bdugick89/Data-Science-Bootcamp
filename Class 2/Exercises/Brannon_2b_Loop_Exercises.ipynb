{
  "cells": [
    {
      "cell_type": "markdown",
      "metadata": {
        "id": "view-in-github",
        "colab_type": "text"
      },
      "source": [
        "<a href=\"https://colab.research.google.com/github/bdugick89/Data-Science-Bootcamp/blob/main/Brannon_2b_Loop_Exercises.ipynb\" target=\"_parent\"><img src=\"https://colab.research.google.com/assets/colab-badge.svg\" alt=\"Open In Colab\"/></a>"
      ]
    },
    {
      "cell_type": "markdown",
      "metadata": {
        "id": "PgeLhzgDjZD8"
      },
      "source": [
        "## Problem 1"
      ]
    },
    {
      "cell_type": "markdown",
      "metadata": {
        "id": "knTR-4OsXA2L"
      },
      "source": [
        "Write a Python program that prints out the numbers from 2 to 60 in increments of two\n",
        "\n",
        "Output: 2 4 6 ... 56 58 60"
      ]
    },
    {
      "cell_type": "code",
      "execution_count": null,
      "metadata": {
        "id": "EF-Rp_xHItBX"
      },
      "outputs": [],
      "source": [
        "for number in range(2, 61, 2):\n",
        "    print(number)\n"
      ]
    },
    {
      "cell_type": "markdown",
      "metadata": {
        "id": "fWbOuf3Xj2rA"
      },
      "source": [
        "## Problem 2"
      ]
    },
    {
      "cell_type": "markdown",
      "metadata": {
        "id": "fff1QU6WWaE3"
      },
      "source": [
        "\n",
        "\n",
        "Write a Python program that takes a word and reverses it."
      ]
    },
    {
      "cell_type": "markdown",
      "metadata": {
        "id": "D9wECoq_j7mF"
      },
      "source": [
        "Input:\n",
        "\n",
        "input_word = 'stressed'\n",
        "\n",
        "Output:\n",
        "\n",
        "desserts"
      ]
    },
    {
      "cell_type": "markdown",
      "metadata": {
        "id": "CQss0SCn6N7V"
      },
      "source": [
        "Solution:"
      ]
    },
    {
      "cell_type": "code",
      "execution_count": 5,
      "metadata": {
        "id": "sULCgYCmkKWP",
        "colab": {
          "base_uri": "https://localhost:8080/"
        },
        "outputId": "3ba2feef-7ae0-4d12-de8b-9cb90beecce8"
      },
      "outputs": [
        {
          "output_type": "stream",
          "name": "stdout",
          "text": [
            "desserts\n"
          ]
        }
      ],
      "source": [
        "input_word = 'stressed'\n",
        "output_word = input_word[::-1]\n",
        "print(output_word)\n"
      ]
    },
    {
      "cell_type": "markdown",
      "metadata": {
        "id": "KM76l_GDXTMF"
      },
      "source": [
        "## Problem 3\n"
      ]
    },
    {
      "cell_type": "markdown",
      "metadata": {
        "id": "ocSBZmjtWrvU"
      },
      "source": [
        "\n",
        "\n",
        "> Indented block\n",
        "\n",
        "\n",
        "\n",
        "Write a Python program that prints each item and its corresponding type from the following list."
      ]
    },
    {
      "cell_type": "markdown",
      "metadata": {
        "id": "fdXQRAuxkm9t"
      },
      "source": [
        "Input:\n",
        "\n",
        "datalist = [1452, 11.23, 1+2j, True, 'w3resource', (0, -1), [5, 12],\n",
        "{\"class\":'V', \"section\":'A'}]\n",
        "\n",
        "Preferred Output:\n",
        "\n",
        "Type of  1452  is  <class 'int'>                                                                              \n",
        "Type of  11.23  is  <class 'float'>                                                                            \n",
        "Type of  (1+2j)  is  <class 'complex'>                                                                         \n",
        "Type of  True  is  <class 'bool'>                                                                             \n",
        "Type of  w3resource  is  <class 'str'>                                                                        \n",
        "Type of  (0, -1)  is  <class 'tuple'>                                                                         \n",
        "Type of  [5, 12]  is  <class 'list'>                                                                          \n",
        "Type of  {'class': 'V', 'section': 'A'}  is  < class 'dict'>"
      ]
    },
    {
      "cell_type": "markdown",
      "metadata": {
        "id": "ZA79BNGu6SHf"
      },
      "source": [
        "Solution:"
      ]
    },
    {
      "cell_type": "code",
      "execution_count": 6,
      "metadata": {
        "id": "DpN7r4gMk7RH",
        "colab": {
          "base_uri": "https://localhost:8080/"
        },
        "outputId": "2877dbd0-8e11-4009-e736-19ad74e834eb"
      },
      "outputs": [
        {
          "output_type": "stream",
          "name": "stdout",
          "text": [
            "Item: 1452, Type: <class 'int'>\n",
            "Item: 11.23, Type: <class 'float'>\n",
            "Item: (1+2j), Type: <class 'complex'>\n",
            "Item: True, Type: <class 'bool'>\n",
            "Item: w3resource, Type: <class 'str'>\n",
            "Item: (0, -1), Type: <class 'tuple'>\n",
            "Item: [5, 12], Type: <class 'list'>\n",
            "Item: {'class': 'V', 'section': 'A'}, Type: <class 'dict'>\n"
          ]
        }
      ],
      "source": [
        "datalist = [1452, 11.23, 1+2j, True, 'w3resource', (0, -1), [5, 12], {\"class\":'V', \"section\":'A'}]\n",
        "\n",
        "for item in datalist:\n",
        "    print(f\"Item: {item}, Type: {type(item)}\")\n",
        "\n",
        "for item in datalist:\n",
        "    print(f\"items': {item}, type: {type(item)}\")"
      ]
    },
    {
      "cell_type": "markdown",
      "metadata": {
        "id": "-HMvXJaTh2F6"
      },
      "source": [
        "## Problem 4"
      ]
    },
    {
      "cell_type": "markdown",
      "metadata": {
        "id": "Opa2Q9f0Wqi2"
      },
      "source": [
        "\n",
        "\n",
        "Write a Python program to construct the following pattern:\n",
        "\n",
        "\n",
        "\n",
        "@\n",
        "\n",
        "@@\n",
        "\n",
        "@@@\n",
        "\n",
        "@@@@\n",
        "\n",
        "@@@@@\n",
        "\n",
        "@@@@\n",
        "\n",
        "@@@\n",
        "\n",
        "@@\n",
        "\n",
        "@\n",
        "\n",
        "\n",
        "**Hint:** `@*3` will print out `@@@`.\n"
      ]
    },
    {
      "cell_type": "code",
      "execution_count": 7,
      "metadata": {
        "id": "hVcsorh7jUoQ",
        "colab": {
          "base_uri": "https://localhost:8080/"
        },
        "outputId": "4c05eeb5-f236-494a-b43c-e7a85081cfd8"
      },
      "outputs": [
        {
          "output_type": "stream",
          "name": "stdout",
          "text": [
            "\n",
            "@\n",
            "@@\n",
            "@@@\n",
            "@@@@\n",
            "@@@@@\n",
            "@@@@\n",
            "@@@\n",
            "@@\n",
            "@\n",
            "\n"
          ]
        }
      ],
      "source": [
        "# Solution here\n",
        "print('''\n",
        "@\n",
        "@@\n",
        "@@@\n",
        "@@@@\n",
        "@@@@@\n",
        "@@@@\n",
        "@@@\n",
        "@@\n",
        "@\n",
        "''')\n",
        "\n"
      ]
    },
    {
      "cell_type": "code",
      "source": [
        "print(\"@\"*1)\n",
        "print(\"@\"*2)\n",
        "print(\"@\"*3)\n",
        "print(\"@\"*4)\n",
        "print(\"@\"*5)\n",
        "print(\"@\"*4)\n",
        "print(\"@\"*3)\n",
        "print(\"@\"*2)\n",
        "print(\"@\"*1)\n",
        "\n"
      ],
      "metadata": {
        "colab": {
          "base_uri": "https://localhost:8080/"
        },
        "id": "YKVWJ0piJ7rh",
        "outputId": "c854e190-28c3-4774-e8fb-34106038577f"
      },
      "execution_count": 8,
      "outputs": [
        {
          "output_type": "stream",
          "name": "stdout",
          "text": [
            "@\n",
            "@@\n",
            "@@@\n",
            "@@@@\n",
            "@@@@@\n",
            "@@@@\n",
            "@@@\n",
            "@@\n",
            "@\n"
          ]
        }
      ]
    },
    {
      "cell_type": "code",
      "source": [
        "numbers = [ 1, 2, 3, 4, 5, 4, 3, 2, 1 ]\n",
        "for number in numbers:\n",
        "  print(\"@\" * number)"
      ],
      "metadata": {
        "colab": {
          "base_uri": "https://localhost:8080/"
        },
        "id": "bqyGx-IbKza2",
        "outputId": "15cb885e-f32c-4273-cd96-76d7ddd22f3e"
      },
      "execution_count": 9,
      "outputs": [
        {
          "output_type": "stream",
          "name": "stdout",
          "text": [
            "@\n",
            "@@\n",
            "@@@\n",
            "@@@@\n",
            "@@@@@\n",
            "@@@@\n",
            "@@@\n",
            "@@\n",
            "@\n"
          ]
        }
      ]
    },
    {
      "cell_type": "code",
      "source": [
        "for i in range(1,24):\n",
        "  if i < 12:\n",
        "    print(\"@\"*i)\n",
        "  else:\n",
        "    print((24-i)*\"@\")\n"
      ],
      "metadata": {
        "colab": {
          "base_uri": "https://localhost:8080/"
        },
        "id": "mOLyJkG2KQcS",
        "outputId": "931ee3f0-f465-4ea8-fbf9-48ef88bd91ae"
      },
      "execution_count": null,
      "outputs": [
        {
          "output_type": "stream",
          "name": "stdout",
          "text": [
            "@\n",
            "@@\n",
            "@@@\n",
            "@@@@\n",
            "@@@@@\n",
            "@@@@@@\n",
            "@@@@@@@\n",
            "@@@@@@@@\n",
            "@@@@@@@@@\n",
            "@@@@@@@@@@\n",
            "@@@@@@@@@@@\n",
            "@@@@@@@@@@@@\n",
            "@@@@@@@@@@@\n",
            "@@@@@@@@@@\n",
            "@@@@@@@@@\n",
            "@@@@@@@@\n",
            "@@@@@@@\n",
            "@@@@@@\n",
            "@@@@@\n",
            "@@@@\n",
            "@@@\n",
            "@@\n",
            "@\n"
          ]
        }
      ]
    },
    {
      "cell_type": "code",
      "source": [
        "n = 7\n",
        "for i in range(n):\n",
        "  print(\"@\"*(i+1))\n",
        "for i in range(n-1):\n",
        "  print(\"@\"*(n-1-i))\n",
        "\n"
      ],
      "metadata": {
        "colab": {
          "base_uri": "https://localhost:8080/"
        },
        "id": "zWrQa5ARLNnP",
        "outputId": "c18c3a4d-4636-4a25-a825-ab649d6e8284"
      },
      "execution_count": null,
      "outputs": [
        {
          "output_type": "stream",
          "name": "stdout",
          "text": [
            "@\n",
            "@@\n",
            "@@@\n",
            "@@@@\n",
            "@@@@@\n",
            "@@@@@@\n",
            "@@@@@@@\n",
            "@@@@@@\n",
            "@@@@@\n",
            "@@@@\n",
            "@@@\n",
            "@@\n",
            "@\n"
          ]
        }
      ]
    },
    {
      "cell_type": "code",
      "source": [
        "for i in range(1, 10):\n",
        "  # this uses min to determine how many @'s to print\n",
        "  # e.g min(1,9) vs min(9,1)\n",
        "  # print(i, 10 - i, \"@\" * min(i, 10 - i))\n",
        "  print(\"@\" * min(i, 10 - i))\n",
        "\n"
      ],
      "metadata": {
        "colab": {
          "base_uri": "https://localhost:8080/"
        },
        "id": "8hmRuC1tMSQM",
        "outputId": "1bff80cd-56ba-40ad-e6b3-3cfe07224538"
      },
      "execution_count": null,
      "outputs": [
        {
          "output_type": "stream",
          "name": "stdout",
          "text": [
            "1 9 @\n",
            "2 8 @@\n",
            "3 7 @@@\n",
            "4 6 @@@@\n",
            "5 5 @@@@@\n",
            "6 4 @@@@\n",
            "7 3 @@@\n",
            "8 2 @@\n",
            "9 1 @\n"
          ]
        }
      ]
    },
    {
      "cell_type": "markdown",
      "metadata": {
        "id": "uwcZe6sI6YTU"
      },
      "source": [
        "# Problem 5"
      ]
    },
    {
      "cell_type": "markdown",
      "metadata": {
        "id": "RdFaGnagWvLo"
      },
      "source": [
        "\n",
        "\n",
        "Write a Python program which iterates through the integers from 0 to 50. For multiples of three print \"Fizz\" instead of the number and for the multiples of five print \"Buzz\". For numbers which are multiples of both three and five print \"FizzBuzz\".  \n",
        "\n",
        "For this problem zero is considered a multiple of three and five 3\\*0=5\\*0=0"
      ]
    },
    {
      "cell_type": "markdown",
      "metadata": {
        "id": "xpMFiWVA7QKU"
      },
      "source": [
        "Sample Output :  \n",
        "Fizz Buzz\n",
        "\n",
        "1\n",
        "\n",
        "2\n",
        "\n",
        "Fizz\n",
        "\n",
        "4\n",
        "\n",
        "Buzz\n",
        "\n",
        "Fizz\n",
        "\n",
        "7\n",
        "\n",
        "8\n",
        "\n",
        "Fizz\n",
        "\n",
        "Buzz\n",
        "\n",
        "<etc.>"
      ]
    },
    {
      "cell_type": "code",
      "source": [
        "for num in range(51):\n",
        "    if num == 0:\n",
        "        print(\"FizzBuzz\")\n",
        "    elif num % 3 == 0 and num % 5 == 0:\n",
        "        print(\"FizzBuzz\")\n",
        "    elif num % 3 == 0:\n",
        "        print(\"Fizz\")\n",
        "    elif num % 5 == 0:\n",
        "        print(\"Buzz\")\n",
        "    else:\n",
        "        print(num)\n",
        "\n",
        "\n",
        "\n",
        "for num in range(51):\n",
        "    if num == 0:\n",
        "        print(\"fizzbuzz\")\n",
        "    elif num % 3 ==0 and number % 5 == 0:\n",
        "        print('fizzbuzz')\n",
        "    elif num % 3 == 0:\n",
        "        print('fizz')\n",
        "    elif num % 5 == 0:\n",
        "        print(\"Buzz\")\n",
        "    else:\n",
        "        print(num)"
      ],
      "metadata": {
        "colab": {
          "base_uri": "https://localhost:8080/"
        },
        "id": "a0mjv5O-V3fq",
        "outputId": "70658979-3708-4cf6-d956-f47bcf260672"
      },
      "execution_count": 14,
      "outputs": [
        {
          "output_type": "stream",
          "name": "stdout",
          "text": [
            "fizzbuzz\n",
            "1\n",
            "2\n",
            "fizz\n",
            "4\n",
            "Buzz\n",
            "fizz\n",
            "7\n",
            "8\n",
            "fizz\n",
            "Buzz\n",
            "11\n",
            "fizz\n",
            "13\n",
            "14\n",
            "fizz\n",
            "16\n",
            "17\n",
            "fizz\n",
            "19\n",
            "Buzz\n",
            "fizz\n",
            "22\n",
            "23\n",
            "fizz\n",
            "Buzz\n",
            "26\n",
            "fizz\n",
            "28\n",
            "29\n",
            "fizz\n",
            "31\n",
            "32\n",
            "fizz\n",
            "34\n",
            "Buzz\n",
            "fizz\n",
            "37\n",
            "38\n",
            "fizz\n",
            "Buzz\n",
            "41\n",
            "fizz\n",
            "43\n",
            "44\n",
            "fizz\n",
            "46\n",
            "47\n",
            "fizz\n",
            "49\n",
            "Buzz\n"
          ]
        }
      ]
    },
    {
      "cell_type": "code",
      "execution_count": 11,
      "metadata": {
        "id": "k95acQTe7f1w",
        "colab": {
          "base_uri": "https://localhost:8080/"
        },
        "outputId": "121b46d7-3656-4d23-ccb3-c0d356abef40"
      },
      "outputs": [
        {
          "output_type": "stream",
          "name": "stdout",
          "text": [
            "FizzBuzz\n",
            "1\n",
            "2\n",
            "Fizz\n",
            "4\n",
            "Buzz\n",
            "Fizz\n",
            "7\n",
            "8\n",
            "Fizz\n",
            "Buzz\n",
            "11\n",
            "Fizz\n",
            "13\n",
            "14\n",
            "FizzBuzz\n",
            "16\n",
            "17\n",
            "Fizz\n",
            "19\n",
            "Buzz\n",
            "Fizz\n",
            "22\n",
            "23\n",
            "Fizz\n",
            "Buzz\n",
            "26\n",
            "Fizz\n",
            "28\n",
            "29\n",
            "FizzBuzz\n",
            "31\n",
            "32\n",
            "Fizz\n",
            "34\n",
            "Buzz\n",
            "Fizz\n",
            "37\n",
            "38\n",
            "Fizz\n",
            "Buzz\n",
            "41\n",
            "Fizz\n",
            "43\n",
            "44\n",
            "FizzBuzz\n",
            "46\n",
            "47\n",
            "Fizz\n",
            "49\n"
          ]
        }
      ],
      "source": [
        "# Solution here\n",
        "for x in range(0,50,):\n",
        "  if x == 0 or (x % 3==0 and x % 5==0):\n",
        "    print (\"FizzBuzz\")\n",
        "  elif (x % 3==0):\n",
        "    print(\"Fizz\")\n",
        "  elif (x % 5==0):\n",
        "    print(\"Buzz\")\n",
        "  else:\n",
        "    print(x)\n"
      ]
    },
    {
      "cell_type": "code",
      "source": [
        "for fb in range(0,51):\n",
        "  fizz = fb % 3\n",
        "  buzz = fb % 5\n",
        "\n",
        "  if not(fizz or buzz):\n",
        "    print (\"Fizz Buzz\")\n",
        "  elif not (fizz):\n",
        "    print(\"Fizz\")\n",
        "  elif not (buzz):\n",
        "    print(\"Buzz\")\n",
        "  else:\n",
        "    print(fb)\n",
        "\n",
        "\n",
        "\n"
      ],
      "metadata": {
        "id": "EEkhit9VOY63"
      },
      "execution_count": null,
      "outputs": []
    },
    {
      "cell_type": "code",
      "source": [
        "# Iterate through numbers 0 to 50\n",
        "for num in range(51):\n",
        "    # Check if the number is a multiple of both 3 and 5\n",
        "    if num % 3 == 0 and num % 5 == 0:\n",
        "        print(\"FizzBuzz\")\n",
        "    # Check if the number is a multiple of 3\n",
        "    elif num % 3 == 0:\n",
        "        print(\"Fizz\")\n",
        "    # Check if the number is a multiple of 5\n",
        "    elif num % 5 == 0:\n",
        "        print(\"Buzz\")\n",
        "    # If none of the above conditions are met, print the number\n",
        "    else:\n",
        "        print(num)\n"
      ],
      "metadata": {
        "id": "SClb7V_5O1PP"
      },
      "execution_count": null,
      "outputs": []
    },
    {
      "cell_type": "code",
      "source": [
        "# Iterate through numbers 0 to 50\n",
        "for num in range(51):\n",
        "    # Check if the number is a multiple of both 3 and 5\n",
        "    if num % 15 == 0:\n",
        "        print(\"FizzBuzz\")\n",
        "    # Check if the number is a multiple of 3\n",
        "    elif num % 3 == 0:\n",
        "        print(\"Fizz\")\n",
        "    # Check if the number is a multiple of 5\n",
        "    elif num % 5 == 0:\n",
        "        print(\"Buzz\")\n",
        "    # If none of the above conditions are met, print the number\n",
        "    else:\n",
        "        print(num)\n"
      ],
      "metadata": {
        "id": "WpZbVNPZPL7b",
        "colab": {
          "base_uri": "https://localhost:8080/"
        },
        "outputId": "9f87e55d-e29c-4d03-f92f-2c7e199ca324"
      },
      "execution_count": 10,
      "outputs": [
        {
          "output_type": "stream",
          "name": "stdout",
          "text": [
            "FizzBuzz\n",
            "1\n",
            "2\n",
            "Fizz\n",
            "4\n",
            "Buzz\n",
            "Fizz\n",
            "7\n",
            "8\n",
            "Fizz\n",
            "Buzz\n",
            "11\n",
            "Fizz\n",
            "13\n",
            "14\n",
            "FizzBuzz\n",
            "16\n",
            "17\n",
            "Fizz\n",
            "19\n",
            "Buzz\n",
            "Fizz\n",
            "22\n",
            "23\n",
            "Fizz\n",
            "Buzz\n",
            "26\n",
            "Fizz\n",
            "28\n",
            "29\n",
            "FizzBuzz\n",
            "31\n",
            "32\n",
            "Fizz\n",
            "34\n",
            "Buzz\n",
            "Fizz\n",
            "37\n",
            "38\n",
            "Fizz\n",
            "Buzz\n",
            "41\n",
            "Fizz\n",
            "43\n",
            "44\n",
            "FizzBuzz\n",
            "46\n",
            "47\n",
            "Fizz\n",
            "49\n",
            "Buzz\n"
          ]
        }
      ]
    },
    {
      "cell_type": "code",
      "source": [
        "n = 50\n",
        "fb = [1] * n\n",
        "# Iterate through numbers 0 to 50\n",
        "for num in range(n):\n",
        "    # Check if the number is a multiple of both 3 and 5\n",
        "    if num % 15 == 0:\n",
        "        fb[num]=\"FizzBuzz\"\n",
        "    # Check if the number is a multiple of 3\n",
        "    elif num % 3 == 0:\n",
        "        fb[num]=\"Fizz\"\n",
        "    # Check if the number is a multiple of 5\n",
        "    elif num % 5 == 0:\n",
        "        fb[num]=\"Buzz\"\n",
        "    # If none of the above conditions are met, print the number\n",
        "    else:\n",
        "        fb[num]=num\n",
        "\n",
        "fb = [ str(_) for _ in fb ]\n",
        "for i, v in enumerate(fb):\n",
        "  if not ( i % 15 ):\n",
        "    print()\n",
        "  print(f\"{v:7}\", end=\", \")\n"
      ],
      "metadata": {
        "colab": {
          "base_uri": "https://localhost:8080/"
        },
        "id": "i2msSjHsPmLN",
        "outputId": "275cbbe5-d6cb-478d-8e3a-6a4b0ea6a1cb"
      },
      "execution_count": null,
      "outputs": [
        {
          "output_type": "stream",
          "name": "stdout",
          "text": [
            "\n",
            "FizzBuzz, 1      , 2      , Fizz   , 4      , Buzz   , Fizz   , 7      , 8      , Fizz   , Buzz   , 11     , Fizz   , 13     , 14     , \n",
            "FizzBuzz, 16     , 17     , Fizz   , 19     , Buzz   , Fizz   , 22     , 23     , Fizz   , Buzz   , 26     , Fizz   , 28     , 29     , \n",
            "FizzBuzz, 31     , 32     , Fizz   , 34     , Buzz   , Fizz   , 37     , 38     , Fizz   , Buzz   , 41     , Fizz   , 43     , 44     , \n",
            "FizzBuzz, 46     , 47     , Fizz   , 49     , "
          ]
        }
      ]
    },
    {
      "cell_type": "code",
      "source": [
        "fizzbuzz = [\"fizzbuzz\",\"x\",\"x\",\"fizz\",\"x\",\"buzz\",\"fizz\",\"x\",\"x\",\"fizz\",\"buzz\",\"x\",\"fizz\",\"x\",\"x\"]\n",
        "for n in range(20):\n",
        "  fb = fizzbuzz[n%15]\n",
        "  print(n) if ( fb == \"x\") else print(fb)"
      ],
      "metadata": {
        "id": "aGG_G8RzSDt7"
      },
      "execution_count": null,
      "outputs": []
    },
    {
      "cell_type": "markdown",
      "metadata": {
        "id": "DemC2ObY8Shi"
      },
      "source": [
        "# Problem 6"
      ]
    },
    {
      "cell_type": "markdown",
      "metadata": {
        "id": "IgfPxLf8W2St"
      },
      "source": [
        "\n",
        "\n",
        "Write a Python program to calculate a dog's age in dog's years.\n",
        "\n",
        "Note: For the first two calendar years, a dog year is equal to 10.5 calendar years. After that, each dog year equals 4 calendar years.\n",
        "\n",
        "Input:\n",
        "\n",
        "calendar_age = 5\n",
        "\n",
        "Preferred Output:\n",
        "\n",
        "The dog's age in dog's years is 33"
      ]
    },
    {
      "cell_type": "code",
      "execution_count": 32,
      "metadata": {
        "id": "TvuYiJ9y8yO7",
        "colab": {
          "base_uri": "https://localhost:8080/"
        },
        "outputId": "e7fcb3b4-bcfd-4a16-de0f-8092bb7fb682"
      },
      "outputs": [
        {
          "output_type": "stream",
          "name": "stdout",
          "text": [
            "the dogs age1 and for dog year 10\n",
            "the dogs age2 and for dog year 21\n",
            "the dogs age3 and for dog year 25\n",
            "the dogs age4 and for dog year 29\n",
            "the dogs age5 and for dog year 33\n",
            "the dogs age6 and for dog year 37\n",
            "the dogs age7 and for dog year 41\n",
            "the dogs age8 and for dog year 45\n",
            "the dogs age9 and for dog year 49\n",
            "the dogs age10 and for dog year 53\n",
            "the dogs age11 and for dog year 57\n",
            "the dogs age12 and for dog year 61\n",
            "the dogs age13 and for dog year 65\n"
          ]
        }
      ],
      "source": [
        "for calendar_age in range(1, 14):\n",
        "    if calendar_age <= 2:\n",
        "        dog_age = calendar_age * 10.5\n",
        "    else:\n",
        "        dog_age = 2 * 10.5 + (calendar_age - 2) * 4\n",
        "\n",
        "    print(f\"The dog's age in dog's years for {calendar_age} calendar years is {int(dog_age)}.\")\n",
        "\n",
        "\n",
        "\n"
      ]
    }
  ],
  "metadata": {
    "colab": {
      "provenance": [],
      "include_colab_link": true
    },
    "kernelspec": {
      "display_name": "Python 3",
      "name": "python3"
    }
  },
  "nbformat": 4,
  "nbformat_minor": 0
}