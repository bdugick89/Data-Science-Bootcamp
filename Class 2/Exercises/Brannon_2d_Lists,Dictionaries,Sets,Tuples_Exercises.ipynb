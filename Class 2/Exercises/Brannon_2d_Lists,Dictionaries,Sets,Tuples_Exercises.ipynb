{
  "cells": [
    {
      "cell_type": "markdown",
      "metadata": {
        "id": "view-in-github",
        "colab_type": "text"
      },
      "source": [
        "<a href=\"https://colab.research.google.com/github/bdugick89/Data-Science-Bootcamp/blob/main/Brannon_2d_Lists%2CDictionaries%2CSets%2CTuples_Exercises.ipynb\" target=\"_parent\"><img src=\"https://colab.research.google.com/assets/colab-badge.svg\" alt=\"Open In Colab\"/></a>"
      ]
    },
    {
      "cell_type": "markdown",
      "metadata": {
        "id": "HO-PzNq9dbTR"
      },
      "source": [
        "# Python Data Types Exercises\n",
        "\n",
        "This contains two sets of exercises - Basic and Advanced.  \n",
        "\n",
        "**!!!Only the basic exercises are required.!!!**\n",
        "\n",
        "The advanced exercises require concepts we haven't gone over yet.  They will require prior coding knowledge and/or some Googling.  If you breeze through the basic exercises try your hand at the advanced ones.  "
      ]
    },
    {
      "cell_type": "markdown",
      "metadata": {
        "id": "5EnhXMXUdi9d"
      },
      "source": [
        "##  Basic"
      ]
    },
    {
      "cell_type": "markdown",
      "metadata": {
        "id": "Y9wHuu_3RKsM"
      },
      "source": [
        "1. Given\ta list,\tremove the\telement\tat\tindex\tnumber 4 and add\tit at index position 2 (over-writing what is currently there) and also add it at the end of the list.\n",
        "\n",
        "```python\n",
        "list1 = [34, 56, 49, 4900, 249, 494]\n",
        "```"
      ]
    },
    {
      "cell_type": "code",
      "source": [
        "list1 = [34, 56, 49, 4900, 249, 494]\n",
        "\n",
        "removed_num= list1.pop(4)\n",
        "list1.insert(2,removed_num)\n",
        "list1.append(removed_num)\n",
        "list1"
      ],
      "metadata": {
        "id": "Bw4pH8N_n0ei",
        "colab": {
          "base_uri": "https://localhost:8080/"
        },
        "outputId": "ac3cab73-dba5-4256-b450-7725822c741d"
      },
      "execution_count": 6,
      "outputs": [
        {
          "output_type": "execute_result",
          "data": {
            "text/plain": [
              "[34, 56, 249, 49, 4900, 494, 249]"
            ]
          },
          "metadata": {},
          "execution_count": 6
        }
      ]
    },
    {
      "cell_type": "markdown",
      "metadata": {
        "id": "ppI4IIAcfVhs"
      },
      "source": [
        "2. Create a dictionary to store some information about yourself.  For example you might have key value pairs like:\n",
        "- favorite ice cream & chocolate\n",
        "- hair color & blond"
      ]
    },
    {
      "cell_type": "code",
      "execution_count": 13,
      "metadata": {
        "id": "hAZE0C7DfuYt",
        "colab": {
          "base_uri": "https://localhost:8080/"
        },
        "outputId": "20ec3dca-a549-4638-95c5-5e0fa6a6b039"
      },
      "outputs": [
        {
          "output_type": "execute_result",
          "data": {
            "text/plain": [
              "{'make': 'bmw', 'model': 'M-series', 'Year': 'Early-2000s'}"
            ]
          },
          "metadata": {},
          "execution_count": 13
        }
      ],
      "source": [
        "my_self = { \"name\": \"Robert\",\n",
        "           \"ice cream\": \"cookies & cream\",\n",
        "           \"hair color\": \"brown, mostly\",\n",
        "            \"transport\": \"scooter\",\n",
        "}\n",
        "my_self\n",
        "\n",
        "\n",
        "\n",
        "\n",
        "cars_i_like ={\"make\":\"bmw\",\n",
        "              \"model\":\"M-series\",\n",
        "              \"Year\":\"Early-2000s\"}\n",
        "cars_i_like"
      ]
    },
    {
      "cell_type": "markdown",
      "metadata": {
        "id": "3A_Nqu2dgdLW"
      },
      "source": [
        "3. Add an additional piece of information about yourself to your dictionary from above."
      ]
    },
    {
      "cell_type": "code",
      "execution_count": 14,
      "metadata": {
        "id": "17dbSokbgjwz",
        "colab": {
          "base_uri": "https://localhost:8080/"
        },
        "outputId": "3d3efb5c-8a16-4342-bbad-0e002e7091c8"
      },
      "outputs": [
        {
          "output_type": "execute_result",
          "data": {
            "text/plain": [
              "{'make': 'bmw', 'model': 'M-series', 'Year': 'Early-2000s', 'Colors': 'Blue'}"
            ]
          },
          "metadata": {},
          "execution_count": 14
        }
      ],
      "source": [
        "\n",
        "\n",
        "cars_i_like['Colors'] = 'Blue'\n",
        "cars_i_like\n"
      ]
    },
    {
      "cell_type": "markdown",
      "metadata": {
        "id": "m9nSG801gnU_"
      },
      "source": [
        "4. Remove one of the entries from your dictionary"
      ]
    },
    {
      "cell_type": "code",
      "source": [
        "del cars_i_like['Year']\n",
        "cars_i_like"
      ],
      "metadata": {
        "colab": {
          "base_uri": "https://localhost:8080/"
        },
        "id": "Z6MU0Y0ook6J",
        "outputId": "b4903314-1158-48a6-d11b-2e1ff11a104c"
      },
      "execution_count": 16,
      "outputs": [
        {
          "output_type": "execute_result",
          "data": {
            "text/plain": [
              "{'make': 'bmw', 'model': 'M-series', 'Colors': 'Blue'}"
            ]
          },
          "metadata": {},
          "execution_count": 16
        }
      ]
    },
    {
      "cell_type": "code",
      "execution_count": 18,
      "metadata": {
        "id": "GwLr61Usgmxs",
        "colab": {
          "base_uri": "https://localhost:8080/"
        },
        "outputId": "47802efd-231d-4bdc-e495-8eea6790b7b4"
      },
      "outputs": [
        {
          "output_type": "execute_result",
          "data": {
            "text/plain": [
              "{'make': 'bmw', 'model': 'M-series'}"
            ]
          },
          "metadata": {},
          "execution_count": 18
        }
      ],
      "source": [
        "cars_i_like.pop('Colors')\n",
        "cars_i_like"
      ]
    },
    {
      "cell_type": "markdown",
      "metadata": {
        "id": "nVtfmPVJgCO2"
      },
      "source": [
        "5. Create your own tuple.  You can put whatever you want in it.  "
      ]
    },
    {
      "cell_type": "code",
      "execution_count": 19,
      "metadata": {
        "id": "lB8UcX3tgQuk"
      },
      "outputs": [],
      "source": [
        "tuple_test= 12312, 12341,25312,1235,5,1234,1234"
      ]
    },
    {
      "cell_type": "markdown",
      "metadata": {
        "id": "J2mAAJ25g9dB"
      },
      "source": [
        "6. Create two sets and find the intersection between them."
      ]
    },
    {
      "cell_type": "code",
      "execution_count": 23,
      "metadata": {
        "id": "xKq1akfUhJYv",
        "colab": {
          "base_uri": "https://localhost:8080/"
        },
        "outputId": "3160d546-1cb5-4feb-c2c5-b7e880c459f9"
      },
      "outputs": [
        {
          "output_type": "execute_result",
          "data": {
            "text/plain": [
              "{1, 5, 234}"
            ]
          },
          "metadata": {},
          "execution_count": 23
        }
      ],
      "source": [
        "set_1 = {1,2,5232,5,234,}\n",
        "set_2 = {122,1,1234,5,1234,234,}\n",
        "\n",
        "result = set.intersection(set_1,set_2)\n",
        "result"
      ]
    },
    {
      "cell_type": "markdown",
      "metadata": {
        "id": "E5_irxCAhBX_"
      },
      "source": [
        "7. Find another method to run on one or both of your sets."
      ]
    },
    {
      "cell_type": "code",
      "execution_count": 30,
      "metadata": {
        "id": "L8mSY27rhLEd",
        "colab": {
          "base_uri": "https://localhost:8080/"
        },
        "outputId": "ac5f44a0-b3e9-4d49-cf4f-2d9e63cdb6ab"
      },
      "outputs": [
        {
          "output_type": "execute_result",
          "data": {
            "text/plain": [
              "{2, 5232}"
            ]
          },
          "metadata": {},
          "execution_count": 30
        }
      ],
      "source": [
        "result = set.difference(set_1,set_2)\n",
        "result\n",
        "\n",
        "result = set.difference(set_1,set_2)\n",
        "result"
      ]
    },
    {
      "cell_type": "markdown",
      "metadata": {
        "id": "XDIyQ2bciA8j"
      },
      "source": [
        "---"
      ]
    },
    {
      "cell_type": "markdown",
      "metadata": {
        "id": "LU2cBidkOV61"
      },
      "source": [
        "## Advanced (Optional- for fun)"
      ]
    },
    {
      "cell_type": "markdown",
      "metadata": {
        "id": "I_3umvu9SqPe"
      },
      "source": [
        "You have two lists.  Create a new list with the elements with odd indices from the first list and the elements with even indices from the second list.\n",
        "\n",
        "```python\n",
        "list1 = [34, 56, 49, 4900, 249, 494]\n",
        "list2 = [45, 65, 34, 23, 67, 5]\n",
        "```\n"
      ]
    },
    {
      "cell_type": "code",
      "source": [
        "list_1 = [34, 56, 49, 4900, 249, 494]\n",
        "list_2 = [45, 65, 34, 23, 67, 5]\n",
        "\n",
        "odd_numbers = [ num for num in list_1 if num % 2 != 0]\n",
        "even_numbers = [ num for num in list_2 if num % 2 == 0]\n",
        "\n",
        "new_list = odd_numbers + even_numbers\n",
        "new_list\n",
        "\n",
        "\n",
        "list_1 = [34, 56, 49, 4900, 249, 494]\n",
        "list_2 = [45, 65, 34, 23, 67, 5]\n",
        "new_list = [ num for num in list_1 if num % 2 != 0]  + [ num for num in list_2 if num % 2 == 0]\n",
        "new_list"
      ],
      "metadata": {
        "id": "XM04wh06n5Az",
        "colab": {
          "base_uri": "https://localhost:8080/"
        },
        "outputId": "fe307fc8-a7b9-4cab-fcc9-82463238c4f0"
      },
      "execution_count": 43,
      "outputs": [
        {
          "output_type": "execute_result",
          "data": {
            "text/plain": [
              "[49, 249, 34]"
            ]
          },
          "metadata": {},
          "execution_count": 43
        }
      ]
    },
    {
      "cell_type": "markdown",
      "metadata": {
        "id": "ELvXWYgHVYH-"
      },
      "source": [
        "Starting with a given list, count the occurrences of each unique element.  Create a dictionary to store the count of each element.\n",
        "\n",
        "```python\n",
        "list1 = [34, 544, 544, 34, 67, 67, 34, 5, 7, 9]\n",
        "```\n"
      ]
    },
    {
      "cell_type": "code",
      "execution_count": 63,
      "metadata": {
        "id": "6tDMiS1yUhtv",
        "colab": {
          "base_uri": "https://localhost:8080/"
        },
        "outputId": "44776a59-011f-42cd-b250-18a5a3083cf9"
      },
      "outputs": [
        {
          "output_type": "execute_result",
          "data": {
            "text/plain": [
              "{34: 3, 544: 2, 67: 2, 5: 1, 7: 1, 9: 1}"
            ]
          },
          "metadata": {},
          "execution_count": 63
        }
      ],
      "source": [
        "from collections import Counter\n",
        "list_1 = [34, 544, 544, 34, 67, 67, 34, 5, 7, 9]\n",
        "#call the counter method\n",
        "occurrences_counter = Counter(list_1)\n",
        "#convert result set into a dictionary with the dict class\n",
        "occurrences_dict = dict(occurrences_counter)\n",
        "occurrences_dict\n"
      ]
    },
    {
      "cell_type": "markdown",
      "metadata": {
        "id": "zD0BzV2dXFOG"
      },
      "source": [
        "Given two sets, find the intersection of the sets and remove those elements from the first set.\n",
        "\n",
        "```python\n",
        "set1 = {x for x in range(20)}\n",
        "set2 = {x for x in range(3,10)}\n",
        "```"
      ]
    },
    {
      "cell_type": "code",
      "execution_count": 77,
      "metadata": {
        "id": "0iyLNCKbWgiS",
        "colab": {
          "base_uri": "https://localhost:8080/"
        },
        "outputId": "b42fb080-9423-4beb-b52b-71a0b15befc9"
      },
      "outputs": [
        {
          "output_type": "stream",
          "name": "stdout",
          "text": [
            "Set1_Org: {0, 1, 2, 3, 4, 5, 6, 7, 8, 9, 10, 11, 12, 13, 14, 15, 16, 17, 18, 19}\n",
            "Set2_Org: {0, 1, 2, 3, 4, 5, 6, 7, 8, 9, 10, 11, 12, 13, 14, 15, 16, 17, 18, 19}\n",
            "Inersection_Set: {3, 4, 5, 6, 7, 8, 9}\n",
            "Set1_Update: {3, 4, 5, 6, 7, 8, 9}\n"
          ]
        }
      ],
      "source": [
        "set1 = {x for x in range(20)}\n",
        "print(\"Set1_Org:\", set1)\n",
        "set2 = {x for x in range(3,10)}\n",
        "print(\"Set2_Org:\", set1)\n",
        "intersection_set= set.intersection(set1,set2)\n",
        "print(\"Inersection_Set:\", intersection_set)\n",
        "set1.difference(intersection_set)\n",
        "print(\"Set1_Update:\", intersection_set)\n"
      ]
    },
    {
      "cell_type": "markdown",
      "metadata": {
        "id": "11UI6mb3YEPl"
      },
      "source": [
        "[link text](https://)Given a list, check if each element already exists in a dictionary as a key's value.  If not, delete the element from the list.\n",
        "\n",
        "```python\n",
        "list1 = [4, 5, 6, 7, 3, 5, 4, 3]\n",
        "fruit_counts = {\n",
        "    \"apple\" : 4,\n",
        "    \"orange\": 8,\n",
        "    \"grapefruit\": 3,\n",
        "    \"grapes\": 7\n",
        "}\n",
        "```\n"
      ]
    },
    {
      "cell_type": "code",
      "execution_count": 104,
      "metadata": {
        "id": "c6rx7gHKXZ97",
        "colab": {
          "base_uri": "https://localhost:8080/"
        },
        "outputId": "7b26b7bf-64bb-4de3-a159-b03eb99486e6"
      },
      "outputs": [
        {
          "output_type": "execute_result",
          "data": {
            "text/plain": [
              "[4, 5, 6, 7, 3, 5, 4, 3]"
            ]
          },
          "metadata": {},
          "execution_count": 104
        }
      ],
      "source": [
        "list1 = [4, 5, 6, 7, 3, 5, 4, 3]\n",
        "fruit_counts = {\n",
        "    \"apple\" : 4,\n",
        "    \"orange\": 8,\n",
        "    \"grapefruit\": 3,\n",
        "    \"grapes\": 7\n",
        "}\n",
        "\n",
        "updated_list = [key for key in list1 if key not in fruit_counts]\n",
        "updated_list\n"
      ]
    },
    {
      "cell_type": "markdown",
      "metadata": {
        "id": "_q1LGansZlIo"
      },
      "source": [
        "With a given dictionary, get all values and add to a list, but don't add duplicates.\n",
        "\n",
        "```python\n",
        "fruit = {\n",
        "  \"apple\" : 4,\n",
        "  \"orange\": 8,\n",
        "  \"grapefruit\": 3,\n",
        "  \"grapes\": 7,\n",
        "  \"cherries\": 4,\n",
        "  \"nanas\": 3\n",
        "}\n",
        "```\n"
      ]
    },
    {
      "cell_type": "code",
      "execution_count": 111,
      "metadata": {
        "id": "068Sbhf6YlIi",
        "colab": {
          "base_uri": "https://localhost:8080/"
        },
        "outputId": "0a8a079e-84c1-4b76-9bf2-0114eeb8bf9c"
      },
      "outputs": [
        {
          "output_type": "execute_result",
          "data": {
            "text/plain": [
              "[8, 3, 4, 7]"
            ]
          },
          "metadata": {},
          "execution_count": 111
        }
      ],
      "source": [
        "fruit = {\n",
        "  \"apple\" : 4,\n",
        "  \"orange\": 8,\n",
        "  \"grapefruit\": 3,\n",
        "  \"grapes\": 7,\n",
        "  \"cherries\": 4,\n",
        "  \"nanas\": 3\n",
        "}\n",
        "\n",
        "distinct_fruit_set = {fruit for fruit in fruit_counts.values()}\n",
        "fruit = list(distinct_fruit_set)\n",
        "fruit\n"
      ]
    },
    {
      "cell_type": "markdown",
      "metadata": {
        "id": "x8yCf0DVaFnW"
      },
      "source": [
        "Given a string input calculate and display the number of digits and letters.\n",
        "\n",
        "```python\n",
        "s = \"I <3 python\"\n",
        "```"
      ]
    },
    {
      "cell_type": "code",
      "execution_count": 113,
      "metadata": {
        "id": "zaoI0rVsZ9zt"
      },
      "outputs": [],
      "source": [
        "alpha,string=0,\"I <3 python\"\n"
      ]
    }
  ],
  "metadata": {
    "colab": {
      "provenance": [],
      "include_colab_link": true
    },
    "kernelspec": {
      "display_name": "Python 3",
      "name": "python3"
    }
  },
  "nbformat": 4,
  "nbformat_minor": 0
}