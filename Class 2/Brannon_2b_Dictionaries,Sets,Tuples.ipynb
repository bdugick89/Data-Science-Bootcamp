{
  "cells": [
    {
      "cell_type": "markdown",
      "metadata": {
        "id": "view-in-github",
        "colab_type": "text"
      },
      "source": [
        "<a href=\"https://colab.research.google.com/github/bdugick89/Data-Science-Bootcamp/blob/main/Brannon_2b_Dictionaries%2CSets%2CTuples.ipynb\" target=\"_parent\"><img src=\"https://colab.research.google.com/assets/colab-badge.svg\" alt=\"Open In Colab\"/></a>"
      ]
    },
    {
      "cell_type": "markdown",
      "metadata": {
        "id": "UM4IlHd41EfL"
      },
      "source": [
        "## Types - built-in data structures - collections\n",
        "- Lists\n",
        "  - Mutable - You can change them!\n",
        "  - Indexed\n",
        "  - Ordered by index ( not by value )\n",
        "  - Values\n",
        "    - Can be anything: e.g. numbers, other lists\n",
        "    - Duplicates allowed\n",
        "  - [1, 2, 3]\n",
        "- Dictionaries\n",
        "  - Mutable\n",
        "  - Key-Value Pairs\n",
        "  - Unordered for older version of Python, Ordered for newer versions\n",
        "  - Keys\n",
        "    - Unique elements ( no duplicates )\n",
        "    - Numbers or Strings\n",
        "  - Values\n",
        "    - Anything\n",
        "  - {a:1, b:2, c:3}\n",
        "  - Use case: information for a user ( user id is key, info is value stored )\n",
        "- Sets\n",
        "  - Mutable\n",
        "  - Unordered\n",
        "  - Unique elements ( no duplicates )\n",
        "  - {1, 2, 3}\n",
        "  - Use case: determine if a particular value has been seen before\n",
        "- Tuples\n",
        "  - Unmutable - You can't change them!\n",
        "  - Ordered\n",
        "  - (1, 2, 3)\n",
        "  - Use case: returning values from a function\n"
      ]
    },
    {
      "cell_type": "markdown",
      "source": [
        "For all of these collections, think [CRUD]( https://en.wikipedia.org/wiki/Create,_read,_update_and_delete ): Create, Read, Update, Delete."
      ],
      "metadata": {
        "id": "cw519oS5AWg2"
      }
    },
    {
      "cell_type": "markdown",
      "metadata": {
        "id": "iUQcYia-3ouT"
      },
      "source": [
        "## Dictionaries"
      ]
    },
    {
      "cell_type": "markdown",
      "metadata": {
        "id": "7UtPUmr1wGgi"
      },
      "source": [
        "\n",
        "- Unordered for older version of Python, Ordered for newer versions\n",
        "- Mutable - You can change what is stored in them\n",
        "- Key-Value Pairs\n",
        "- {a:1, b:2, c:3}\n"
      ]
    },
    {
      "cell_type": "markdown",
      "metadata": {
        "id": "FpYk4THswqNP"
      },
      "source": [
        "Make a new dictionary"
      ]
    },
    {
      "cell_type": "code",
      "execution_count": null,
      "metadata": {
        "id": "4m7W_rAC1B3K",
        "outputId": "db6b731f-2e6f-4e30-afae-438cfea088a6",
        "colab": {
          "base_uri": "https://localhost:8080/"
        }
      },
      "outputs": [
        {
          "output_type": "execute_result",
          "data": {
            "text/plain": [
              "{'dogs': 14, 'cats': 1, 'snake': 1, 'goats': 5}"
            ]
          },
          "metadata": {},
          "execution_count": 1
        }
      ],
      "source": [
        "cohort_pets = {'dogs':14, 'cats': 1, 'snake': 1, 'goats': 5}\n",
        "cohort_pets"
      ]
    },
    {
      "cell_type": "markdown",
      "metadata": {
        "id": "UMEM_Pkswsa6"
      },
      "source": [
        "Access a value"
      ]
    },
    {
      "cell_type": "code",
      "execution_count": null,
      "metadata": {
        "id": "JBFU5LAx3ZY2",
        "outputId": "76124f6f-00a5-4f32-ed95-c3ddc044d367",
        "colab": {
          "base_uri": "https://localhost:8080/"
        }
      },
      "outputs": [
        {
          "output_type": "execute_result",
          "data": {
            "text/plain": [
              "14"
            ]
          },
          "metadata": {},
          "execution_count": 2
        }
      ],
      "source": [
        "cohort_pets['dogs']"
      ]
    },
    {
      "cell_type": "code",
      "execution_count": null,
      "metadata": {
        "id": "H4Uo9ekH3i1W"
      },
      "outputs": [],
      "source": [
        "cohort_pets['cats']"
      ]
    },
    {
      "cell_type": "code",
      "execution_count": null,
      "metadata": {
        "id": "q60Z-qOE3ltE"
      },
      "outputs": [],
      "source": [
        "pop_return = cohort_pets.pop('cats')"
      ]
    },
    {
      "cell_type": "code",
      "execution_count": null,
      "metadata": {
        "id": "weWqyUoI3ymV"
      },
      "outputs": [],
      "source": [
        "print(pop_return)\n",
        "print(cohort_pets)"
      ]
    },
    {
      "cell_type": "code",
      "execution_count": null,
      "metadata": {
        "id": "xC5id5ALFGHy",
        "outputId": "6d35f53b-e07c-4929-9cc1-898e7fc0ea72",
        "colab": {
          "base_uri": "https://localhost:8080/"
        }
      },
      "outputs": [
        {
          "output_type": "execute_result",
          "data": {
            "text/plain": [
              "dict_keys(['dogs', 'cats', 'snake', 'goats'])"
            ]
          },
          "metadata": {},
          "execution_count": 3
        }
      ],
      "source": [
        "# Use .keys() to view dictionary keys\n",
        "cohort_pets.keys()"
      ]
    },
    {
      "cell_type": "code",
      "execution_count": null,
      "metadata": {
        "id": "KYPeBh-iFKYi",
        "outputId": "c1b6fbcc-9a38-4b7b-ff9c-a1086949131a",
        "colab": {
          "base_uri": "https://localhost:8080/"
        }
      },
      "outputs": [
        {
          "output_type": "execute_result",
          "data": {
            "text/plain": [
              "dict_values([14, 1, 1, 5])"
            ]
          },
          "metadata": {},
          "execution_count": 4
        }
      ],
      "source": [
        "# Use .values() to view dictionary valus\n",
        "cohort_pets.values()"
      ]
    },
    {
      "cell_type": "code",
      "execution_count": null,
      "metadata": {
        "id": "TQrb6TaMFW3r"
      },
      "outputs": [],
      "source": [
        "# Add to your dictionary\n",
        "cohort_pets['hamsters'] = 1\n",
        "print(cohort_pets)"
      ]
    },
    {
      "cell_type": "markdown",
      "metadata": {
        "id": "Pcsr-mTwc5-v"
      },
      "source": [
        " You can also have nested dictionaries.  A use for a nested dictionary might be a user list with information about each user."
      ]
    },
    {
      "cell_type": "code",
      "execution_count": null,
      "metadata": {
        "id": "tCjosTf-dCLq",
        "outputId": "a3acf75d-790d-4ec6-db5e-3d66c505bd1d",
        "colab": {
          "base_uri": "https://localhost:8080/",
          "height": 143
        }
      },
      "outputs": [
        {
          "output_type": "error",
          "ename": "SyntaxError",
          "evalue": "'{' was never closed (<ipython-input-8-4df3336b5d7d>, line 1)",
          "traceback": [
            "\u001b[0;36m  File \u001b[0;32m\"<ipython-input-8-4df3336b5d7d>\"\u001b[0;36m, line \u001b[0;32m1\u001b[0m\n\u001b[0;31m    'kyla':{'first name': 'kyla',\u001b[0m\n\u001b[0m           ^\u001b[0m\n\u001b[0;31mSyntaxError\u001b[0m\u001b[0;31m:\u001b[0m '{' was never closed\n"
          ]
        }
      ],
      "source": [
        "users = {\n",
        "    'kyla':{'first name': 'kyla',\n",
        "            'last name': 'bendt',\n",
        "            'city': 'tijeras'},\n",
        "    'cliff':{'first name': 'cliff',\n",
        "             'last name': 'lewis',\n",
        "             'city': 'albuquerque'\n",
        "             }\n",
        "    }\n",
        "users"
      ]
    },
    {
      "cell_type": "code",
      "execution_count": null,
      "metadata": {
        "id": "_JPM696stZMf"
      },
      "outputs": [],
      "source": [
        "users['cliff']['city']"
      ]
    },
    {
      "cell_type": "code",
      "execution_count": null,
      "metadata": {
        "id": "i4UEW4tfpsdF"
      },
      "outputs": [],
      "source": [
        "users['cliff']\n"
      ]
    },
    {
      "cell_type": "markdown",
      "metadata": {
        "id": "gJlUjh9BDfsU"
      },
      "source": [
        "### Your Turn\n",
        "Create a dictionary called `my_cohort` that uses the names of everyone in your cohort as the key and their favorite color as the value."
      ]
    },
    {
      "cell_type": "code",
      "execution_count": 5,
      "metadata": {
        "id": "Y1QMpjwTDx6Z",
        "outputId": "77bc7d8b-2755-4284-ad1a-803a3d13dc5d",
        "colab": {
          "base_uri": "https://localhost:8080/"
        }
      },
      "outputs": [
        {
          "output_type": "stream",
          "name": "stdout",
          "text": [
            "{'Brannon': {'first name': 'Brannon', 'Color': 'Blue'}, 'Pranab': {'First name': 'Pranab', 'Color': 'Red'}}\n"
          ]
        }
      ],
      "source": [
        "# Solution\n",
        "my_cohort = {\n",
        "    'Brannon': {'first name': 'Brannon', 'Color': 'Blue'},\n",
        "    'Pranab': {'First name': 'Pranab', 'Color': 'Red'}\n",
        "}\n",
        "\n",
        "print(my_cohort)"
      ]
    },
    {
      "cell_type": "markdown",
      "metadata": {
        "id": "GzPU8GcL4vcf"
      },
      "source": [
        "## Sets"
      ]
    },
    {
      "cell_type": "markdown",
      "metadata": {
        "id": "JrTgsl8aw841"
      },
      "source": [
        "  - Unordered\n",
        "  - Unique elements (no duplicates)\n",
        "  - Mutable\n",
        "  - {1, 2, 3}"
      ]
    },
    {
      "cell_type": "code",
      "execution_count": 6,
      "metadata": {
        "id": "VdLzNQ9Q4Uh8",
        "colab": {
          "base_uri": "https://localhost:8080/"
        },
        "outputId": "78065ed9-4bb7-4d54-bacc-f3b0e83842b3"
      },
      "outputs": [
        {
          "output_type": "stream",
          "name": "stdout",
          "text": [
            "{4, 6, 8, 9, 10, 12, 14, 15}\n"
          ]
        }
      ],
      "source": [
        "divisible_numbers = {4,6,8,9,10,12,14,15,15,15,15,15}\n",
        "print(divisible_numbers)"
      ]
    },
    {
      "cell_type": "code",
      "execution_count": null,
      "metadata": {
        "id": "VgC2O0kw5Kx9"
      },
      "outputs": [],
      "source": [
        "prime_numbers = {1,2,3,5,7,11, 'thirteen'}\n",
        "print(prime_numbers)"
      ]
    },
    {
      "cell_type": "code",
      "execution_count": null,
      "metadata": {
        "id": "cErw95-XOC2h"
      },
      "outputs": [],
      "source": [
        "prime_numbers."
      ]
    },
    {
      "cell_type": "markdown",
      "metadata": {
        "id": "-uTiTQ6dxFCm"
      },
      "source": [
        "Sets are good for testing membership, overlap, etc."
      ]
    },
    {
      "cell_type": "code",
      "execution_count": null,
      "metadata": {
        "id": "rOkY0F3d5UYb"
      },
      "outputs": [],
      "source": [
        "all_numbers = prime_numbers.union(divisible_numbers)\n",
        "print(all_numbers)"
      ]
    },
    {
      "cell_type": "code",
      "execution_count": null,
      "metadata": {
        "id": "ta5LdcgM6A1L"
      },
      "outputs": [],
      "source": [
        "all_numbers - prime_numbers"
      ]
    },
    {
      "cell_type": "code",
      "execution_count": null,
      "metadata": {
        "id": "LC_RS9WOuqeP"
      },
      "outputs": [],
      "source": [
        "prime_numbers.issubset(all_numbers)"
      ]
    },
    {
      "cell_type": "markdown",
      "metadata": {
        "id": "r9K8RYiUD2Nr"
      },
      "source": [
        "### Your Turn\n",
        "1. Create a set called `set_1` that includes the numbers: 5, 10, 15, 20, 25, 30.\n",
        "2. Create a set called `set_2` that includes the numbers:\n",
        "10, 20, 30, 40, 50, 60, 70, 80, 90.\n",
        "3. Use a set **method** to return a set that includes the numbers that are in both `set_1` and `set_2`. That is, what numbers are common to both sets?<br />*Hint*: You may need to read the documentation for the set methods to figure out which one to use.  "
      ]
    },
    {
      "cell_type": "code",
      "execution_count": 19,
      "metadata": {
        "id": "Y7uW6rMxEWkb",
        "colab": {
          "base_uri": "https://localhost:8080/"
        },
        "outputId": "299d11ff-74ad-4f1e-f64d-3ff6089e4500"
      },
      "outputs": [
        {
          "output_type": "execute_result",
          "data": {
            "text/plain": [
              "{10, 20, 30}"
            ]
          },
          "metadata": {},
          "execution_count": 19
        }
      ],
      "source": [
        "# Solution 1\n",
        "set_1 = {5, 10, 15, 20, 25, 30}\n",
        "set_1\n",
        "set_2 = {10, 20, 30, 40, 50, 60, 70, 80, 90}\n",
        "all_numbers = set_1.union(set_2)\n",
        "print(all_numbers)\n",
        "\n",
        "set_1.inersection(set_2)\n",
        "\n",
        "set_1 -(set_1 - set_2)\n"
      ]
    },
    {
      "cell_type": "code",
      "execution_count": null,
      "metadata": {
        "id": "Gh5t_YtFEXh3"
      },
      "outputs": [],
      "source": [
        "# Solution 2\n"
      ]
    },
    {
      "cell_type": "code",
      "execution_count": null,
      "metadata": {
        "id": "SqEnjqoREYb9"
      },
      "outputs": [],
      "source": [
        "# Solution 3\n"
      ]
    },
    {
      "cell_type": "markdown",
      "metadata": {
        "id": "hmf6oBAK6gB8"
      },
      "source": [
        "## Tuples\n"
      ]
    },
    {
      "cell_type": "markdown",
      "metadata": {
        "id": "ADn-_ksKxL3P"
      },
      "source": [
        "  - Unmutable - You can't change them!\n",
        "  - Ordered\n",
        "  - (1, 2, 3)"
      ]
    },
    {
      "cell_type": "code",
      "execution_count": 20,
      "metadata": {
        "id": "8eRQHK6c6iov"
      },
      "outputs": [],
      "source": [
        "my_tuple = (5, 2, 3, 1, 1, 1, 4)\n",
        "my_tuple"
      ]
    },
    {
      "cell_type": "code",
      "execution_count": 21,
      "metadata": {
        "id": "m_WhpQaXzLbB"
      },
      "outputs": [],
      "source": [
        "my_tuple = 5, 2, 3, 1, 3, 1, 7\n",
        "my_tuple"
      ]
    },
    {
      "cell_type": "code",
      "execution_count": 22,
      "metadata": {
        "id": "zLXjWq8jQna-",
        "colab": {
          "base_uri": "https://localhost:8080/"
        },
        "outputId": "0ea706f1-72c0-4c3b-a7d0-d232acde8a7d"
      },
      "outputs": [
        {
          "output_type": "execute_result",
          "data": {
            "text/plain": [
              "5"
            ]
          },
          "metadata": {},
          "execution_count": 22
        }
      ],
      "source": [
        "my_tuple[0]"
      ]
    },
    {
      "cell_type": "code",
      "execution_count": 23,
      "metadata": {
        "id": "_A5uCf81cR80"
      },
      "outputs": [],
      "source": [
        "another_tuple = 1, 2, 3, 4, 3, 1"
      ]
    },
    {
      "cell_type": "code",
      "execution_count": 24,
      "metadata": {
        "id": "kEeUB_Ar6mTE",
        "colab": {
          "base_uri": "https://localhost:8080/"
        },
        "outputId": "903f6758-d23a-49fe-fc28-419426582343"
      },
      "outputs": [
        {
          "output_type": "execute_result",
          "data": {
            "text/plain": [
              "2"
            ]
          },
          "metadata": {},
          "execution_count": 24
        }
      ],
      "source": [
        "my_tuple[1]"
      ]
    },
    {
      "cell_type": "code",
      "execution_count": 25,
      "metadata": {
        "id": "k3RNGTCo6pTr",
        "colab": {
          "base_uri": "https://localhost:8080/"
        },
        "outputId": "08bc708d-1064-426f-9bd8-48801f313c35"
      },
      "outputs": [
        {
          "output_type": "execute_result",
          "data": {
            "text/plain": [
              "2"
            ]
          },
          "metadata": {},
          "execution_count": 25
        }
      ],
      "source": [
        "my_tuple.count(1)"
      ]
    },
    {
      "cell_type": "code",
      "execution_count": 26,
      "metadata": {
        "id": "GXi8MWee7suN",
        "colab": {
          "base_uri": "https://localhost:8080/"
        },
        "outputId": "c5ab04d0-d940-4ccc-a5c1-1acc61a56175"
      },
      "outputs": [
        {
          "output_type": "execute_result",
          "data": {
            "text/plain": [
              "1"
            ]
          },
          "metadata": {},
          "execution_count": 26
        }
      ],
      "source": [
        "my_tuple.index(2)"
      ]
    },
    {
      "cell_type": "code",
      "source": [
        "my_tuple.index?\n"
      ],
      "metadata": {
        "id": "-i7XrZVUWCli"
      },
      "execution_count": 27,
      "outputs": []
    },
    {
      "cell_type": "markdown",
      "source": [
        "### Combining tuples"
      ],
      "metadata": {
        "id": "DtQSjCw2AQ_B"
      }
    },
    {
      "cell_type": "code",
      "source": [
        "t1 = ( 1,2,3)\n",
        "t2 = ( 4,5,6 )\n",
        "t1+t2"
      ],
      "metadata": {
        "id": "feVsaqAJ_YS-",
        "colab": {
          "base_uri": "https://localhost:8080/"
        },
        "outputId": "ccf3b87e-a5df-4c3f-9f05-bc853cce4d1a"
      },
      "execution_count": 28,
      "outputs": [
        {
          "output_type": "execute_result",
          "data": {
            "text/plain": [
              "(1, 2, 3, 4, 5, 6)"
            ]
          },
          "metadata": {},
          "execution_count": 28
        }
      ]
    },
    {
      "cell_type": "code",
      "source": [
        "( t1, t2)"
      ],
      "metadata": {
        "id": "_ognkQSD_yjn",
        "colab": {
          "base_uri": "https://localhost:8080/"
        },
        "outputId": "465d7965-b285-432d-9ab5-1ac09290a31c"
      },
      "execution_count": 31,
      "outputs": [
        {
          "output_type": "execute_result",
          "data": {
            "text/plain": [
              "((1, 2, 3), (4, 5, 6))"
            ]
          },
          "metadata": {},
          "execution_count": 31
        }
      ]
    },
    {
      "cell_type": "markdown",
      "source": [
        "### Appending a single value to a tuple"
      ],
      "metadata": {
        "id": "TSU13TYAAI1e"
      }
    },
    {
      "cell_type": "code",
      "source": [
        "t1 + 4"
      ],
      "metadata": {
        "id": "VqbspQgx_iq2",
        "colab": {
          "base_uri": "https://localhost:8080/",
          "height": 179
        },
        "outputId": "9c384644-2e7a-4c05-a197-efd40c574c02"
      },
      "execution_count": 32,
      "outputs": [
        {
          "output_type": "error",
          "ename": "TypeError",
          "evalue": "can only concatenate tuple (not \"int\") to tuple",
          "traceback": [
            "\u001b[0;31m---------------------------------------------------------------------------\u001b[0m",
            "\u001b[0;31mTypeError\u001b[0m                                 Traceback (most recent call last)",
            "\u001b[0;32m<ipython-input-32-0583726b92c4>\u001b[0m in \u001b[0;36m<cell line: 1>\u001b[0;34m()\u001b[0m\n\u001b[0;32m----> 1\u001b[0;31m \u001b[0mt1\u001b[0m \u001b[0;34m+\u001b[0m \u001b[0;36m4\u001b[0m\u001b[0;34m\u001b[0m\u001b[0;34m\u001b[0m\u001b[0m\n\u001b[0m",
            "\u001b[0;31mTypeError\u001b[0m: can only concatenate tuple (not \"int\") to tuple"
          ]
        }
      ]
    },
    {
      "cell_type": "code",
      "source": [
        "t1 + (4)"
      ],
      "metadata": {
        "id": "wc_qs_fR_mSw",
        "colab": {
          "base_uri": "https://localhost:8080/",
          "height": 179
        },
        "outputId": "072fb5ab-5401-4f48-cb88-b50dfe102e9b"
      },
      "execution_count": 33,
      "outputs": [
        {
          "output_type": "error",
          "ename": "TypeError",
          "evalue": "can only concatenate tuple (not \"int\") to tuple",
          "traceback": [
            "\u001b[0;31m---------------------------------------------------------------------------\u001b[0m",
            "\u001b[0;31mTypeError\u001b[0m                                 Traceback (most recent call last)",
            "\u001b[0;32m<ipython-input-33-f21e520c7185>\u001b[0m in \u001b[0;36m<cell line: 1>\u001b[0;34m()\u001b[0m\n\u001b[0;32m----> 1\u001b[0;31m \u001b[0mt1\u001b[0m \u001b[0;34m+\u001b[0m \u001b[0;34m(\u001b[0m\u001b[0;36m4\u001b[0m\u001b[0;34m)\u001b[0m\u001b[0;34m\u001b[0m\u001b[0;34m\u001b[0m\u001b[0m\n\u001b[0m",
            "\u001b[0;31mTypeError\u001b[0m: can only concatenate tuple (not \"int\") to tuple"
          ]
        }
      ]
    },
    {
      "cell_type": "code",
      "source": [
        "t1 + (4,)"
      ],
      "metadata": {
        "id": "stxlRzYk_tcM",
        "colab": {
          "base_uri": "https://localhost:8080/"
        },
        "outputId": "90b7fe28-08bd-465a-d151-f36ad4adcd9e"
      },
      "execution_count": 34,
      "outputs": [
        {
          "output_type": "execute_result",
          "data": {
            "text/plain": [
              "(1, 2, 3, 4)"
            ]
          },
          "metadata": {},
          "execution_count": 34
        }
      ]
    },
    {
      "cell_type": "code",
      "source": [
        "t1"
      ],
      "metadata": {
        "id": "Zbn_LSiM83Rq",
        "colab": {
          "base_uri": "https://localhost:8080/"
        },
        "outputId": "453ef1e3-d654-4803-900c-3dd964857f44"
      },
      "execution_count": 35,
      "outputs": [
        {
          "output_type": "execute_result",
          "data": {
            "text/plain": [
              "(1, 2, 3)"
            ]
          },
          "metadata": {},
          "execution_count": 35
        }
      ]
    },
    {
      "cell_type": "code",
      "source": [
        "t1 = t1 + (4,)\n",
        "t1"
      ],
      "metadata": {
        "id": "ZiSTUE9xW2S8",
        "colab": {
          "base_uri": "https://localhost:8080/"
        },
        "outputId": "34d78a36-f0ed-4d32-8f5d-3fa3332182f4"
      },
      "execution_count": 36,
      "outputs": [
        {
          "output_type": "execute_result",
          "data": {
            "text/plain": [
              "(1, 2, 3, 4)"
            ]
          },
          "metadata": {},
          "execution_count": 36
        }
      ]
    },
    {
      "cell_type": "markdown",
      "metadata": {
        "id": "vTrR4n5GaFfx"
      },
      "source": [
        "Tuples are often returned from functions/methods"
      ]
    },
    {
      "cell_type": "code",
      "execution_count": 37,
      "metadata": {
        "id": "xZF-8N1taIzs",
        "colab": {
          "base_uri": "https://localhost:8080/"
        },
        "outputId": "c0b8ff25-2f1a-4737-fcdd-21c533703580"
      },
      "outputs": [
        {
          "output_type": "execute_result",
          "data": {
            "text/plain": [
              "(1, 8)"
            ]
          },
          "metadata": {},
          "execution_count": 37
        }
      ],
      "source": [
        "x = 0.125\n",
        "x.as_integer_ratio()"
      ]
    },
    {
      "cell_type": "code",
      "execution_count": 38,
      "metadata": {
        "id": "pbNOkTqW0HRb",
        "colab": {
          "base_uri": "https://localhost:8080/"
        },
        "outputId": "1e94cbb5-d2bd-4e11-e48a-1aea12762197"
      },
      "outputs": [
        {
          "output_type": "stream",
          "name": "stdout",
          "text": [
            "1/8\n"
          ]
        }
      ],
      "source": [
        "( num, den ) = x.as_integer_ratio()\n",
        "print(f\"{num}/{den}\")"
      ]
    },
    {
      "cell_type": "code",
      "source": [],
      "metadata": {
        "id": "ES8ogOYVXWZ8"
      },
      "execution_count": null,
      "outputs": []
    },
    {
      "cell_type": "code",
      "execution_count": 39,
      "metadata": {
        "id": "etWX0iOg0G4I",
        "colab": {
          "base_uri": "https://localhost:8080/"
        },
        "outputId": "0f2e7887-86a0-44dc-dfdb-3f4e6247e972"
      },
      "outputs": [
        {
          "output_type": "stream",
          "name": "stdout",
          "text": [
            "1/8\n"
          ]
        }
      ],
      "source": [
        "ratio = x.as_integer_ratio()\n",
        "print(f\"{ratio[0]}/{ratio[1]}\")"
      ]
    },
    {
      "cell_type": "code",
      "execution_count": 40,
      "metadata": {
        "id": "iypmXxBaau52",
        "colab": {
          "base_uri": "https://localhost:8080/"
        },
        "outputId": "db4367c8-8ff2-447c-efd0-7e217a5534cd"
      },
      "outputs": [
        {
          "output_type": "stream",
          "name": "stdout",
          "text": [
            "numerator is  1\n"
          ]
        }
      ],
      "source": [
        "numerator, denominator = x.as_integer_ratio()\n",
        "print('numerator is ', numerator)"
      ]
    },
    {
      "cell_type": "code",
      "execution_count": null,
      "metadata": {
        "id": "hso63EvmRf85"
      },
      "outputs": [],
      "source": [
        "denominator"
      ]
    },
    {
      "cell_type": "markdown",
      "metadata": {
        "id": "ro-BYP34Eqwe"
      },
      "source": [
        "### Your Turn\n",
        "1. Create a tuple that contains the following numbers:\n",
        "5, 10, 5, 20, 5, 30, 5, 40.\n",
        "2. Use a tuple method to count the number of 5's in your tuple."
      ]
    },
    {
      "cell_type": "code",
      "execution_count": 46,
      "metadata": {
        "id": "2PpEa16VE7Au",
        "colab": {
          "base_uri": "https://localhost:8080/"
        },
        "outputId": "21164992-d08a-4b15-bfa2-52d41743d2b2"
      },
      "outputs": [
        {
          "output_type": "execute_result",
          "data": {
            "text/plain": [
              "tuple"
            ]
          },
          "metadata": {},
          "execution_count": 46
        }
      ],
      "source": [
        "# Solution 1\n",
        "t1 = 5, 10, 5, 20, 5, 30, 5, 40\n",
        "type(t1)"
      ]
    },
    {
      "cell_type": "code",
      "execution_count": 47,
      "metadata": {
        "id": "hp0KSF9WE74D",
        "colab": {
          "base_uri": "https://localhost:8080/",
          "height": 143
        },
        "outputId": "6061d142-2d96-4233-ee06-5becdab7cd91"
      },
      "outputs": [
        {
          "output_type": "error",
          "ename": "SyntaxError",
          "evalue": "cannot assign to expression here. Maybe you meant '==' instead of '='? (<ipython-input-47-12e8b751a2ab>, line 6)",
          "traceback": [
            "\u001b[0;36m  File \u001b[0;32m\"<ipython-input-47-12e8b751a2ab>\"\u001b[0;36m, line \u001b[0;32m6\u001b[0m\n\u001b[0;31m    am * everything_else = everything_else\u001b[0m\n\u001b[0m    ^\u001b[0m\n\u001b[0;31mSyntaxError\u001b[0m\u001b[0;31m:\u001b[0m cannot assign to expression here. Maybe you meant '==' instead of '='?\n"
          ]
        }
      ],
      "source": [
        "# Solution 2\n",
        "t1.count(5)\n",
        "\n",
        "\n",
        "\n",
        "am * everything_else = everything_else"
      ]
    },
    {
      "cell_type": "markdown",
      "metadata": {
        "id": "G6eACMjb9GFL"
      },
      "source": [
        "## Further Reading:\n",
        "[WhirlwindTourOfPython - Built-In Data Structures](https://github.com/jakevdp/WhirlwindTourOfPython/blob/master/06-Built-in-Data-Structures.ipynb)\n",
        "\n",
        "For more information about lists look to the lists notebook."
      ]
    }
  ],
  "metadata": {
    "colab": {
      "provenance": [],
      "include_colab_link": true
    },
    "kernelspec": {
      "display_name": "Python 3",
      "name": "python3"
    }
  },
  "nbformat": 4,
  "nbformat_minor": 0
}