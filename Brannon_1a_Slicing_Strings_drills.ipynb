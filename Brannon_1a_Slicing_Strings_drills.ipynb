{
  "cells": [
    {
      "cell_type": "markdown",
      "metadata": {
        "id": "view-in-github",
        "colab_type": "text"
      },
      "source": [
        "<a href=\"https://colab.research.google.com/github/bdugick89/Data-Science-Bootcamp/blob/main/Brannon_1a_Slicing_Strings_drills.ipynb\" target=\"_parent\"><img src=\"https://colab.research.google.com/assets/colab-badge.svg\" alt=\"Open In Colab\"/></a>"
      ]
    },
    {
      "cell_type": "markdown",
      "metadata": {
        "id": "G_f5UJiQx-wD"
      },
      "source": [
        "# Slicing strings exercise"
      ]
    },
    {
      "cell_type": "markdown",
      "metadata": {
        "id": "fkNNQPQxyA8z"
      },
      "source": [
        "Below is a quote from a movie.\n",
        "\n",
        "Your task is two-fold:\n",
        "1. to come up with a slice syntax so that the result is the specified output.\n",
        "1. to do as many as you can in 5 minutes\n",
        "\n",
        "For example, here's the slice syntax for two of the lists:\n"
      ]
    },
    {
      "cell_type": "code",
      "execution_count": 8,
      "metadata": {
        "id": "BrEnrRiYys9o"
      },
      "outputs": [],
      "source": [
        "line = \"Strange women lying in ponds distributing swords is no basis for a system of government.\"\n"
      ]
    },
    {
      "cell_type": "markdown",
      "metadata": {
        "id": "a31_Ikhhy8H9"
      },
      "source": [
        "The full collection:\n"
      ]
    },
    {
      "cell_type": "code",
      "execution_count": 25,
      "metadata": {
        "id": "KeslWSjYzDEO"
      },
      "outputs": [],
      "source": [
        "outputs = {}\n",
        "outputs[0] = \"tubirts\"\n",
        "outputs[1] = \"tnemnre\"\n",
        "outputs[2] = \"strib\"\n",
        "outputs[3] = \"d sdnop\"\n",
        "outputs[4] = \"rds i\"\n",
        "outputs[5] = \"emow eg\"\n",
        "outputs[6] = \"w egnar\"\n",
        "outputs[7] = \"sdnop n\"\n",
        "outputs[8] = \"ab on s\"\n",
        "outputs[9] = \"or a \"\n",
        "outputs[10] = \"n si sd\"\n",
        "outputs[11] = \"tsys a \"\n",
        "outputs[12] = \"s a rof\"\n",
        "outputs[13] = \"Stran\"\n",
        "outputs[14] = \"nrevog \"\n",
        "outputs[15] = \"butin\"\n",
        "outputs[16] = \"si sdro\"\n",
        "outputs[17] = \"rof sis\"\n",
        "outputs[18] = \"f gov\"\n",
        "outputs[19] = \"g swo\""
      ]
    },
    {
      "cell_type": "code",
      "source": [
        "for index, char in enumerate(line):\n",
        "    print(f\"Character: {char}, Index: {index}\")\n",
        "\n",
        "#outputs[1] = \"tnemnre\"\n",
        "(\n",
        "line[86:79:-1]\n",
        ")"
      ],
      "metadata": {
        "colab": {
          "base_uri": "https://localhost:8080/"
        },
        "id": "Rcqrb7zvvcOE",
        "outputId": "f6c97f64-de22-485f-83a4-6ff84b684904"
      },
      "execution_count": 75,
      "outputs": [
        {
          "output_type": "stream",
          "name": "stdout",
          "text": [
            "Character: S, Index: 0\n",
            "Character: t, Index: 1\n",
            "Character: r, Index: 2\n",
            "Character: a, Index: 3\n",
            "Character: n, Index: 4\n",
            "Character: g, Index: 5\n",
            "Character: e, Index: 6\n",
            "Character:  , Index: 7\n",
            "Character: w, Index: 8\n",
            "Character: o, Index: 9\n",
            "Character: m, Index: 10\n",
            "Character: e, Index: 11\n",
            "Character: n, Index: 12\n",
            "Character:  , Index: 13\n",
            "Character: l, Index: 14\n",
            "Character: y, Index: 15\n",
            "Character: i, Index: 16\n",
            "Character: n, Index: 17\n",
            "Character: g, Index: 18\n",
            "Character:  , Index: 19\n",
            "Character: i, Index: 20\n",
            "Character: n, Index: 21\n",
            "Character:  , Index: 22\n",
            "Character: p, Index: 23\n",
            "Character: o, Index: 24\n",
            "Character: n, Index: 25\n",
            "Character: d, Index: 26\n",
            "Character: s, Index: 27\n",
            "Character:  , Index: 28\n",
            "Character: d, Index: 29\n",
            "Character: i, Index: 30\n",
            "Character: s, Index: 31\n",
            "Character: t, Index: 32\n",
            "Character: r, Index: 33\n",
            "Character: i, Index: 34\n",
            "Character: b, Index: 35\n",
            "Character: u, Index: 36\n",
            "Character: t, Index: 37\n",
            "Character: i, Index: 38\n",
            "Character: n, Index: 39\n",
            "Character: g, Index: 40\n",
            "Character:  , Index: 41\n",
            "Character: s, Index: 42\n",
            "Character: w, Index: 43\n",
            "Character: o, Index: 44\n",
            "Character: r, Index: 45\n",
            "Character: d, Index: 46\n",
            "Character: s, Index: 47\n",
            "Character:  , Index: 48\n",
            "Character: i, Index: 49\n",
            "Character: s, Index: 50\n",
            "Character:  , Index: 51\n",
            "Character: n, Index: 52\n",
            "Character: o, Index: 53\n",
            "Character:  , Index: 54\n",
            "Character: b, Index: 55\n",
            "Character: a, Index: 56\n",
            "Character: s, Index: 57\n",
            "Character: i, Index: 58\n",
            "Character: s, Index: 59\n",
            "Character:  , Index: 60\n",
            "Character: f, Index: 61\n",
            "Character: o, Index: 62\n",
            "Character: r, Index: 63\n",
            "Character:  , Index: 64\n",
            "Character: a, Index: 65\n",
            "Character:  , Index: 66\n",
            "Character: s, Index: 67\n",
            "Character: y, Index: 68\n",
            "Character: s, Index: 69\n",
            "Character: t, Index: 70\n",
            "Character: e, Index: 71\n",
            "Character: m, Index: 72\n",
            "Character:  , Index: 73\n",
            "Character: o, Index: 74\n",
            "Character: f, Index: 75\n",
            "Character:  , Index: 76\n",
            "Character: g, Index: 77\n",
            "Character: o, Index: 78\n",
            "Character: v, Index: 79\n",
            "Character: e, Index: 80\n",
            "Character: r, Index: 81\n",
            "Character: n, Index: 82\n",
            "Character: m, Index: 83\n",
            "Character: e, Index: 84\n",
            "Character: n, Index: 85\n",
            "Character: t, Index: 86\n",
            "Character: ., Index: 87\n"
          ]
        }
      ]
    },
    {
      "cell_type": "code",
      "source": [
        "#outputs[2] = \"strib\"\n",
        "(\n",
        "line[31:36:1]\n",
        ")"
      ],
      "metadata": {
        "colab": {
          "base_uri": "https://localhost:8080/",
          "height": 35
        },
        "id": "-0yx7HeYxz64",
        "outputId": "1b91af34-688c-422a-b676-672dff0fce47"
      },
      "execution_count": 74,
      "outputs": [
        {
          "output_type": "execute_result",
          "data": {
            "text/plain": [
              "'strib'"
            ],
            "application/vnd.google.colaboratory.intrinsic+json": {
              "type": "string"
            }
          },
          "metadata": {},
          "execution_count": 74
        }
      ]
    },
    {
      "cell_type": "markdown",
      "metadata": {
        "id": "iJg4Dg_ydRsQ"
      },
      "source": [
        "Example"
      ]
    },
    {
      "cell_type": "code",
      "execution_count": 77,
      "metadata": {
        "colab": {
          "base_uri": "https://localhost:8080/",
          "height": 35
        },
        "id": "Tq-kEou0GUcp",
        "outputId": "04bb5430-5ca3-4b35-fdb5-06083a74f29e"
      },
      "outputs": [
        {
          "output_type": "execute_result",
          "data": {
            "text/plain": [
              "'d sdnop'"
            ],
            "application/vnd.google.colaboratory.intrinsic+json": {
              "type": "string"
            }
          },
          "metadata": {},
          "execution_count": 77
        }
      ],
      "source": [
        "#outputs[3] = \"d sdnop\"\n",
        "(\n",
        "line[29:22:-1]\n",
        ")"
      ]
    },
    {
      "cell_type": "code",
      "source": [
        "#outputs[4] = \"rds i\"\n",
        "(\n",
        "line[45:50:1]\n",
        ")"
      ],
      "metadata": {
        "colab": {
          "base_uri": "https://localhost:8080/",
          "height": 35
        },
        "id": "fV4m0CdU_L4W",
        "outputId": "e75fc943-3aef-4253-ec78-8203e705aed5"
      },
      "execution_count": 80,
      "outputs": [
        {
          "output_type": "execute_result",
          "data": {
            "text/plain": [
              "'rds i'"
            ],
            "application/vnd.google.colaboratory.intrinsic+json": {
              "type": "string"
            }
          },
          "metadata": {},
          "execution_count": 80
        }
      ]
    },
    {
      "cell_type": "code",
      "source": [
        "#outputs[5] = \"emow eg\"\n",
        "(\n",
        "line[11:4:-1]\n",
        ")"
      ],
      "metadata": {
        "colab": {
          "base_uri": "https://localhost:8080/",
          "height": 35
        },
        "id": "MaVzJmX0_in1",
        "outputId": "0ea5f562-2f3d-4f84-e402-03966aa027bc"
      },
      "execution_count": 81,
      "outputs": [
        {
          "output_type": "execute_result",
          "data": {
            "text/plain": [
              "'emow eg'"
            ],
            "application/vnd.google.colaboratory.intrinsic+json": {
              "type": "string"
            }
          },
          "metadata": {},
          "execution_count": 81
        }
      ]
    },
    {
      "cell_type": "code",
      "source": [
        "#outputs[6] = \"w egnar\"\n",
        "(\n",
        "line[8:1:-1]\n",
        ")"
      ],
      "metadata": {
        "colab": {
          "base_uri": "https://localhost:8080/",
          "height": 35
        },
        "id": "UtxIj9he_6rU",
        "outputId": "8e88994f-e159-4919-ad36-8f4afe00379f"
      },
      "execution_count": 82,
      "outputs": [
        {
          "output_type": "execute_result",
          "data": {
            "text/plain": [
              "'w egnar'"
            ],
            "application/vnd.google.colaboratory.intrinsic+json": {
              "type": "string"
            }
          },
          "metadata": {},
          "execution_count": 82
        }
      ]
    },
    {
      "cell_type": "code",
      "source": [
        "#outputs[7] = \"sdnop n\"\n",
        "(\n",
        "line[27:20:-1]\n",
        ")"
      ],
      "metadata": {
        "colab": {
          "base_uri": "https://localhost:8080/",
          "height": 35
        },
        "id": "NY-pP4vzA_r-",
        "outputId": "7603842a-8a9b-4e35-ff6d-8b0be0cdd725"
      },
      "execution_count": 87,
      "outputs": [
        {
          "output_type": "execute_result",
          "data": {
            "text/plain": [
              "'sdnop n'"
            ],
            "application/vnd.google.colaboratory.intrinsic+json": {
              "type": "string"
            }
          },
          "metadata": {},
          "execution_count": 87
        }
      ]
    },
    {
      "cell_type": "code",
      "source": [
        "#outputs[8] = \"ab on s\"\n",
        "(\n",
        "  line[56:49:-1]\n",
        ")"
      ],
      "metadata": {
        "colab": {
          "base_uri": "https://localhost:8080/",
          "height": 35
        },
        "id": "sKla5WSfBYRx",
        "outputId": "86929f8d-e468-4ab4-d57a-69ee9f9337c6"
      },
      "execution_count": 92,
      "outputs": [
        {
          "output_type": "execute_result",
          "data": {
            "text/plain": [
              "'ab on s'"
            ],
            "application/vnd.google.colaboratory.intrinsic+json": {
              "type": "string"
            }
          },
          "metadata": {},
          "execution_count": 92
        }
      ]
    },
    {
      "cell_type": "code",
      "source": [
        "#outputs[9] = \"or a \"\n",
        "(\n",
        "  line[62:67:1]\n",
        ")"
      ],
      "metadata": {
        "colab": {
          "base_uri": "https://localhost:8080/",
          "height": 35
        },
        "id": "qd7CdjaBB1qr",
        "outputId": "0be1cecc-20de-4da1-e6a7-5e9728243ea5"
      },
      "execution_count": 94,
      "outputs": [
        {
          "output_type": "execute_result",
          "data": {
            "text/plain": [
              "'or a '"
            ],
            "application/vnd.google.colaboratory.intrinsic+json": {
              "type": "string"
            }
          },
          "metadata": {},
          "execution_count": 94
        }
      ]
    },
    {
      "cell_type": "code",
      "source": [
        "#outputs[10] = \"n si sd\"\n",
        "\n",
        "(\n",
        "  line[52:45:-1]\n",
        ")"
      ],
      "metadata": {
        "colab": {
          "base_uri": "https://localhost:8080/",
          "height": 35
        },
        "id": "vqruFAFmCCdJ",
        "outputId": "3543bafd-1156-4136-b797-4e7a9ab155aa"
      },
      "execution_count": 95,
      "outputs": [
        {
          "output_type": "execute_result",
          "data": {
            "text/plain": [
              "'n si sd'"
            ],
            "application/vnd.google.colaboratory.intrinsic+json": {
              "type": "string"
            }
          },
          "metadata": {},
          "execution_count": 95
        }
      ]
    },
    {
      "cell_type": "code",
      "source": [
        "#outputs[11] = \"tsys a \"\n",
        "\n",
        "(\n",
        "  line[70:64:-1]\n",
        ")"
      ],
      "metadata": {
        "colab": {
          "base_uri": "https://localhost:8080/",
          "height": 35
        },
        "id": "Z5GcTYc-CZr9",
        "outputId": "c31a6628-57c4-42b0-c577-af08e1f7b730"
      },
      "execution_count": 96,
      "outputs": [
        {
          "output_type": "execute_result",
          "data": {
            "text/plain": [
              "'tsys a'"
            ],
            "application/vnd.google.colaboratory.intrinsic+json": {
              "type": "string"
            }
          },
          "metadata": {},
          "execution_count": 96
        }
      ]
    },
    {
      "cell_type": "code",
      "source": [
        "#outputs[12] = \"s a rof\"\n",
        "\n",
        "(\n",
        "   line[67:60:-1]\n",
        ")"
      ],
      "metadata": {
        "colab": {
          "base_uri": "https://localhost:8080/",
          "height": 35
        },
        "id": "xHs1gJCrCZky",
        "outputId": "873beb52-6b58-4963-fb26-804e2aef455b"
      },
      "execution_count": 133,
      "outputs": [
        {
          "output_type": "execute_result",
          "data": {
            "text/plain": [
              "'s a rof'"
            ],
            "application/vnd.google.colaboratory.intrinsic+json": {
              "type": "string"
            }
          },
          "metadata": {},
          "execution_count": 133
        }
      ]
    },
    {
      "cell_type": "code",
      "source": [
        "#outputs[13] = \"Stran\"\n",
        "\n",
        "(\n",
        "  line[0:5:1]\n",
        ")"
      ],
      "metadata": {
        "colab": {
          "base_uri": "https://localhost:8080/",
          "height": 35
        },
        "id": "GeOIPutlCjD3",
        "outputId": "8f9214b8-45e4-4ea0-e2ee-a1186acbb24b"
      },
      "execution_count": 134,
      "outputs": [
        {
          "output_type": "execute_result",
          "data": {
            "text/plain": [
              "'Stran'"
            ],
            "application/vnd.google.colaboratory.intrinsic+json": {
              "type": "string"
            }
          },
          "metadata": {},
          "execution_count": 134
        }
      ]
    },
    {
      "cell_type": "code",
      "source": [
        "#outputs[14] = \"nrevog \"\n",
        "\n",
        "(\n",
        "  line[82:76:-1]\n",
        ")"
      ],
      "metadata": {
        "colab": {
          "base_uri": "https://localhost:8080/",
          "height": 35
        },
        "id": "9HFbBu0CDDQ_",
        "outputId": "94b4ab57-8df5-46b7-b4b2-94e3efe558da"
      },
      "execution_count": 136,
      "outputs": [
        {
          "output_type": "execute_result",
          "data": {
            "text/plain": [
              "'nrevog'"
            ],
            "application/vnd.google.colaboratory.intrinsic+json": {
              "type": "string"
            }
          },
          "metadata": {},
          "execution_count": 136
        }
      ]
    },
    {
      "cell_type": "code",
      "source": [
        "#outputs[15] = \"butin\"\n",
        "\n",
        "(\n",
        "  line[35:40:1]\n",
        ")"
      ],
      "metadata": {
        "colab": {
          "base_uri": "https://localhost:8080/",
          "height": 35
        },
        "id": "diyebzgfIFUP",
        "outputId": "fcc6661b-c91d-4b1d-eea7-bd56a630e719"
      },
      "execution_count": 137,
      "outputs": [
        {
          "output_type": "execute_result",
          "data": {
            "text/plain": [
              "'butin'"
            ],
            "application/vnd.google.colaboratory.intrinsic+json": {
              "type": "string"
            }
          },
          "metadata": {},
          "execution_count": 137
        }
      ]
    },
    {
      "cell_type": "code",
      "source": [
        "#outputs[16] = \"si sdro\"\n",
        "\n",
        "(\n",
        "  line[50:43:-1]\n",
        ")"
      ],
      "metadata": {
        "colab": {
          "base_uri": "https://localhost:8080/",
          "height": 35
        },
        "id": "2hUfuGX8IRXP",
        "outputId": "311d987f-5763-4ec1-8fa9-c044fe939a1f"
      },
      "execution_count": 141,
      "outputs": [
        {
          "output_type": "execute_result",
          "data": {
            "text/plain": [
              "'si sdro'"
            ],
            "application/vnd.google.colaboratory.intrinsic+json": {
              "type": "string"
            }
          },
          "metadata": {},
          "execution_count": 141
        }
      ]
    },
    {
      "cell_type": "code",
      "source": [
        "#outputs[17] = \"rof sis\"\n",
        "\n",
        "(\n",
        "  line[57:63:1]\n",
        ")"
      ],
      "metadata": {
        "colab": {
          "base_uri": "https://localhost:8080/",
          "height": 35
        },
        "id": "0ISZ20BuIw1g",
        "outputId": "be25faf6-19e9-4e5d-d840-ad104a4e5853"
      },
      "execution_count": 142,
      "outputs": [
        {
          "output_type": "execute_result",
          "data": {
            "text/plain": [
              "'sis fo'"
            ],
            "application/vnd.google.colaboratory.intrinsic+json": {
              "type": "string"
            }
          },
          "metadata": {},
          "execution_count": 142
        }
      ]
    },
    {
      "cell_type": "code",
      "source": [
        "#outputs[18] = \"f gov\"\n",
        "\n",
        "(\n",
        "  line[75:80:1]\n",
        ")"
      ],
      "metadata": {
        "colab": {
          "base_uri": "https://localhost:8080/",
          "height": 35
        },
        "id": "Ec2wBNMyJC9d",
        "outputId": "87e09cdb-24d8-40e3-b73c-9a1ce57d0123"
      },
      "execution_count": 145,
      "outputs": [
        {
          "output_type": "execute_result",
          "data": {
            "text/plain": [
              "'f gov'"
            ],
            "application/vnd.google.colaboratory.intrinsic+json": {
              "type": "string"
            }
          },
          "metadata": {},
          "execution_count": 145
        }
      ]
    },
    {
      "cell_type": "code",
      "source": [
        "#outputs[19] = \"g swo\"\n",
        " (\n",
        "  line[40:45:1]\n",
        ")"
      ],
      "metadata": {
        "colab": {
          "base_uri": "https://localhost:8080/",
          "height": 35
        },
        "id": "56w0L5FfJS-k",
        "outputId": "a563f651-8f3b-4bbb-ade4-95cae14a6a7f"
      },
      "execution_count": 147,
      "outputs": [
        {
          "output_type": "execute_result",
          "data": {
            "text/plain": [
              "'g swo'"
            ],
            "application/vnd.google.colaboratory.intrinsic+json": {
              "type": "string"
            }
          },
          "metadata": {},
          "execution_count": 147
        }
      ]
    }
  ],
  "metadata": {
    "colab": {
      "provenance": [],
      "include_colab_link": true
    },
    "kernelspec": {
      "display_name": "Python 3 (ipykernel)",
      "language": "python",
      "name": "python3"
    },
    "language_info": {
      "codemirror_mode": {
        "name": "ipython",
        "version": 3
      },
      "file_extension": ".py",
      "mimetype": "text/x-python",
      "name": "python",
      "nbconvert_exporter": "python",
      "pygments_lexer": "ipython3",
      "version": "3.10.12"
    }
  },
  "nbformat": 4,
  "nbformat_minor": 0
}