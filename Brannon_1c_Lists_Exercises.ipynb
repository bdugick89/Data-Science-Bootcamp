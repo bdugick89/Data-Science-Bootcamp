{
  "cells": [
    {
      "cell_type": "markdown",
      "metadata": {
        "id": "view-in-github",
        "colab_type": "text"
      },
      "source": [
        "<a href=\"https://colab.research.google.com/github/bdugick89/Data-Science-Bootcamp/blob/main/Brannon_1c_Lists_Exercises.ipynb\" target=\"_parent\"><img src=\"https://colab.research.google.com/assets/colab-badge.svg\" alt=\"Open In Colab\"/></a>"
      ]
    },
    {
      "cell_type": "markdown",
      "metadata": {
        "id": "80FdQYwEXjbL"
      },
      "source": [
        "Create a list of numbers with at least 10 numbers and give it a good name"
      ]
    },
    {
      "cell_type": "code",
      "execution_count": 1,
      "metadata": {
        "id": "YJ8pxULCXhzk",
        "colab": {
          "base_uri": "https://localhost:8080/"
        },
        "outputId": "250ff6a5-b321-431a-aa26-5abb5b83079d"
      },
      "outputs": [
        {
          "output_type": "execute_result",
          "data": {
            "text/plain": [
              "[8, 6, 7, 5, 3, 0, 9]"
            ]
          },
          "metadata": {},
          "execution_count": 1
        }
      ],
      "source": [
        "numbers_with_a_good_name = [\n",
        "    8,\n",
        "    6,\n",
        "    7,\n",
        "    5,\n",
        "    3,\n",
        "    0,\n",
        "    9,\n",
        "]\n",
        "numbers_with_a_good_name"
      ]
    },
    {
      "cell_type": "markdown",
      "metadata": {
        "id": "aLCSAKIMXhVV"
      },
      "source": [
        "Create a list of mixed types (integers, floats, strings, lists, etc.)and give it a good name"
      ]
    },
    {
      "cell_type": "code",
      "execution_count": 4,
      "metadata": {
        "id": "iVHXbsz6Tfmy",
        "colab": {
          "base_uri": "https://localhost:8080/"
        },
        "outputId": "89eb396a-6272-4fb8-a769-e35249005e5b"
      },
      "outputs": [
        {
          "output_type": "execute_result",
          "data": {
            "text/plain": [
              "['hellp', 9, 10.2]"
            ]
          },
          "metadata": {},
          "execution_count": 4
        }
      ],
      "source": [
        "mixed_types = [ \"hello\", 8, \"world\", 3.14, numbers_with_a_good_name, \"that's all folks\" ]\n",
        "mixed_types\n",
        "\n",
        "\n",
        "Brannon_List=[\"hellp\",9,10.2]\n",
        "Print(Brannon_List)"
      ]
    },
    {
      "cell_type": "markdown",
      "metadata": {
        "id": "ITJ3zXkyXdlY"
      },
      "source": [
        "Access the second item in your mixed types list\n"
      ]
    },
    {
      "cell_type": "code",
      "execution_count": 9,
      "metadata": {
        "id": "pEFIoKKQX0rm",
        "colab": {
          "base_uri": "https://localhost:8080/",
          "height": 35
        },
        "outputId": "1ffd992a-73f4-4e5a-8a83-926088eb699d"
      },
      "outputs": [
        {
          "output_type": "execute_result",
          "data": {
            "text/plain": [
              "'hellp'"
            ],
            "application/vnd.google.colaboratory.intrinsic+json": {
              "type": "string"
            }
          },
          "metadata": {},
          "execution_count": 9
        }
      ],
      "source": [
        "mixed_types[1]\n",
        "\n",
        "Brannon_List[0]"
      ]
    },
    {
      "cell_type": "markdown",
      "metadata": {
        "id": "-rqWa4D_X0EF"
      },
      "source": [
        "Access the 4th-7th items in your list of numbers"
      ]
    },
    {
      "cell_type": "code",
      "execution_count": 10,
      "metadata": {
        "id": "e-71qtVcXzSJ",
        "colab": {
          "base_uri": "https://localhost:8080/"
        },
        "outputId": "106cc9de-6edd-40f2-f015-af78b0af125f"
      },
      "outputs": [
        {
          "output_type": "execute_result",
          "data": {
            "text/plain": [
              "['hellp', 9, 10.2]"
            ]
          },
          "metadata": {},
          "execution_count": 10
        }
      ],
      "source": [
        "numbers_with_a_good_name[3:8]\n",
        "Brannon_List [0:3]"
      ]
    },
    {
      "cell_type": "code",
      "execution_count": null,
      "metadata": {
        "id": "rha7Vn_-u5Qm"
      },
      "outputs": [],
      "source": []
    },
    {
      "cell_type": "markdown",
      "metadata": {
        "id": "e0U-RnbcX_xg"
      },
      "source": [
        "Access the last 4 items in your mixed types list"
      ]
    },
    {
      "cell_type": "code",
      "execution_count": 17,
      "metadata": {
        "id": "7dIEbPphYIAG",
        "colab": {
          "base_uri": "https://localhost:8080/"
        },
        "outputId": "3df45a3a-3f3f-4f0c-bbb6-9f9e06ec03f7"
      },
      "outputs": [
        {
          "output_type": "execute_result",
          "data": {
            "text/plain": [
              "[9, 10.2]"
            ]
          },
          "metadata": {},
          "execution_count": 17
        }
      ],
      "source": [
        "mixed_types[-4:]\n",
        "\n",
        "Brannon_List[-2:]"
      ]
    },
    {
      "cell_type": "markdown",
      "metadata": {
        "id": "AxczPMwAYI7f"
      },
      "source": [
        "Try a different list method out on each of your lists"
      ]
    },
    {
      "cell_type": "code",
      "execution_count": 26,
      "metadata": {
        "id": "sHm8wSz3YIv0",
        "colab": {
          "base_uri": "https://localhost:8080/"
        },
        "outputId": "85a7e812-4a53-4fdf-ac8e-b6e45e1b8a96"
      },
      "outputs": [
        {
          "output_type": "stream",
          "name": "stdout",
          "text": [
            "[8, 6, 7, 5, 3, 0, 9]\n"
          ]
        }
      ],
      "source": [
        "# list method on numbers list\n",
        "gn = numbers_with_a_good_name.copy()\n",
        "Brannon_List=numbers_with_a_good_name.copy()\n",
        "print(Brannon_List)"
      ]
    },
    {
      "cell_type": "code",
      "source": [
        "gn.clear()\n",
        "gn\n",
        "\n",
        "Brannon_List.clear()\n",
        "print (Brannon_List)"
      ],
      "metadata": {
        "colab": {
          "base_uri": "https://localhost:8080/"
        },
        "id": "Qt8nju-CXfIN",
        "outputId": "36457e8f-68a9-4f51-8290-94195d9ef3bb"
      },
      "execution_count": 21,
      "outputs": [
        {
          "output_type": "stream",
          "name": "stdout",
          "text": [
            "[]\n"
          ]
        }
      ]
    },
    {
      "cell_type": "code",
      "source": [
        "numbers_with_a_good_name"
      ],
      "metadata": {
        "colab": {
          "base_uri": "https://localhost:8080/"
        },
        "id": "znfIRT1YXhtW",
        "outputId": "08acfa69-68f3-4456-e916-b98b0849d9e9"
      },
      "execution_count": null,
      "outputs": [
        {
          "output_type": "execute_result",
          "data": {
            "text/plain": [
              "[8, 6, 7, 5, 3, 0, 9]"
            ]
          },
          "metadata": {},
          "execution_count": 22
        }
      ]
    },
    {
      "cell_type": "code",
      "source": [
        "# list method on numbers list\n",
        "gn = numbers_with_a_good_name\n",
        "gn\n"
      ],
      "metadata": {
        "colab": {
          "base_uri": "https://localhost:8080/"
        },
        "id": "IcEXmpgiZsaL",
        "outputId": "727a662d-9939-4db6-9c60-ea7ec706c092"
      },
      "execution_count": null,
      "outputs": [
        {
          "output_type": "execute_result",
          "data": {
            "text/plain": [
              "[8, 6, 7, 5, 3, 0, 9]"
            ]
          },
          "metadata": {},
          "execution_count": 24
        }
      ]
    },
    {
      "cell_type": "code",
      "source": [
        "gn.clear()\n",
        "gn\n"
      ],
      "metadata": {
        "colab": {
          "base_uri": "https://localhost:8080/"
        },
        "id": "fqxU8M24ZuGA",
        "outputId": "9a513373-de0b-4d3a-82ce-53dee811605c"
      },
      "execution_count": null,
      "outputs": [
        {
          "output_type": "execute_result",
          "data": {
            "text/plain": [
              "[]"
            ]
          },
          "metadata": {},
          "execution_count": 25
        }
      ]
    },
    {
      "cell_type": "code",
      "source": [
        "numbers_with_a_good_name"
      ],
      "metadata": {
        "colab": {
          "base_uri": "https://localhost:8080/"
        },
        "id": "4Mx9dQtoZwNB",
        "outputId": "89ddd179-91f7-4ccf-f620-385d05bedc8d"
      },
      "execution_count": 23,
      "outputs": [
        {
          "output_type": "execute_result",
          "data": {
            "text/plain": [
              "[8, 6, 7, 5, 3, 0, 9]"
            ]
          },
          "metadata": {},
          "execution_count": 23
        }
      ]
    },
    {
      "cell_type": "code",
      "source": [
        "sum(numbers_with_a_good_name)\n",
        "\n",
        "sum(Brannon_List)"
      ],
      "metadata": {
        "colab": {
          "base_uri": "https://localhost:8080/"
        },
        "id": "VPLza0N2XBu5",
        "outputId": "54f96d6b-8be0-4199-ef06-18cf31d55d24"
      },
      "execution_count": 40,
      "outputs": [
        {
          "output_type": "execute_result",
          "data": {
            "text/plain": [
              "38"
            ]
          },
          "metadata": {},
          "execution_count": 40
        }
      ]
    },
    {
      "cell_type": "code",
      "execution_count": 44,
      "metadata": {
        "id": "zqKCtOU6YSBg",
        "colab": {
          "base_uri": "https://localhost:8080/"
        },
        "outputId": "4b347b39-9edd-4a21-93df-6f89d725446b"
      },
      "outputs": [
        {
          "output_type": "execute_result",
          "data": {
            "text/plain": [
              "[8, 6, 7, 5, 3, 0, 9, 1, 2, 4, 1, 2, 4]"
            ]
          },
          "metadata": {},
          "execution_count": 44
        }
      ],
      "source": [
        "# list method on mixed type list\n",
        "mixed_types.extend([1,2,3])\n",
        "\n",
        "\n",
        "\n",
        "Brannon_List.extend([1,2,4])\n",
        "Brannon_List"
      ]
    },
    {
      "cell_type": "code",
      "source": [
        "# list method on mixed type list\n",
        "mixed_types.append([1,2,3])\n",
        "mixed_types"
      ],
      "metadata": {
        "colab": {
          "base_uri": "https://localhost:8080/"
        },
        "id": "bAo0hCVgX5eI",
        "outputId": "4e47f746-d29e-455a-af54-d622a210f4dd"
      },
      "execution_count": null,
      "outputs": [
        {
          "output_type": "execute_result",
          "data": {
            "text/plain": [
              "['hello', 8, 'world', 3.14, [], \"that's all folks\", 1, 2, 3, [1, 2, 3]]"
            ]
          },
          "metadata": {},
          "execution_count": 53
        }
      ]
    },
    {
      "cell_type": "code",
      "source": [
        "a = 5\n",
        "a\n"
      ],
      "metadata": {
        "colab": {
          "base_uri": "https://localhost:8080/"
        },
        "id": "ejlv3RdTaeEB",
        "outputId": "b06a5b39-b288-452d-ddf2-293bb75f6ef2"
      },
      "execution_count": 45,
      "outputs": [
        {
          "output_type": "execute_result",
          "data": {
            "text/plain": [
              "5"
            ]
          },
          "metadata": {},
          "execution_count": 45
        }
      ]
    },
    {
      "cell_type": "code",
      "source": [
        "b = a\n",
        "b"
      ],
      "metadata": {
        "colab": {
          "base_uri": "https://localhost:8080/"
        },
        "id": "zUKESv_iafxL",
        "outputId": "daedb5e9-4f15-4d47-e5cc-240b396e00a0"
      },
      "execution_count": 46,
      "outputs": [
        {
          "output_type": "execute_result",
          "data": {
            "text/plain": [
              "5"
            ]
          },
          "metadata": {},
          "execution_count": 46
        }
      ]
    },
    {
      "cell_type": "code",
      "source": [
        "a=7\n",
        "a"
      ],
      "metadata": {
        "colab": {
          "base_uri": "https://localhost:8080/"
        },
        "id": "rJfAYLPZahcF",
        "outputId": "025954df-0e94-4acc-c08c-7cf32e71ad80"
      },
      "execution_count": 47,
      "outputs": [
        {
          "output_type": "execute_result",
          "data": {
            "text/plain": [
              "7"
            ]
          },
          "metadata": {},
          "execution_count": 47
        }
      ]
    },
    {
      "cell_type": "code",
      "source": [
        "b"
      ],
      "metadata": {
        "colab": {
          "base_uri": "https://localhost:8080/"
        },
        "id": "6tLLwohLai2D",
        "outputId": "1656f3c7-7365-4304-b86d-70d518741c3b"
      },
      "execution_count": 48,
      "outputs": [
        {
          "output_type": "execute_result",
          "data": {
            "text/plain": [
              "5"
            ]
          },
          "metadata": {},
          "execution_count": 48
        }
      ]
    },
    {
      "cell_type": "code",
      "source": [
        "a = [5]\n",
        "a"
      ],
      "metadata": {
        "colab": {
          "base_uri": "https://localhost:8080/"
        },
        "id": "1t40luI7awDp",
        "outputId": "3382f181-3932-4793-c613-120e8314add9"
      },
      "execution_count": null,
      "outputs": [
        {
          "output_type": "execute_result",
          "data": {
            "text/plain": [
              "[5]"
            ]
          },
          "metadata": {},
          "execution_count": 33
        }
      ]
    },
    {
      "cell_type": "code",
      "source": [
        "b = a\n",
        "b"
      ],
      "metadata": {
        "colab": {
          "base_uri": "https://localhost:8080/"
        },
        "id": "4DxNn1Ona1Ry",
        "outputId": "745538f5-5aa7-4c6b-cb7b-a7524c23d536"
      },
      "execution_count": null,
      "outputs": [
        {
          "output_type": "execute_result",
          "data": {
            "text/plain": [
              "[5]"
            ]
          },
          "metadata": {},
          "execution_count": 34
        }
      ]
    },
    {
      "cell_type": "code",
      "source": [
        "a = [7]\n",
        "a"
      ],
      "metadata": {
        "colab": {
          "base_uri": "https://localhost:8080/"
        },
        "id": "xiK6ck5-a2UV",
        "outputId": "997a305d-edd3-42c8-944c-bdd424ceaf99"
      },
      "execution_count": 49,
      "outputs": [
        {
          "output_type": "execute_result",
          "data": {
            "text/plain": [
              "[7]"
            ]
          },
          "metadata": {},
          "execution_count": 49
        }
      ]
    },
    {
      "cell_type": "code",
      "source": [
        "b"
      ],
      "metadata": {
        "colab": {
          "base_uri": "https://localhost:8080/"
        },
        "id": "4dhsD5wYa5Ks",
        "outputId": "1726be02-0258-42a7-a2d1-d9f07cf2865e"
      },
      "execution_count": null,
      "outputs": [
        {
          "output_type": "execute_result",
          "data": {
            "text/plain": [
              "[5]"
            ]
          },
          "metadata": {},
          "execution_count": 37
        }
      ]
    },
    {
      "cell_type": "code",
      "source": [
        "Brannon_List.clear()\n",
        "\n",
        "Brannon_List=[1,2,3,4,5]\n",
        "\n",
        "Brannon_List[0]= 10\n",
        "\n",
        "Brannon_List"
      ],
      "metadata": {
        "colab": {
          "base_uri": "https://localhost:8080/"
        },
        "id": "7EHklgWEbC8Q",
        "outputId": "65ee39a4-ab12-48a0-f375-b5ef68b7bee9"
      },
      "execution_count": 55,
      "outputs": [
        {
          "output_type": "execute_result",
          "data": {
            "text/plain": [
              "[10, 2, 3, 4, 5]"
            ]
          },
          "metadata": {},
          "execution_count": 55
        }
      ]
    },
    {
      "cell_type": "code",
      "source": [
        "b"
      ],
      "metadata": {
        "colab": {
          "base_uri": "https://localhost:8080/"
        },
        "id": "qPpPEGZXbUb8",
        "outputId": "5a98793f-3015-4d4f-81cc-2684faa4cccd"
      },
      "execution_count": null,
      "outputs": [
        {
          "output_type": "execute_result",
          "data": {
            "text/plain": [
              "[5]"
            ]
          },
          "metadata": {},
          "execution_count": 43
        }
      ]
    },
    {
      "cell_type": "code",
      "source": [
        "a = [5]\n",
        "a"
      ],
      "metadata": {
        "colab": {
          "base_uri": "https://localhost:8080/"
        },
        "id": "wPSncEKwbfkZ",
        "outputId": "b64f7691-f553-414d-84f9-7597acf957b3"
      },
      "execution_count": null,
      "outputs": [
        {
          "output_type": "execute_result",
          "data": {
            "text/plain": [
              "[5]"
            ]
          },
          "metadata": {},
          "execution_count": 45
        }
      ]
    },
    {
      "cell_type": "code",
      "source": [
        "b = a\n",
        "b"
      ],
      "metadata": {
        "colab": {
          "base_uri": "https://localhost:8080/"
        },
        "id": "LyiotSyBbtTD",
        "outputId": "29031540-28f0-4571-ce99-ad4e2a867b11"
      },
      "execution_count": null,
      "outputs": [
        {
          "output_type": "execute_result",
          "data": {
            "text/plain": [
              "[5]"
            ]
          },
          "metadata": {},
          "execution_count": 47
        }
      ]
    },
    {
      "cell_type": "code",
      "source": [
        "a[0] = 6\n",
        "a"
      ],
      "metadata": {
        "colab": {
          "base_uri": "https://localhost:8080/"
        },
        "id": "R5G493efbuum",
        "outputId": "00bcd72e-d665-442c-e967-b37979c6547a"
      },
      "execution_count": null,
      "outputs": [
        {
          "output_type": "execute_result",
          "data": {
            "text/plain": [
              "[6]"
            ]
          },
          "metadata": {},
          "execution_count": 49
        }
      ]
    },
    {
      "cell_type": "code",
      "source": [
        "b"
      ],
      "metadata": {
        "colab": {
          "base_uri": "https://localhost:8080/"
        },
        "id": "wzPtSrFzbw47",
        "outputId": "6cf2f5d5-db84-40e3-f976-ee553305aa1c"
      },
      "execution_count": null,
      "outputs": [
        {
          "output_type": "execute_result",
          "data": {
            "text/plain": [
              "[6]"
            ]
          },
          "metadata": {},
          "execution_count": 50
        }
      ]
    },
    {
      "cell_type": "code",
      "source": [],
      "metadata": {
        "id": "ewABuTl7bxhJ"
      },
      "execution_count": null,
      "outputs": []
    }
  ],
  "metadata": {
    "colab": {
      "provenance": [],
      "include_colab_link": true
    },
    "kernelspec": {
      "display_name": "Python 3",
      "name": "python3"
    }
  },
  "nbformat": 4,
  "nbformat_minor": 0
}