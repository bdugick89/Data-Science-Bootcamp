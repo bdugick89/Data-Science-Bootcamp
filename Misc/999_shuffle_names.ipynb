{
  "nbformat": 4,
  "nbformat_minor": 0,
  "metadata": {
    "colab": {
      "provenance": [],
      "authorship_tag": "ABX9TyMyYD25Pp3xKi6N/NRMyLd8",
      "include_colab_link": true
    },
    "kernelspec": {
      "name": "python3",
      "display_name": "Python 3"
    },
    "language_info": {
      "name": "python"
    }
  },
  "cells": [
    {
      "cell_type": "markdown",
      "metadata": {
        "id": "view-in-github",
        "colab_type": "text"
      },
      "source": [
        "<a href=\"https://colab.research.google.com/github/bdugick89/Data-Science-Bootcamp/blob/main/999_shuffle_names.ipynb\" target=\"_parent\"><img src=\"https://colab.research.google.com/assets/colab-badge.svg\" alt=\"Open In Colab\"/></a>"
      ]
    },
    {
      "cell_type": "markdown",
      "source": [],
      "metadata": {
        "id": "Z0Ol2V9lZpgA"
      }
    },
    {
      "cell_type": "markdown",
      "source": [],
      "metadata": {
        "id": "MHAxUZrqrmBi"
      }
    },
    {
      "cell_type": "markdown",
      "source": [],
      "metadata": {
        "id": "-tBXdk4WrtBx"
      }
    },
    {
      "cell_type": "code",
      "source": [
        "import random\n",
        "\n",
        "names = '''\n",
        "brannon,\n",
        "pranab,\n",
        "ciro,\n",
        "bryanm,\n",
        "Milli,\n",
        "robert\n",
        "'''.split()\n",
        "names"
      ],
      "metadata": {
        "colab": {
          "base_uri": "https://localhost:8080/"
        },
        "id": "swdUBXeErz1p",
        "outputId": "4335c913-ab39-4627-d9ed-a8dd3b9f0bd1"
      },
      "execution_count": 59,
      "outputs": [
        {
          "output_type": "execute_result",
          "data": {
            "text/plain": [
              "['brannon,', 'pranab,', 'ciro,', 'bryanm,', 'Milli,', 'robert']"
            ]
          },
          "metadata": {},
          "execution_count": 59
        }
      ]
    },
    {
      "cell_type": "code",
      "source": [
        "random.seed(42)\n",
        "random.shuffle(names)\n",
        "names"
      ],
      "metadata": {
        "colab": {
          "base_uri": "https://localhost:8080/"
        },
        "id": "JanOjbsWrxNJ",
        "outputId": "0e323f79-f5da-4069-9a89-54dd2fb614a2"
      },
      "execution_count": 60,
      "outputs": [
        {
          "output_type": "execute_result",
          "data": {
            "text/plain": [
              "['bryanm,', 'pranab,', 'ciro,', 'Milli,', 'brannon,', 'robert']"
            ]
          },
          "metadata": {},
          "execution_count": 60
        }
      ]
    },
    {
      "cell_type": "code",
      "source": [
        "random.shuffle(names)\n",
        "names\n"
      ],
      "metadata": {
        "colab": {
          "base_uri": "https://localhost:8080/"
        },
        "id": "kSmMbseur2jI",
        "outputId": "6d765b46-60d1-4195-b9a6-ed6a909ecd7e"
      },
      "execution_count": 61,
      "outputs": [
        {
          "output_type": "execute_result",
          "data": {
            "text/plain": [
              "['Milli,', 'bryanm,', 'ciro,', 'brannon,', 'robert', 'pranab,']"
            ]
          },
          "metadata": {},
          "execution_count": 61
        }
      ]
    },
    {
      "cell_type": "code",
      "source": [
        "names_part1 = names[::2]\n",
        "names_part2 = names[1::2]\n",
        "names_part1\n",
        "#names_part2"
      ],
      "metadata": {
        "colab": {
          "base_uri": "https://localhost:8080/"
        },
        "id": "tbJziPr7vKcw",
        "outputId": "46a7ee2f-a04f-47fe-f516-6dd09c3c969e"
      },
      "execution_count": 62,
      "outputs": [
        {
          "output_type": "execute_result",
          "data": {
            "text/plain": [
              "['Milli,', 'ciro,', 'robert']"
            ]
          },
          "metadata": {},
          "execution_count": 62
        }
      ]
    },
    {
      "cell_type": "code",
      "source": [
        "name_pair = {name_1:name_2 for (name_1,name_2)in zip(names_part1,names_part2)}\n",
        "name_pair"
      ],
      "metadata": {
        "colab": {
          "base_uri": "https://localhost:8080/"
        },
        "id": "OLnWObaKs79O",
        "outputId": "cf6136a4-4c1b-4039-fe8e-498b0b85b5ad"
      },
      "execution_count": 63,
      "outputs": [
        {
          "output_type": "execute_result",
          "data": {
            "text/plain": [
              "{'Milli,': 'bryanm,', 'ciro,': 'brannon,', 'robert': 'pranab,'}"
            ]
          },
          "metadata": {},
          "execution_count": 63
        }
      ]
    },
    {
      "cell_type": "code",
      "source": [
        "for pair in zip(names[::2], names[1::2]):\n",
        "   print(\"Pair:\", pair)"
      ],
      "metadata": {
        "colab": {
          "base_uri": "https://localhost:8080/"
        },
        "id": "fnxS956wsmfL",
        "outputId": "9e672dd1-2694-40e2-8d35-84702c199804"
      },
      "execution_count": null,
      "outputs": [
        {
          "output_type": "stream",
          "name": "stdout",
          "text": [
            "Pair: ('Milli,', 'bryan')\n",
            "Pair: ('ciro,', 'brannon,')\n",
            "Pair: ('robert', 'pranab,')\n"
          ]
        }
      ]
    },
    {
      "cell_type": "code",
      "source": [
        "for pair in zip(names[::1], names[1::2]):\n",
        "    print(\"Pair:\", pair)\n",
        "\n",
        "\n",
        "    zip(names[::1])\n",
        "    names[1::2]"
      ],
      "metadata": {
        "id": "XGUAJvmpr7Pl"
      },
      "execution_count": null,
      "outputs": []
    }
  ]
}