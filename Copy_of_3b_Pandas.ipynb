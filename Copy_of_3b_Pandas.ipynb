{
  "cells": [
    {
      "cell_type": "markdown",
      "metadata": {
        "id": "view-in-github",
        "colab_type": "text"
      },
      "source": [
        "<a href=\"https://colab.research.google.com/github/bdugick89/Data-Science-Bootcamp/blob/main/Copy_of_3b_Pandas.ipynb\" target=\"_parent\"><img src=\"https://colab.research.google.com/assets/colab-badge.svg\" alt=\"Open In Colab\"/></a>"
      ]
    },
    {
      "cell_type": "markdown",
      "metadata": {
        "id": "BfA1DvAd5c0d"
      },
      "source": [
        "# Pandas Data Frames"
      ]
    },
    {
      "cell_type": "code",
      "execution_count": null,
      "metadata": {
        "id": "-SVIduY25tXz"
      },
      "outputs": [],
      "source": [
        "import pandas as pd"
      ]
    },
    {
      "cell_type": "markdown",
      "metadata": {
        "id": "yDKU_eEU5gQQ"
      },
      "source": [
        "## Building a data frame"
      ]
    },
    {
      "cell_type": "code",
      "execution_count": null,
      "metadata": {
        "id": "zQPU9-gg5Vhr"
      },
      "outputs": [],
      "source": [
        "# We can build a data frame using a dictionary\n",
        "my_dict = {'dogs' : [1,0,4,3,2],\n",
        "           'cats' : [3,2,0,1,1]}\n",
        "my_dict\n"
      ]
    },
    {
      "cell_type": "code",
      "execution_count": null,
      "metadata": {
        "id": "nv9RYbwX2Mww"
      },
      "outputs": [],
      "source": [
        "animals = pd.DataFrame(my_dict)\n",
        "print(animals)"
      ]
    },
    {
      "cell_type": "code",
      "execution_count": null,
      "metadata": {
        "id": "LiaDMm1gpvQb"
      },
      "outputs": [],
      "source": [
        "type(animals)"
      ]
    },
    {
      "cell_type": "code",
      "execution_count": null,
      "metadata": {
        "id": "ltqCN3fEpkcA"
      },
      "outputs": [],
      "source": [
        "# fetch second row\n",
        "animals.iloc[1]"
      ]
    },
    {
      "cell_type": "code",
      "execution_count": null,
      "metadata": {
        "id": "qMrySHS5psv4"
      },
      "outputs": [],
      "source": [
        "type(animals.iloc[1])"
      ]
    },
    {
      "cell_type": "code",
      "execution_count": null,
      "metadata": {
        "id": "uUSmR-v_kLFt"
      },
      "outputs": [],
      "source": [
        "animals.iloc[1][0]"
      ]
    },
    {
      "cell_type": "code",
      "execution_count": null,
      "metadata": {
        "id": "ow1mwtwQ5_Qj"
      },
      "outputs": [],
      "source": [
        "# Change the index\n",
        "animals = pd.DataFrame(my_dict, index = ['Joe', 'Mary', 'Roger', 'David', 'Mikey'])\n",
        "print(animals)"
      ]
    },
    {
      "cell_type": "code",
      "execution_count": null,
      "metadata": {
        "id": "MS4xijTTTSuk"
      },
      "outputs": [],
      "source": [
        "animals.iloc[-1]"
      ]
    },
    {
      "cell_type": "code",
      "execution_count": null,
      "metadata": {
        "id": "e_p3wsTausAn"
      },
      "outputs": [],
      "source": [
        "animals.loc[\"Mikey\"]"
      ]
    },
    {
      "cell_type": "markdown",
      "metadata": {
        "id": "6eoPBDPm7F71"
      },
      "source": [
        "### Your Turn\n",
        "Create a data frame that looks like the table below. Name this data frame `movies`. Use the `Movie` column as your index.\n",
        "\n",
        "Movie | Lead Actor | Times Watched\n",
        "------|------------|--------------\n",
        "Titanic|Leo DiCaprio|3\n",
        "Die Hard|Bruce Willis|5\n",
        "Back to the Future | Michael J. Fox | 15\n",
        "Forrest Gump | Tom Hanks | NaN\n",
        "\n",
        "Note: to add a `NaN` to your dataframe, you will need to do the following:\n",
        "1. Run `import numpy as np`\n",
        "2. Use `np.NaN` in your dataframe."
      ]
    },
    {
      "cell_type": "code",
      "execution_count": null,
      "metadata": {
        "id": "K0hZYVof66cb"
      },
      "outputs": [],
      "source": [
        "# Solution\n"
      ]
    },
    {
      "cell_type": "markdown",
      "metadata": {
        "id": "-8omYnbu6VD_"
      },
      "source": [
        "## Creating a data frame by reading in a CSV"
      ]
    },
    {
      "cell_type": "code",
      "execution_count": null,
      "metadata": {
        "id": "MjLdM-dt6XVF"
      },
      "outputs": [],
      "source": [
        "# # Mount google colab drive\n",
        "# from google.colab import drive\n",
        "# drive.mount('/content/drive')"
      ]
    },
    {
      "cell_type": "code",
      "execution_count": null,
      "metadata": {
        "id": "VgWyYeOkpRZ6"
      },
      "outputs": [],
      "source": [
        "# Read in CSV\n",
        "url = \"http://ddc-datascience.s3-website-us-west-1.amazonaws.com/Home_Data.csv\"\n",
        "home_data = pd.read_csv(url, usecols=range(9))\n",
        "# Look at first 5 rows\n",
        "home_data.head()"
      ]
    },
    {
      "cell_type": "markdown",
      "metadata": {
        "id": "2WK3BjXm7UyF"
      },
      "source": [
        "## Viewing/Understanding Data"
      ]
    },
    {
      "cell_type": "code",
      "execution_count": null,
      "metadata": {
        "id": "LEO5VPce7URA"
      },
      "outputs": [],
      "source": [
        "# View the first 5 rows\n",
        "home_data.head()"
      ]
    },
    {
      "cell_type": "code",
      "execution_count": null,
      "metadata": {
        "id": "QTvAp73ZYtLx"
      },
      "outputs": [],
      "source": [
        "home_data.tail()"
      ]
    },
    {
      "cell_type": "code",
      "execution_count": null,
      "metadata": {
        "id": "dnR2jVO28lhK"
      },
      "outputs": [],
      "source": [
        "# See the dimension of your data frame\n",
        "home_data.shape"
      ]
    },
    {
      "cell_type": "code",
      "execution_count": null,
      "metadata": {
        "id": "KUq9Fpu-8m2-"
      },
      "outputs": [],
      "source": [
        "# See the information about each column in your data frame\n",
        "home_data.info()"
      ]
    },
    {
      "cell_type": "code",
      "execution_count": null,
      "metadata": {
        "id": "dlLBwMmy8n0s"
      },
      "outputs": [],
      "source": [
        "# Get summary statistics about your data frame\n",
        "home_data.describe(include = \"all\" )"
      ]
    },
    {
      "cell_type": "code",
      "execution_count": null,
      "metadata": {
        "id": "HkRR9Xbc9t2b"
      },
      "outputs": [],
      "source": [
        "# See the names of the columns\n",
        "home_data.columns\n"
      ]
    },
    {
      "cell_type": "markdown",
      "metadata": {
        "id": "BPwkahlo9wDk"
      },
      "source": [
        "### Your Turn\n",
        "1. Use the `info()` and `describe()` methods on `movies` data frame.\n",
        "2. Find another method that can be used on dataframes. Look at the help documentation for that method. Write a brief description of what that method does."
      ]
    },
    {
      "cell_type": "code",
      "execution_count": null,
      "metadata": {
        "id": "hZs-ezdDS_bX"
      },
      "outputs": [],
      "source": [
        "# Solution\n"
      ]
    },
    {
      "cell_type": "code",
      "execution_count": null,
      "metadata": {
        "id": "fFyFjzKIPV9v"
      },
      "outputs": [],
      "source": [
        "# Solution\n"
      ]
    },
    {
      "cell_type": "markdown",
      "metadata": {
        "id": "c3XbcOl1TpsB"
      },
      "source": [
        "   movies.transpose() flips rows and columns."
      ]
    },
    {
      "cell_type": "markdown",
      "metadata": {
        "id": "Rb_fhs-Y-OG4"
      },
      "source": [
        "## Cleaning Data"
      ]
    },
    {
      "cell_type": "code",
      "execution_count": null,
      "metadata": {
        "id": "i9ypXN5l-QWp"
      },
      "outputs": [],
      "source": [
        "# Dealing with Missing Values\n",
        "home_data.isnull().head()"
      ]
    },
    {
      "cell_type": "code",
      "execution_count": null,
      "metadata": {
        "id": "D6tnyq1I-ZwZ"
      },
      "outputs": [],
      "source": [
        "home_data.isnull().sum()"
      ]
    },
    {
      "cell_type": "code",
      "execution_count": null,
      "metadata": {
        "id": "o8LFIE3n-u7s"
      },
      "outputs": [],
      "source": [
        "# Let's drop the columns with NaNs.\n",
        "# First, we need to create a copy of our data frame\n",
        "home_data_clean = home_data.copy()\n",
        "home_data_clean.head()"
      ]
    },
    {
      "cell_type": "code",
      "execution_count": null,
      "metadata": {
        "id": "SQlagfzb_G57"
      },
      "outputs": [],
      "source": [
        "# axis = 1 tells the function to drop a column instead of a row\n",
        "# in place tells the function to alter home_data_clean instead of returning a new data frame\n",
        "home_data_clean.dropna(axis = 1, inplace=True)\n",
        "home_data_clean.head()"
      ]
    },
    {
      "cell_type": "code",
      "execution_count": null,
      "metadata": {
        "id": "8A8KQH7bzZqq"
      },
      "outputs": [],
      "source": [
        "home_data.head()"
      ]
    },
    {
      "cell_type": "markdown",
      "metadata": {
        "id": "Uy2_iC5H_kUZ"
      },
      "source": [
        "### Your Turn\n",
        "Make a copy of your `movies` data frame. Save it as `movies_clean`.\n",
        "Drop the **row** that contains a NaN."
      ]
    },
    {
      "cell_type": "code",
      "execution_count": null,
      "metadata": {
        "id": "OFm9kTdjPV9w"
      },
      "outputs": [],
      "source": [
        "# Solution\n"
      ]
    },
    {
      "cell_type": "code",
      "execution_count": null,
      "metadata": {
        "id": "SeNee8CePV9w"
      },
      "outputs": [],
      "source": [
        "# Solution\n"
      ]
    },
    {
      "cell_type": "markdown",
      "metadata": {
        "id": "HAYN0vmJ_3e0"
      },
      "source": [
        "## Imputation\n",
        "Let's say we didn't want to just drop the LotFrontage and column as it only had 259 NaNs."
      ]
    },
    {
      "cell_type": "code",
      "execution_count": null,
      "metadata": {
        "id": "aewn37IQ_5nu"
      },
      "outputs": [],
      "source": [
        "# Make a copy\n",
        "home_data_impute = home_data.copy()\n",
        "home_data_impute.head()"
      ]
    },
    {
      "cell_type": "code",
      "execution_count": null,
      "metadata": {
        "id": "Wrb9djNRAS24"
      },
      "outputs": [],
      "source": [
        "# Remove only the Alley column\n",
        "home_data_impute.drop(labels ='Alley', axis = 1, inplace = True)\n",
        "home_data_impute.head()"
      ]
    },
    {
      "cell_type": "code",
      "execution_count": null,
      "metadata": {
        "id": "cNTQNhczBhuO"
      },
      "outputs": [],
      "source": [
        "# Check to see our NaNs\n",
        "home_data_impute.isnull().sum()"
      ]
    },
    {
      "cell_type": "code",
      "execution_count": null,
      "metadata": {
        "id": "3diswPPjAubp"
      },
      "outputs": [],
      "source": [
        "# Replace the NaNs in LotFrontage with the mean lot frontage amount\n",
        "lot_frontage_mean = home_data_impute['LotFrontage'].mean()\n",
        "lot_frontage_mean"
      ]
    },
    {
      "cell_type": "code",
      "execution_count": null,
      "metadata": {
        "id": "H4z4t1AKBspM"
      },
      "outputs": [],
      "source": [
        "home_data_impute.fillna(lot_frontage_mean, inplace = True)\n",
        "home_data_impute.isnull().sum()"
      ]
    },
    {
      "cell_type": "code",
      "execution_count": null,
      "metadata": {
        "id": "5CwBrnCsOZPH"
      },
      "outputs": [],
      "source": [
        "home_data_impute.describe()"
      ]
    },
    {
      "cell_type": "markdown",
      "metadata": {
        "id": "-e2ZY5EsBE0U"
      },
      "source": [
        "### Your Turn\n",
        "Make another copy of your original `movies` data frame and save it as `movies_impute`. Replace the NaN with a 0."
      ]
    },
    {
      "cell_type": "code",
      "execution_count": null,
      "metadata": {
        "id": "2LMtVWrPPV9_"
      },
      "outputs": [],
      "source": [
        "# Solution\n"
      ]
    },
    {
      "cell_type": "markdown",
      "metadata": {
        "id": "TALwmCMOBxts"
      },
      "source": [
        "## Indexing by Column"
      ]
    },
    {
      "cell_type": "code",
      "execution_count": null,
      "metadata": {
        "id": "6boO8GsyB3uq"
      },
      "outputs": [],
      "source": [
        "# We can index a column using square brackets and the column name\n",
        "street_col = home_data_impute['Street']\n",
        "street_col.head()"
      ]
    },
    {
      "cell_type": "code",
      "execution_count": null,
      "metadata": {
        "id": "DpNbRqCOQ7Gw"
      },
      "outputs": [],
      "source": [
        "type(street_col)"
      ]
    },
    {
      "cell_type": "code",
      "execution_count": null,
      "metadata": {
        "id": "4oaySjldCFNv"
      },
      "outputs": [],
      "source": [
        "# We can index multiple columns using a list of column names\n",
        "multiple_cols = home_data_impute[['Street', 'LotShape']]\n",
        "multiple_cols.head()"
      ]
    },
    {
      "cell_type": "code",
      "execution_count": null,
      "metadata": {
        "id": "Cg45sDR_RFgh"
      },
      "outputs": [],
      "source": [
        "type(multiple_cols)"
      ]
    },
    {
      "cell_type": "code",
      "execution_count": null,
      "metadata": {
        "id": "tFsSe74HRJ9c"
      },
      "outputs": [],
      "source": [
        "street_col = home_data_impute[['Street']]\n",
        "street_col.head()"
      ]
    },
    {
      "cell_type": "code",
      "execution_count": null,
      "metadata": {
        "id": "JxLS1Xs_RPck"
      },
      "outputs": [],
      "source": [
        "type(street_col)"
      ]
    },
    {
      "cell_type": "markdown",
      "metadata": {
        "id": "Pe7lcxkTCSN0"
      },
      "source": [
        "### Your Turn\n",
        "Index the `Lead Actor` column of your `movies_impute` data frame. Save it to a variable called `actors`. Print out `actors`."
      ]
    },
    {
      "cell_type": "code",
      "execution_count": null,
      "metadata": {
        "id": "VapnR9JqPV9_"
      },
      "outputs": [],
      "source": [
        "# Solution\n"
      ]
    },
    {
      "cell_type": "markdown",
      "metadata": {
        "id": "SPz8f7vJCgpW"
      },
      "source": [
        "## Indexing by Row\n",
        "We can index rows in two ways:\n",
        "\n",
        "- .loc - locates by name\n",
        "- .iloc- locates by numerical index"
      ]
    },
    {
      "cell_type": "code",
      "execution_count": null,
      "metadata": {
        "id": "90l9ckbTCzKm"
      },
      "outputs": [],
      "source": [
        "# Let's take a look at the animals data frame we created earlier\n",
        "animals"
      ]
    },
    {
      "cell_type": "code",
      "execution_count": null,
      "metadata": {
        "id": "ONOk4S63C3xZ"
      },
      "outputs": [],
      "source": [
        "# Index using loc\n",
        "animals.loc['Roger']"
      ]
    },
    {
      "cell_type": "code",
      "execution_count": null,
      "metadata": {
        "id": "FonCOSmmC9C3"
      },
      "outputs": [],
      "source": [
        "# Index using iloc\n",
        "animals.iloc[2]"
      ]
    },
    {
      "cell_type": "code",
      "execution_count": null,
      "metadata": {
        "id": "boIFcxMADEI1"
      },
      "outputs": [],
      "source": [
        "# We can also slice!\n",
        "animals.loc['Roger':'Mikey'] # Note - the stop point in .loc is inclusive"
      ]
    },
    {
      "cell_type": "code",
      "execution_count": null,
      "metadata": {
        "id": "7ZzAXdYbDOaY"
      },
      "outputs": [],
      "source": [
        "animals.iloc[2:4] # The stop point in .iloc is not inclusive"
      ]
    },
    {
      "cell_type": "code",
      "execution_count": null,
      "metadata": {
        "id": "AN1DkOIxjFTf"
      },
      "outputs": [],
      "source": [
        "animals.iloc[2:4]['dogs']"
      ]
    },
    {
      "cell_type": "code",
      "execution_count": null,
      "metadata": {
        "id": "jlwI3gny6jKQ"
      },
      "outputs": [],
      "source": [
        "( animals.iloc[2:4] )['dogs']"
      ]
    },
    {
      "cell_type": "code",
      "execution_count": null,
      "metadata": {
        "id": "ZG9KcMiSjLk1"
      },
      "outputs": [],
      "source": [
        "animals['dogs'].iloc[2:4]"
      ]
    },
    {
      "cell_type": "code",
      "execution_count": null,
      "metadata": {
        "id": "wuLEYxZHjdYa"
      },
      "outputs": [],
      "source": [
        "pd.DataFrame(animals['dogs'].iloc[2:4])"
      ]
    },
    {
      "cell_type": "code",
      "execution_count": null,
      "metadata": {
        "id": "55XkBpFhUf94"
      },
      "outputs": [],
      "source": [
        "animals[['dogs']].iloc[2:4]"
      ]
    },
    {
      "cell_type": "markdown",
      "metadata": {
        "id": "U-_-XqCTDVRd"
      },
      "source": [
        "### Your Turn\n",
        "1. Index the row for `Back to the Future` using .loc and iloc.\n",
        "2. Use a slice to index the rows for `Back to the Future` and `Forrest Gump`."
      ]
    },
    {
      "cell_type": "code",
      "execution_count": null,
      "metadata": {
        "id": "HZfuM7HPPV-A"
      },
      "outputs": [],
      "source": [
        "# Solution\n"
      ]
    },
    {
      "cell_type": "code",
      "execution_count": null,
      "metadata": {
        "id": "ue0GcXs0PV-A"
      },
      "outputs": [],
      "source": [
        "# Solution\n"
      ]
    },
    {
      "cell_type": "markdown",
      "metadata": {
        "id": "EvX_GnHRD1AU"
      },
      "source": [
        "## Conditional Selections"
      ]
    },
    {
      "cell_type": "code",
      "execution_count": null,
      "metadata": {
        "id": "MwMDm4PQDDIz"
      },
      "outputs": [],
      "source": [
        "animals"
      ]
    },
    {
      "cell_type": "code",
      "execution_count": null,
      "metadata": {
        "id": "BTNh-_mRD3ZK"
      },
      "outputs": [],
      "source": [
        "# We can use conditional statements to return booleans\n",
        "animals['dogs'] == 4"
      ]
    },
    {
      "cell_type": "code",
      "execution_count": null,
      "metadata": {
        "id": "qJwdbI89EJHJ"
      },
      "outputs": [],
      "source": [
        "# We can then use those booleans to index our data frame\n",
        "filter = ( animals['dogs'] == 4 )\n",
        "animals[ filter ]\n",
        "\n"
      ]
    },
    {
      "cell_type": "code",
      "execution_count": null,
      "metadata": {
        "id": "AF9PiJzMERpf"
      },
      "outputs": [],
      "source": [
        "# Another example\n",
        "animals[animals['cats'] > 1]"
      ]
    },
    {
      "cell_type": "code",
      "execution_count": null,
      "metadata": {
        "id": "x8LtrfvMExaP"
      },
      "outputs": [],
      "source": [
        "# A third example!\n",
        "# Two things to note - we have to put parenthesis around each conditional statement\n",
        "# and we have to use the '&' symbol instead of the word 'and'\n",
        "animals[(animals['cats'] > 1) & (animals['dogs'] < 1)]"
      ]
    },
    {
      "cell_type": "markdown",
      "metadata": {
        "id": "gphZp7qREXsA"
      },
      "source": [
        "### Your Turn\n",
        "Use a conditional statement to return the following from your `movies_impute` data frame:\n",
        "1. Movies with Bruce Willis as the lead actor\n",
        "2. Movies that have been watched more than 4 times"
      ]
    },
    {
      "cell_type": "code",
      "execution_count": null,
      "metadata": {
        "id": "Ku2xaJB7PV-B"
      },
      "outputs": [],
      "source": [
        "# Solution\n"
      ]
    },
    {
      "cell_type": "code",
      "execution_count": null,
      "metadata": {
        "id": "GF3biAqPPV-B"
      },
      "outputs": [],
      "source": [
        "# Solution\n"
      ]
    },
    {
      "cell_type": "markdown",
      "metadata": {
        "id": "eU2OURxOFt9J"
      },
      "source": [
        "## Adding a Column"
      ]
    },
    {
      "cell_type": "code",
      "execution_count": null,
      "metadata": {
        "id": "07fy9DPdEuIJ"
      },
      "outputs": [],
      "source": [
        "animals"
      ]
    },
    {
      "cell_type": "code",
      "execution_count": null,
      "metadata": {
        "id": "zIxM_8GrFvtY"
      },
      "outputs": [],
      "source": [
        "# We can easily add a column to our data frame\n",
        "animals['chickens'] = [1,0,0,4,5]\n",
        "animals"
      ]
    },
    {
      "cell_type": "markdown",
      "metadata": {
        "id": "c18ygqvWF-cX"
      },
      "source": [
        "# Adding a Row"
      ]
    },
    {
      "cell_type": "code",
      "execution_count": null,
      "metadata": {
        "id": "sVAvIXaFGAHQ"
      },
      "outputs": [],
      "source": [
        "# Similarly, we can add a row to our data frame\n",
        "animals.loc['Nevin'] = [1,0,0]\n",
        "animals"
      ]
    },
    {
      "cell_type": "markdown",
      "metadata": {
        "id": "8OaxScNOG8BW"
      },
      "source": [
        "### Your Turn\n",
        "1. Add a column named `Rating` to your `movies_impute` data frame that gives your rating of the movie on a scale from 1-10 (where 10 is the best).\n",
        "2. Add a row to your `movies_impute` data frame with the information for another movie."
      ]
    },
    {
      "cell_type": "code",
      "execution_count": null,
      "metadata": {
        "id": "QF4EYap8PV-B"
      },
      "outputs": [],
      "source": [
        "# Solution\n"
      ]
    },
    {
      "cell_type": "code",
      "execution_count": null,
      "metadata": {
        "id": "VyC33hxXPV-B"
      },
      "outputs": [],
      "source": [
        "# Solution\n"
      ]
    },
    {
      "cell_type": "markdown",
      "metadata": {
        "id": "Tlq43JLWFTuY"
      },
      "source": [
        "## A Quick Intro to Plotting Using Pandas"
      ]
    },
    {
      "cell_type": "code",
      "execution_count": null,
      "metadata": {
        "id": "euP1loaGFWTS"
      },
      "outputs": [],
      "source": [
        "home_data.plot(kind = 'scatter', x = 'LotArea', y = 'LotFrontage') ;"
      ]
    },
    {
      "cell_type": "code",
      "execution_count": null,
      "metadata": {
        "id": "lAU7y0maHQl_"
      },
      "outputs": [],
      "source": [
        "home_data['LotFrontage'].plot(kind = 'hist', title = 'Lot Frontage') ;"
      ]
    },
    {
      "cell_type": "code",
      "execution_count": null,
      "metadata": {
        "id": "hFfgWQdtHjem"
      },
      "outputs": [],
      "source": [
        "home_data['LotFrontage'].plot(kind = 'box', title = 'Lot Frontage') ;"
      ]
    },
    {
      "cell_type": "markdown",
      "metadata": {
        "id": "ThyDLoFFH4dd"
      },
      "source": [
        "### Your Turn\n",
        "Create a scatter plot of your `rating` column versus your `Times Watched` column."
      ]
    },
    {
      "cell_type": "code",
      "execution_count": null,
      "metadata": {
        "id": "j_32RFkSqdHA"
      },
      "outputs": [],
      "source": [
        "# Solution\n"
      ]
    },
    {
      "cell_type": "code",
      "execution_count": null,
      "metadata": {
        "id": "pigg6DkyPV-C"
      },
      "outputs": [],
      "source": []
    }
  ],
  "metadata": {
    "colab": {
      "provenance": [],
      "include_colab_link": true
    },
    "kernelspec": {
      "display_name": "Python 3 (ipykernel)",
      "language": "python",
      "name": "python3"
    },
    "language_info": {
      "codemirror_mode": {
        "name": "ipython",
        "version": 3
      },
      "file_extension": ".py",
      "mimetype": "text/x-python",
      "name": "python",
      "nbconvert_exporter": "python",
      "pygments_lexer": "ipython3",
      "version": "3.10.12"
    }
  },
  "nbformat": 4,
  "nbformat_minor": 0
}