{
  "cells": [
    {
      "cell_type": "markdown",
      "metadata": {
        "id": "view-in-github",
        "colab_type": "text"
      },
      "source": [
        "<a href=\"https://colab.research.google.com/github/bdugick89/Data-Science-Bootcamp/blob/main/2a_Conditionals.ipynb\" target=\"_parent\"><img src=\"https://colab.research.google.com/assets/colab-badge.svg\" alt=\"Open In Colab\"/></a>"
      ]
    },
    {
      "cell_type": "markdown",
      "metadata": {
        "id": "IcaWbwV0j9XY"
      },
      "source": [
        "#Conditionals\n"
      ]
    },
    {
      "cell_type": "markdown",
      "metadata": {
        "id": "KFkU60DXl0MG"
      },
      "source": [
        "## Why conditionals are important"
      ]
    },
    {
      "cell_type": "markdown",
      "metadata": {
        "id": "oBa-MMfjl_Eq"
      },
      "source": [
        "Conditionals let us run code only under specific circumstances.  \n",
        "\n",
        "- For example, a website may want to show you certain content **if** you are logged in.  \n",
        "\n",
        "- As a data scientist, you may want to find the mean for a column of data **if** the column is filled with all numbers.  \n",
        "\n"
      ]
    },
    {
      "cell_type": "markdown",
      "metadata": {
        "id": "T7xh4SRPp3gc"
      },
      "source": [
        "## Vocabulary"
      ]
    },
    {
      "cell_type": "markdown",
      "metadata": {
        "id": "7liIKj-np6jx"
      },
      "source": [
        "\n",
        "- **If statement**: tell a program to execute different code depending if a condition is true.\n",
        "- **Conditions**: the thing we want to check before running the code\n"
      ]
    },
    {
      "cell_type": "markdown",
      "metadata": {
        "id": "cVoOq_P9j5ba"
      },
      "source": [
        "##  True and False"
      ]
    },
    {
      "cell_type": "markdown",
      "metadata": {
        "id": "E80jS4iomuWI"
      },
      "source": [
        "An if statement will run code if a particular condition is `True`.  So what is `True`?"
      ]
    },
    {
      "cell_type": "markdown",
      "metadata": {
        "id": "J4mMsrgFkZ8B"
      },
      "source": [
        "Certain statements can be evaluated as `True` or `False`.  \n",
        "For example, `2 < 5` is `True`.  \n",
        "But ` 2 > 5` is `False`.  \n",
        "\n",
        "-  Statements of equality or inequality can be evaluated as True or False.  \n",
        "-  Variables can be set to equal True or False.\n",
        "-  Functions and methods can return values of True or False.  \n",
        "- 0 is False, 1 is True\n",
        "- \"\" is False\n",
        "- [] is False\n",
        "\n"
      ]
    },
    {
      "cell_type": "code",
      "execution_count": null,
      "metadata": {
        "id": "CDc7CQ_ukOFe"
      },
      "outputs": [],
      "source": [
        "# Statements of equality / comaprison\n",
        "print(2 < 5)\n",
        "\n",
        "# To compare if two values are equal we use == instead of =.  (= assigns a variable)\n",
        "print(2 == 5)\n",
        "\n",
        "# ! negates a statement.  \"Two is not equal to five.\"\n",
        "print(2 != 5)"
      ]
    },
    {
      "cell_type": "code",
      "execution_count": null,
      "metadata": {
        "id": "6GE_wG9D3ZSM"
      },
      "outputs": [],
      "source": [
        "x = 4\n",
        "print(x<7)"
      ]
    },
    {
      "cell_type": "code",
      "execution_count": null,
      "metadata": {
        "id": "qw1CFvWukSUh"
      },
      "outputs": [],
      "source": [
        "x = True\n",
        "print(x)"
      ]
    },
    {
      "cell_type": "code",
      "execution_count": null,
      "metadata": {
        "id": "cwAPo6UAn6c0"
      },
      "outputs": [],
      "source": [
        "y = False\n",
        "print(y)"
      ]
    },
    {
      "cell_type": "code",
      "execution_count": null,
      "metadata": {
        "id": "bJ3VVnsPoDDk"
      },
      "outputs": [],
      "source": [
        "mylist = ['a', 'b', 'c', 'd']\n",
        "print('a' in mylist)\n",
        "print('e' in mylist)"
      ]
    },
    {
      "cell_type": "markdown",
      "metadata": {
        "id": "nlqtAHoR8Qzh"
      },
      "source": [
        "### Your Turn\n",
        "Check to see if the following statements will return `True` or `False`:\n",
        "1. `10 >= 5`\n",
        "2. `10 >= 10`\n",
        "3. `'dog' in ['cat', 'mouse', 'rabbit']`"
      ]
    },
    {
      "cell_type": "code",
      "execution_count": 1,
      "metadata": {
        "id": "untuOCjs8k6g",
        "outputId": "a84fe5d9-d407-41a9-bfa5-1eb398479da4",
        "colab": {
          "base_uri": "https://localhost:8080/"
        }
      },
      "outputs": [
        {
          "output_type": "execute_result",
          "data": {
            "text/plain": [
              "True"
            ]
          },
          "metadata": {},
          "execution_count": 1
        }
      ],
      "source": [
        "# Solution 1\n",
        "14<=234"
      ]
    },
    {
      "cell_type": "code",
      "execution_count": 2,
      "metadata": {
        "id": "ZdZ6O18Y8lot",
        "outputId": "3a501c00-ca83-42e2-c35e-0e6ec699ab31",
        "colab": {
          "base_uri": "https://localhost:8080/"
        }
      },
      "outputs": [
        {
          "output_type": "execute_result",
          "data": {
            "text/plain": [
              "False"
            ]
          },
          "metadata": {},
          "execution_count": 2
        }
      ],
      "source": [
        "# Solution 2\n",
        "'dog' in ['cat', 'mouse', 'rabbit']"
      ]
    },
    {
      "cell_type": "code",
      "execution_count": null,
      "metadata": {
        "id": "SRWHO_Hd8mcC"
      },
      "outputs": [],
      "source": [
        "# Solution 3\n"
      ]
    },
    {
      "cell_type": "markdown",
      "metadata": {
        "id": "jBjaOQ_rpmv9"
      },
      "source": [
        "## If statements"
      ]
    },
    {
      "cell_type": "markdown",
      "metadata": {
        "id": "K2F9uKeRpova"
      },
      "source": [
        "If statements execute code *if* a condition is true.  \n",
        "\n",
        "```python\n",
        "# The format is\n",
        "if condition:\n",
        "  code to run\n",
        "```"
      ]
    },
    {
      "cell_type": "code",
      "execution_count": null,
      "metadata": {
        "id": "4mZmFRyhqvFb"
      },
      "outputs": [],
      "source": [
        "x = 2\n",
        "y = 1\n",
        "if x < y:\n",
        "  print('x is less than y')"
      ]
    },
    {
      "cell_type": "code",
      "execution_count": null,
      "metadata": {
        "id": "6WOOw2aOq4fO"
      },
      "outputs": [],
      "source": [
        "x = 4\n",
        "y = 5\n",
        "if x < y:\n",
        "  print('x is less than y')"
      ]
    },
    {
      "cell_type": "code",
      "execution_count": null,
      "metadata": {
        "id": "x6H7Wr2dq9AN"
      },
      "outputs": [],
      "source": [
        "mypets = ['cat', 'rat', 'bat']\n",
        "if 'cat' in mypets:\n",
        "  print('I have a cat')"
      ]
    },
    {
      "cell_type": "code",
      "execution_count": null,
      "metadata": {
        "id": "MDqzYI70rUWF"
      },
      "outputs": [],
      "source": [
        "if 'goldfish' not in mypets:\n",
        "  mypets.append('goldfish')\n",
        "\n",
        "print(mypets)"
      ]
    },
    {
      "cell_type": "code",
      "execution_count": null,
      "metadata": {
        "id": "C23u6-2_Buks"
      },
      "outputs": [],
      "source": [
        "x = [ 1 , 2, 3, 4 ]\n",
        "2 in x"
      ]
    },
    {
      "cell_type": "markdown",
      "metadata": {
        "id": "YweomZ1F88Da"
      },
      "source": [
        "### Your Turn\n",
        "1. Create a variable called `num_1` and assign it a value of 10. Create a variable called `num_2` and assign it a value of 20.\n",
        "2. Write an if statement that will print out \"Number 2 is larger\" if `num_2` is greater than `num_1`. Run this code.\n",
        "3. Create a list with 4 of your favorite foods and save it as `fave_foods`. Write an if statement that will print out `pizza` if it is in `fave_foods`."
      ]
    },
    {
      "cell_type": "code",
      "execution_count": 7,
      "metadata": {
        "id": "gxCtj7oS9z4U"
      },
      "outputs": [],
      "source": [
        "# Solution 1\n",
        "num_1 = 10\n",
        "num_2= 20"
      ]
    },
    {
      "cell_type": "code",
      "execution_count": 8,
      "metadata": {
        "id": "xm35lJBH90oK",
        "outputId": "8fdbe137-5764-44e0-e5b1-14dfda8a79e4",
        "colab": {
          "base_uri": "https://localhost:8080/"
        }
      },
      "outputs": [
        {
          "output_type": "stream",
          "name": "stdout",
          "text": [
            "Number 2 is larger\n"
          ]
        }
      ],
      "source": [
        "# Solution 2\n",
        "if num_1 > num_2:\n",
        "  print('Number 2 is larger')"
      ]
    },
    {
      "cell_type": "code",
      "execution_count": 23,
      "metadata": {
        "id": "keAsWOKY91co",
        "outputId": "5724c11e-e28c-4310-a1f8-39bf7858ae01",
        "colab": {
          "base_uri": "https://localhost:8080/"
        }
      },
      "outputs": [
        {
          "output_type": "stream",
          "name": "stdout",
          "text": [
            "pizza\n"
          ]
        }
      ],
      "source": [
        "# Solution 3\n",
        "fave_foods= ['pizza','cheese','macaroni','pasta']\n",
        "\n",
        "if 'pizza' in fave_foods:\n",
        "  print(\"pizza\")"
      ]
    },
    {
      "cell_type": "markdown",
      "metadata": {
        "id": "HE6tp7b8seNu"
      },
      "source": [
        "##  Indentation matters!"
      ]
    },
    {
      "cell_type": "markdown",
      "metadata": {
        "id": "C43hFlQWshFX"
      },
      "source": [
        "Lines of code under an if statement will be run as part of the if statement *if* they are indented.  \n",
        "\n",
        "The first line of code that is NOT indented will NOT be included in the if statement.  \n"
      ]
    },
    {
      "cell_type": "code",
      "execution_count": 27,
      "metadata": {
        "id": "CjjYnuUTEzHB"
      },
      "outputs": [],
      "source": [
        "mypets='cat','rat','bat','goldfish'"
      ]
    },
    {
      "cell_type": "code",
      "execution_count": 28,
      "metadata": {
        "id": "32KGvcvDre1l",
        "outputId": "2a742b30-3382-4e3e-ccee-8dd39c0e32c7",
        "colab": {
          "base_uri": "https://localhost:8080/"
        }
      },
      "outputs": [
        {
          "output_type": "stream",
          "name": "stdout",
          "text": [
            "('cat', 'rat', 'bat', 'goldfish')\n"
          ]
        }
      ],
      "source": [
        "# This will print mypets no matter what\n",
        "if 'goldfish' not in mypets:\n",
        "  mypets.append('goldfish')\n",
        "print(mypets)"
      ]
    },
    {
      "cell_type": "code",
      "execution_count": 29,
      "metadata": {
        "id": "6mYeZvvys6Tw"
      },
      "outputs": [],
      "source": [
        "# This will print mypets only if 'goldfish' not in mypets\n",
        "If 'goldfish' not in mypets:\n",
        "  mypets.append('goldfish')\n",
        "  print(mypets)\n"
      ]
    },
    {
      "cell_type": "markdown",
      "metadata": {
        "id": "9B0rngZFtJGQ"
      },
      "source": [
        "## If else"
      ]
    },
    {
      "cell_type": "markdown",
      "metadata": {
        "id": "gfPnl6qOtLdI"
      },
      "source": [
        "Sometimes we want to do one thing if a condtional is true and another thing if it's false.  \n"
      ]
    },
    {
      "cell_type": "code",
      "execution_count": 30,
      "metadata": {
        "id": "EvjIdGMdtGM9",
        "outputId": "6a6b6c25-08d2-4743-9546-156d53339004",
        "colab": {
          "base_uri": "https://localhost:8080/"
        }
      },
      "outputs": [
        {
          "output_type": "stream",
          "name": "stdout",
          "text": [
            "x is not less than y\n"
          ]
        }
      ],
      "source": [
        "x = 4\n",
        "y = 2\n",
        "\n",
        "if x < y:\n",
        "  print('x is less than y')\n",
        "else:\n",
        "  print('x is not less than y')"
      ]
    },
    {
      "cell_type": "markdown",
      "metadata": {
        "id": "_Rfm4W8996uE"
      },
      "source": [
        "### Your Turn\n",
        "Write an if else statement that will print out `I love pizza` if `pizza` is in your `fave_foods` list; otherwise it will print out `I do not love pizza`."
      ]
    },
    {
      "cell_type": "code",
      "execution_count": 37,
      "metadata": {
        "id": "Wx3XbRsJ-NdA"
      },
      "outputs": [],
      "source": [
        "# Solution\n",
        "if 'pizza' in fave_foods\n",
        "    print ('i love pizza')\n",
        "else:\n",
        "    print('i do not love pizza')\n",
        ""
      ]
    },
    {
      "cell_type": "markdown",
      "metadata": {
        "id": "gDi9jRZwtg7R"
      },
      "source": [
        "## Elif"
      ]
    },
    {
      "cell_type": "markdown",
      "metadata": {
        "id": "G8Kn3YlOtize"
      },
      "source": [
        "elif - short for else if\n",
        "\n",
        "Used if we have multiple scenarios\n",
        "\n",
        "This example uses one elif, but you could have more than one"
      ]
    },
    {
      "cell_type": "code",
      "execution_count": null,
      "metadata": {
        "id": "LkdsqgmQtdvD"
      },
      "outputs": [],
      "source": [
        "x = 6\n",
        "y = 4\n",
        "\n",
        "if x < y:\n",
        "  print('x is less than y')\n",
        "elif x == y:\n",
        "  print('x equals y')\n",
        "else:\n",
        "  print('x is not less than y')"
      ]
    },
    {
      "cell_type": "markdown",
      "metadata": {
        "id": "HDCIfHzp-UrE"
      },
      "source": [
        "### Your Turn\n",
        "1. Create a variable called `num_pets` that is equal to the number of pets you have.\n",
        "2. Write an if-elif-else statement that does the following:\n",
        "- Prints out \"I have a ton of pets!\" if `num_pets` is larger than 5.\n",
        "- Prints out \"I have a few pets\" if `num_pets` is greater than 0 but less than or equal to 5.\n",
        "- Prints out \"I have no pets\" if `num_pets` is zero.\n",
        "Run your code using different values for `num_pets` to make sure it works as expected."
      ]
    },
    {
      "cell_type": "code",
      "execution_count": 38,
      "metadata": {
        "id": "7RWorVIb_AcA"
      },
      "outputs": [],
      "source": [
        "# Solution 1\n",
        "num_pets= '3'"
      ]
    },
    {
      "cell_type": "code",
      "execution_count": 44,
      "metadata": {
        "id": "EVq1PUIOC_q_",
        "outputId": "767a7278-0ed7-49f1-b50c-f7da8263bfba",
        "colab": {
          "base_uri": "https://localhost:8080/"
        }
      },
      "outputs": [
        {
          "output_type": "stream",
          "name": "stdout",
          "text": [
            "I have no pets\n"
          ]
        }
      ],
      "source": [
        "# Solution 2\n",
        "if num_pets >5:\n",
        "   print('i have alot of pets')\n",
        "elif num_pets < 0 > 5\n",
        "   print('I have a few pets')\n",
        "else:\n",
        "   print('I have no pets')"
      ]
    },
    {
      "cell_type": "markdown",
      "metadata": {
        "id": "MM6qmUYiun0I"
      },
      "source": [
        "## Shorthand"
      ]
    },
    {
      "cell_type": "markdown",
      "metadata": {
        "id": "-457nomnuq-X"
      },
      "source": [
        "If your if statement only has one line of code, you can put everything on one line.\n",
        "\n"
      ]
    },
    {
      "cell_type": "code",
      "execution_count": null,
      "metadata": {
        "id": "IrFSU52bN430"
      },
      "outputs": [],
      "source": [
        "person = 2\n",
        "if person < 3:\n",
        "  print('Person is a toddler!')"
      ]
    },
    {
      "cell_type": "markdown",
      "metadata": {
        "id": "cxlsCPUtN9Q-"
      },
      "source": [
        "The same as a one-liner."
      ]
    },
    {
      "cell_type": "code",
      "execution_count": null,
      "metadata": {
        "id": "vAwwpf5tux2c"
      },
      "outputs": [],
      "source": [
        "person = 2\n",
        "if person < 3: print('Person is a toddler!')"
      ]
    },
    {
      "cell_type": "markdown",
      "metadata": {
        "id": "U8dBt_5IvG-B"
      },
      "source": [
        "if else statements can also go on one line"
      ]
    },
    {
      "cell_type": "code",
      "execution_count": null,
      "metadata": {
        "id": "XPvFhdQ9NYII"
      },
      "outputs": [],
      "source": [
        "person = 4\n",
        "if person < 3 :\n",
        "  print('Person is a toddler!')\n",
        "else:\n",
        "  print('Person is not a toddler!')"
      ]
    },
    {
      "cell_type": "markdown",
      "metadata": {
        "id": "SbwcPKoNOBzw"
      },
      "source": [
        "The same as a one-liner.  Notice the placement of the code block of the \"if\" portion.  Also, notice there are no colons."
      ]
    },
    {
      "cell_type": "code",
      "execution_count": null,
      "metadata": {
        "id": "MxHl14Gau--3"
      },
      "outputs": [],
      "source": [
        "person = 4\n",
        "print('Person is a toddler!') if person < 3 else print('Person is not a toddler!')"
      ]
    },
    {
      "cell_type": "markdown",
      "metadata": {
        "id": "H2zm0NNk_wd1"
      },
      "source": [
        "### Your Turn\n",
        "Write a one-line if statement of your choice."
      ]
    },
    {
      "cell_type": "code",
      "execution_count": null,
      "metadata": {
        "id": "o4j7iYoA_51V"
      },
      "outputs": [],
      "source": [
        "# Solution\n"
      ]
    },
    {
      "cell_type": "markdown",
      "metadata": {
        "id": "zJUEX-7yvo4P"
      },
      "source": [
        "## `And` and `Or`"
      ]
    },
    {
      "cell_type": "markdown",
      "metadata": {
        "id": "ZxbGjuaXvsYU"
      },
      "source": [
        "Conditions can be combined using `and` and `or`.  \n",
        "\n",
        "- For example, maybe a webpage wants to display certain content if you are a paying member and you're logged in.  \n",
        "\n",
        "- Or as a data scientist you want to classify a response as positive if it is 'good' or 'great'"
      ]
    },
    {
      "cell_type": "markdown",
      "metadata": {
        "id": "O2rwGswzwHLe"
      },
      "source": [
        "A condition using `and` is true only if both sides are true.  \n",
        "A condition using `or` is true if at least one side is true or both sides are true."
      ]
    },
    {
      "cell_type": "code",
      "execution_count": null,
      "metadata": {
        "id": "JfGfpG-PvW82"
      },
      "outputs": [],
      "source": [
        "member = False\n",
        "logged_in = False\n",
        "\n",
        "if member and logged_in:\n",
        "  print(\"Welcome member!\")\n",
        "else:\n",
        "  print(\"Go Away!\")"
      ]
    },
    {
      "cell_type": "code",
      "execution_count": null,
      "metadata": {
        "id": "TVhOAdP9wj8W"
      },
      "outputs": [],
      "source": [
        "response = 'good'\n",
        "if (response == 'good') or (response == 'great'):\n",
        "  print('response was positive!')\n",
        "else:\n",
        "  print(\"Hmmm.  Bummer\")"
      ]
    },
    {
      "cell_type": "code",
      "execution_count": null,
      "metadata": {
        "id": "L0dmlKBJP0l_"
      },
      "outputs": [],
      "source": [
        "member = False\n",
        "logged_in = True\n",
        "\n",
        "if member and logged_in:\n",
        "  print(\"Welcome member!\")\n",
        "else:\n",
        "  print(\"Go Away!\")"
      ]
    },
    {
      "cell_type": "markdown",
      "metadata": {
        "id": "1U9-FsOY_9RZ"
      },
      "source": [
        "### Your Turn\n",
        "1. Create a variable called `cook` and set it equal to `True` if you like to cook and `False` if you do not. Create a variable called `clean` and set it equal to `True` if you like to clean dishes and `False` if you do not.\n",
        "2. Write an if-elif-else statement that will do the following:\n",
        "- Print out \"I like to cook & clean dishes!\" if `cook` and `clean` are both `True`.\n",
        "- Print out \"I like to cook!\" if `cook` is `True` and `clean` is `False`.\n",
        "- Print out \"I like to do dishes!\" if `cook` is `False` and `clean` is `True`.\n",
        "- Print out \"I'd rather order takeout.\" if `cook` is `False` and `clean` is `False`.\n",
        "Test out your code with different values for `cook` and `clean` to make sure it works as expected.\n"
      ]
    },
    {
      "cell_type": "code",
      "execution_count": null,
      "metadata": {
        "id": "Un-G7WhpCEKn"
      },
      "outputs": [],
      "source": [
        "# Solution 1\n"
      ]
    },
    {
      "cell_type": "code",
      "execution_count": null,
      "metadata": {
        "id": "ZoqrGiY0CFRd"
      },
      "outputs": [],
      "source": [
        "# Solution 2\n"
      ]
    },
    {
      "cell_type": "markdown",
      "source": [
        "## Functions any() and all()"
      ],
      "metadata": {
        "id": "48k5Du3g8JH_"
      }
    },
    {
      "cell_type": "markdown",
      "source": [
        "`any()`: Applies OR to a list of elements.  Only one element needs to evaluate to `True`.\n",
        "\n",
        "`all()`: Applies AND to a list of elements. All elements need to evaluate to `True`."
      ],
      "metadata": {
        "id": "LNDhEkaQ8Oot"
      }
    },
    {
      "cell_type": "code",
      "source": [
        "values = [ True, False, False ]\n",
        "any(values)\n"
      ],
      "metadata": {
        "id": "_pRApvk08kUr"
      },
      "execution_count": null,
      "outputs": []
    },
    {
      "cell_type": "code",
      "source": [
        "values = [ True, False, False ]\n",
        "all(values)\n"
      ],
      "metadata": {
        "id": "zol-hLmt8rgz"
      },
      "execution_count": null,
      "outputs": []
    },
    {
      "cell_type": "code",
      "execution_count": null,
      "metadata": {
        "id": "k4cilKlEHivK"
      },
      "outputs": [],
      "source": [
        "# Example from previous exercise\n",
        "if all([cook,clean]):\n",
        "  print(\"I like to cook & clean dishes!\")\n",
        "elif cook and (clean == False):\n",
        "  print(\"I like to cook!\")\n",
        "elif (not cook) and clean:\n",
        "  print(\"I like to do dishes!\")\n",
        "elif not any([cook,clean]):\n",
        "  print(\"I'd rather order takeout.\")\n",
        "else:\n",
        "  print(\"And you may ask yourself, 'Well, how did I get here?'.\")\n",
        "\n"
      ]
    },
    {
      "cell_type": "markdown",
      "metadata": {
        "id": "bHjEcdidRIbS"
      },
      "source": [
        "# DeMorgan's law"
      ]
    },
    {
      "cell_type": "markdown",
      "metadata": {
        "id": "oz_wIvqiRKvk"
      },
      "source": [
        "[DeMorgan's Law]( https://en.wikipedia.org/wiki/De_Morgan%27s_laws )\n",
        "\n",
        "- not ( A and B ) => not A or not B\n",
        "- not ( A or B ) => not A and not B"
      ]
    },
    {
      "cell_type": "markdown",
      "metadata": {
        "id": "djtbAfwTR7MA"
      },
      "source": [
        "## Boolean Algebra and Truth Tables"
      ]
    },
    {
      "cell_type": "markdown",
      "metadata": {
        "id": "Xp03XaiBR_Nb"
      },
      "source": [
        "[Boolean Algebra]( https://en.wikipedia.org/wiki/Boolean_algebra#Operations )\n",
        "\n",
        "[Truth Tables]( https://en.wikipedia.org/wiki/Truth_table )"
      ]
    },
    {
      "cell_type": "code",
      "execution_count": null,
      "metadata": {
        "id": "dLZzDE4qSMFr"
      },
      "outputs": [],
      "source": []
    }
  ],
  "metadata": {
    "colab": {
      "provenance": [],
      "include_colab_link": true
    },
    "kernelspec": {
      "display_name": "Python 3",
      "name": "python3"
    }
  },
  "nbformat": 4,
  "nbformat_minor": 0
}