{
  "cells": [
    {
      "cell_type": "markdown",
      "metadata": {
        "id": "view-in-github",
        "colab_type": "text"
      },
      "source": [
        "<a href=\"https://colab.research.google.com/github/bdugick89/Data-Science-Bootcamp/blob/main/Copy_of_5a_Numpy_start.ipynb\" target=\"_parent\"><img src=\"https://colab.research.google.com/assets/colab-badge.svg\" alt=\"Open In Colab\"/></a>"
      ]
    },
    {
      "cell_type": "markdown",
      "metadata": {
        "id": "cAUr1daXWeSi"
      },
      "source": [
        "#Numpy"
      ]
    },
    {
      "cell_type": "code",
      "execution_count": 2,
      "metadata": {
        "id": "wrEcLMulWbxM"
      },
      "outputs": [],
      "source": [
        "import numpy as np"
      ]
    },
    {
      "cell_type": "markdown",
      "metadata": {
        "id": "2sk3BmdcWjlb"
      },
      "source": [
        "## What is [Numpy]( https://en.wikipedia.org/wiki/NumPy )?"
      ]
    },
    {
      "cell_type": "markdown",
      "metadata": {
        "id": "RRnlquetWnyp"
      },
      "source": [
        "- A Python library written in Python and C\n",
        "- Used for arrays and matrices\n",
        "- More effecient than lists because every element is the **same data type**\n",
        "- Some math functions - trig functions, random numbers, Boolean logic, etc.\n",
        "- The basis for other data science libraries like Pandas\n"
      ]
    },
    {
      "cell_type": "markdown",
      "metadata": {
        "id": "lTdm6d0FXNdz"
      },
      "source": [
        "## Creating arrays"
      ]
    },
    {
      "cell_type": "code",
      "execution_count": 3,
      "metadata": {
        "id": "jgbUR0UVXrkk",
        "colab": {
          "base_uri": "https://localhost:8080/"
        },
        "outputId": "37720ecf-bfec-447d-a53e-9dca4aeb7aea"
      },
      "outputs": [
        {
          "output_type": "execute_result",
          "data": {
            "text/plain": [
              "array([1, 2, 3, 4, 5])"
            ]
          },
          "metadata": {},
          "execution_count": 3
        }
      ],
      "source": [
        "# Create an array using a list\n",
        "np.array([1,2,3,4,5])"
      ]
    },
    {
      "cell_type": "code",
      "execution_count": null,
      "metadata": {
        "id": "vksSQKZmQv7V"
      },
      "outputs": [],
      "source": [
        "arr = np.array([1,2,3,4,5])\n",
        "type(arr)"
      ]
    },
    {
      "cell_type": "code",
      "execution_count": 4,
      "metadata": {
        "id": "HLvKcNEtX7QZ",
        "colab": {
          "base_uri": "https://localhost:8080/"
        },
        "outputId": "1bdc226e-d80f-44a1-ece6-92cb9eca72e3"
      },
      "outputs": [
        {
          "output_type": "execute_result",
          "data": {
            "text/plain": [
              "array([0, 1, 2, 3, 4, 5, 6, 7, 8, 9])"
            ]
          },
          "metadata": {},
          "execution_count": 4
        }
      ],
      "source": [
        "# Create an array using range()\n",
        "np.array(range(10))"
      ]
    },
    {
      "cell_type": "markdown",
      "metadata": {
        "id": "QQAFonLNrjia"
      },
      "source": [
        "### Your Turn\n",
        "Create a numpy array of the numbers 1 - 8 using:\n",
        "1. A list\n",
        "2. The `range()` function"
      ]
    },
    {
      "cell_type": "code",
      "source": [
        "# Solution\n",
        "arr1 = np.array([12,123,143123,42341,])"
      ],
      "metadata": {
        "id": "ugWOQ3yncuMF"
      },
      "execution_count": 5,
      "outputs": []
    },
    {
      "cell_type": "code",
      "source": [
        "# Solution\n",
        "np.array(range(12121))"
      ],
      "metadata": {
        "id": "o6jraV5vcr3x",
        "colab": {
          "base_uri": "https://localhost:8080/"
        },
        "outputId": "4998fbd5-2908-40b2-8021-103f1ab7be7e"
      },
      "execution_count": 8,
      "outputs": [
        {
          "output_type": "execute_result",
          "data": {
            "text/plain": [
              "array([    0,     1,     2, ..., 12118, 12119, 12120])"
            ]
          },
          "metadata": {},
          "execution_count": 8
        }
      ]
    },
    {
      "cell_type": "markdown",
      "metadata": {
        "id": "kImOz3tos_WK"
      },
      "source": [
        "## Create Special Types of Arrays"
      ]
    },
    {
      "cell_type": "code",
      "execution_count": 9,
      "metadata": {
        "id": "dFXET5PjtBtb",
        "colab": {
          "base_uri": "https://localhost:8080/"
        },
        "outputId": "53754585-bff8-46f7-f22e-9aaa993b8051"
      },
      "outputs": [
        {
          "output_type": "execute_result",
          "data": {
            "text/plain": [
              "array([0., 0., 0., 0., 0., 0., 0., 0., 0., 0., 0., 0., 0., 0., 0.])"
            ]
          },
          "metadata": {},
          "execution_count": 9
        }
      ],
      "source": [
        "# Create an array of zeros\n",
        "np.zeros(15)\n"
      ]
    },
    {
      "cell_type": "code",
      "execution_count": 10,
      "metadata": {
        "id": "DKCXMf0TtFUm",
        "colab": {
          "base_uri": "https://localhost:8080/"
        },
        "outputId": "067dd973-fa61-451e-f46a-b7182f1a48d4"
      },
      "outputs": [
        {
          "output_type": "execute_result",
          "data": {
            "text/plain": [
              "array([1., 1., 1., 1., 1.])"
            ]
          },
          "metadata": {},
          "execution_count": 10
        }
      ],
      "source": [
        "# Create an array of ones\n",
        "np.ones(5)"
      ]
    },
    {
      "cell_type": "code",
      "execution_count": 11,
      "metadata": {
        "id": "Okobbv_q3g09",
        "colab": {
          "base_uri": "https://localhost:8080/"
        },
        "outputId": "cb3755d6-6b11-42ba-b37e-f6393bc7a3a0"
      },
      "outputs": [
        {
          "output_type": "execute_result",
          "data": {
            "text/plain": [
              "array([7., 7., 7., 7., 7.])"
            ]
          },
          "metadata": {},
          "execution_count": 11
        }
      ],
      "source": [
        "np.ones(5)*7"
      ]
    },
    {
      "cell_type": "code",
      "execution_count": 12,
      "metadata": {
        "id": "_GgyUZnmtHTB",
        "colab": {
          "base_uri": "https://localhost:8080/"
        },
        "outputId": "d13b5b00-7ee7-4c18-a7e6-3d87a3428319"
      },
      "outputs": [
        {
          "output_type": "execute_result",
          "data": {
            "text/plain": [
              "array([7, 7, 7, 7, 7, 7, 7, 7, 7, 7])"
            ]
          },
          "metadata": {},
          "execution_count": 12
        }
      ],
      "source": [
        "# Create an array (of length 10) full of 7's\n",
        "np.full(10, 7)"
      ]
    },
    {
      "cell_type": "code",
      "execution_count": 13,
      "metadata": {
        "id": "jjSSwXfD3b7p",
        "colab": {
          "base_uri": "https://localhost:8080/"
        },
        "outputId": "52fa5227-6d61-42db-ec72-1021d1a53ba0"
      },
      "outputs": [
        {
          "output_type": "execute_result",
          "data": {
            "text/plain": [
              "array([1., 1., 1., 1., 1., 1., 1., 1., 1., 1.])"
            ]
          },
          "metadata": {},
          "execution_count": 13
        }
      ],
      "source": [
        "np.full(10, 1.0)"
      ]
    },
    {
      "cell_type": "code",
      "execution_count": 14,
      "metadata": {
        "id": "CqGslzSYtMpA",
        "colab": {
          "base_uri": "https://localhost:8080/"
        },
        "outputId": "1d5796b7-2703-4b43-9470-b7327377e188"
      },
      "outputs": [
        {
          "output_type": "execute_result",
          "data": {
            "text/plain": [
              "array([ 0,  3,  6,  9, 12, 15, 18, 21, 24, 27])"
            ]
          },
          "metadata": {},
          "execution_count": 14
        }
      ],
      "source": [
        "# Create an array from 0 to 29 incremented by 3s\n",
        "np.arange(0,30,3)"
      ]
    },
    {
      "cell_type": "code",
      "execution_count": 15,
      "metadata": {
        "id": "_vRL4LEZtVQk",
        "colab": {
          "base_uri": "https://localhost:8080/"
        },
        "outputId": "0e8d5414-0414-46e6-e301-751fe1ca5398"
      },
      "outputs": [
        {
          "output_type": "execute_result",
          "data": {
            "text/plain": [
              "array([0.  , 0.25, 0.5 , 0.75, 1.  ])"
            ]
          },
          "metadata": {},
          "execution_count": 15
        }
      ],
      "source": [
        "# Create an array of 5 equally spaced numbers from 0 to 1\n",
        "np.linspace(0,1,5)"
      ]
    },
    {
      "cell_type": "markdown",
      "metadata": {
        "id": "Cz3qHqO4t9ze"
      },
      "source": [
        "### Your Turn\n",
        "1. Create an array of the numbers 0 to 20 incremented by 2s. Save it to a variable called `evens`. Print out `evens`.\n",
        "2. Create the following array `array([0., 0.33333, 0.6666, 1.])`."
      ]
    },
    {
      "cell_type": "code",
      "source": [
        "# Solution\n",
        "even=np.arange(0,21,2)"
      ],
      "metadata": {
        "id": "Wqwu9s7WcxR9"
      },
      "execution_count": 22,
      "outputs": []
    },
    {
      "cell_type": "code",
      "source": [
        "# Solution\n",
        "np.linspace(0,1,4)"
      ],
      "metadata": {
        "id": "yWHx2rn3cwvF",
        "colab": {
          "base_uri": "https://localhost:8080/"
        },
        "outputId": "c627b05b-f2ed-4599-9de9-b25a2f555a5c"
      },
      "execution_count": 23,
      "outputs": [
        {
          "output_type": "execute_result",
          "data": {
            "text/plain": [
              "array([0.        , 0.33333333, 0.66666667, 1.        ])"
            ]
          },
          "metadata": {},
          "execution_count": 23
        }
      ]
    },
    {
      "cell_type": "markdown",
      "metadata": {
        "id": "UZQQ_JDgZvRt"
      },
      "source": [
        "## Two Dimensional Arrays"
      ]
    },
    {
      "cell_type": "code",
      "execution_count": 24,
      "metadata": {
        "id": "2bMBYdnKsFXD",
        "colab": {
          "base_uri": "https://localhost:8080/"
        },
        "outputId": "50c83286-9a24-4180-8ed8-5f2a3896ce43"
      },
      "outputs": [
        {
          "output_type": "execute_result",
          "data": {
            "text/plain": [
              "array([[1, 2, 3],\n",
              "       [4, 5, 6],\n",
              "       [7, 8, 9]])"
            ]
          },
          "metadata": {},
          "execution_count": 24
        }
      ],
      "source": [
        "# Create an array using a list of lists\n",
        "np.array([[1,2,3], [4,5,6], [7,8,9]])"
      ]
    },
    {
      "cell_type": "code",
      "execution_count": 25,
      "metadata": {
        "id": "valA1DbZZmHe",
        "colab": {
          "base_uri": "https://localhost:8080/"
        },
        "outputId": "ebac2e0e-e07d-4ba5-8c0b-55194403485b"
      },
      "outputs": [
        {
          "output_type": "execute_result",
          "data": {
            "text/plain": [
              "array([[2, 3, 4],\n",
              "       [4, 5, 6],\n",
              "       [6, 7, 8]])"
            ]
          },
          "metadata": {},
          "execution_count": 25
        }
      ],
      "source": [
        "# Create an array using a for loop\n",
        "np.array([range(i, i+3) for i in [2,4,6]])"
      ]
    },
    {
      "cell_type": "code",
      "execution_count": 31,
      "metadata": {
        "id": "OxKLidiibNGm",
        "colab": {
          "base_uri": "https://localhost:8080/",
          "height": 143
        },
        "outputId": "5a359860-313b-4892-9f8b-f379cb92f376"
      },
      "outputs": [
        {
          "output_type": "error",
          "ename": "SyntaxError",
          "evalue": "unmatched ')' (<ipython-input-31-73d3a305d220>, line 4)",
          "traceback": [
            "\u001b[0;36m  File \u001b[0;32m\"<ipython-input-31-73d3a305d220>\"\u001b[0;36m, line \u001b[0;32m4\u001b[0m\n\u001b[0;31m    np.full((4,)*2)*10),7\u001b[0m\n\u001b[0m                      ^\u001b[0m\n\u001b[0;31mSyntaxError\u001b[0m\u001b[0;31m:\u001b[0m unmatched ')'\n"
          ]
        }
      ],
      "source": [
        "# Create a 2-dimensional array of ones\n",
        "np.ones((4,5))\n"
      ]
    },
    {
      "cell_type": "code",
      "execution_count": 29,
      "metadata": {
        "id": "_ljWcdH2bUPN",
        "colab": {
          "base_uri": "https://localhost:8080/",
          "height": 179
        },
        "outputId": "068fefc5-8d38-4233-8eaa-019353709570"
      },
      "outputs": [
        {
          "output_type": "error",
          "ename": "TypeError",
          "evalue": "full() missing 1 required positional argument: 'fill_value'",
          "traceback": [
            "\u001b[0;31m---------------------------------------------------------------------------\u001b[0m",
            "\u001b[0;31mTypeError\u001b[0m                                 Traceback (most recent call last)",
            "\u001b[0;32m<ipython-input-29-27e940861dc4>\u001b[0m in \u001b[0;36m<cell line: 1>\u001b[0;34m()\u001b[0m\n\u001b[0;32m----> 1\u001b[0;31m \u001b[0mnp\u001b[0m\u001b[0;34m.\u001b[0m\u001b[0mfull\u001b[0m\u001b[0;34m(\u001b[0m\u001b[0;34m(\u001b[0m\u001b[0;36m4\u001b[0m\u001b[0;34m,\u001b[0m\u001b[0;36m5\u001b[0m\u001b[0;34m)\u001b[0m\u001b[0;34m,\u001b[0m \u001b[0;34m)\u001b[0m\u001b[0;34m\u001b[0m\u001b[0;34m\u001b[0m\u001b[0m\n\u001b[0m",
            "\u001b[0;31mTypeError\u001b[0m: full() missing 1 required positional argument: 'fill_value'"
          ]
        }
      ],
      "source": [
        "# Create a 2-dimensional array filled with 7's\n",
        "np.full((4,5), 7)\n",
        "np.full((4,5\\), )"
      ]
    },
    {
      "cell_type": "code",
      "execution_count": 32,
      "metadata": {
        "id": "PEF2BA9T5Dh6",
        "colab": {
          "base_uri": "https://localhost:8080/"
        },
        "outputId": "27bc339a-bcfa-4aa4-8894-2e81e3eae9bd"
      },
      "outputs": [
        {
          "output_type": "execute_result",
          "data": {
            "text/plain": [
              "array([[7., 7., 7., 7., 7.],\n",
              "       [7., 7., 7., 7., 7.],\n",
              "       [7., 7., 7., 7., 7.],\n",
              "       [7., 7., 7., 7., 7.]])"
            ]
          },
          "metadata": {},
          "execution_count": 32
        }
      ],
      "source": [
        "np.ones((4,5))*7"
      ]
    },
    {
      "cell_type": "markdown",
      "metadata": {
        "id": "31D4aiyzvFEH"
      },
      "source": [
        "### Your Turn\n",
        "1. Create a 2x2 array filled with the word \"HI\".\n",
        "2. Create the a 3x3 array with 1's in the first row, 2's in the second row, and 3's in the third row."
      ]
    },
    {
      "cell_type": "code",
      "source": [
        "# Solution\n",
        "np.full((2, 2), \"HI\")"
      ],
      "metadata": {
        "id": "-_ENQDUwc0JY",
        "colab": {
          "base_uri": "https://localhost:8080/"
        },
        "outputId": "858fb0e2-c62f-422b-f6b1-781eff3a651d"
      },
      "execution_count": 33,
      "outputs": [
        {
          "output_type": "execute_result",
          "data": {
            "text/plain": [
              "array([['HI', 'HI'],\n",
              "       ['HI', 'HI']], dtype='<U2')"
            ]
          },
          "metadata": {},
          "execution_count": 33
        }
      ]
    },
    {
      "cell_type": "code",
      "source": [
        "# Solution\n",
        "np.array([range(,2) for i in [1,2,3]])\n",
        "\n",
        "np.array([[1,1,1,],[2,2,2],[3,3,3]])\n",
        "np.full((3,3),[1,2,3]).transpose()\n",
        "np.array([(i,)*3 for in [1,2,3]])"
      ],
      "metadata": {
        "id": "W6wjspOkczlE",
        "colab": {
          "base_uri": "https://localhost:8080/",
          "height": 143
        },
        "outputId": "abea5371-ac3d-448a-bc95-9fc885091c4b"
      },
      "execution_count": 42,
      "outputs": [
        {
          "output_type": "error",
          "ename": "SyntaxError",
          "evalue": "invalid syntax (<ipython-input-42-5f00e7d9ba47>, line 1)",
          "traceback": [
            "\u001b[0;36m  File \u001b[0;32m\"<ipython-input-42-5f00e7d9ba47>\"\u001b[0;36m, line \u001b[0;32m1\u001b[0m\n\u001b[0;31m    np.array([(i,)*3 for in [1,2,3]])\u001b[0m\n\u001b[0m                         ^\u001b[0m\n\u001b[0;31mSyntaxError\u001b[0m\u001b[0;31m:\u001b[0m invalid syntax\n"
          ]
        }
      ]
    },
    {
      "cell_type": "markdown",
      "metadata": {
        "id": "zITpXgBmtbCd"
      },
      "source": [
        "## Generating Random Numbers"
      ]
    },
    {
      "cell_type": "code",
      "execution_count": 43,
      "metadata": {
        "id": "FqlV3IOMdy4m",
        "colab": {
          "base_uri": "https://localhost:8080/"
        },
        "outputId": "8e523b0d-3b2d-494c-aa9f-f4e41cff08a4"
      },
      "outputs": [
        {
          "output_type": "execute_result",
          "data": {
            "text/plain": [
              "array([0.2037886 , 0.49748816, 0.33052432, 0.27476243, 0.36514694,\n",
              "       0.38447635, 0.43606761, 0.59439012, 0.01968829, 0.42464305])"
            ]
          },
          "metadata": {},
          "execution_count": 43
        }
      ],
      "source": [
        "# Generate 10 random numbers from 0 to 1\n",
        "np.random.random(10)"
      ]
    },
    {
      "cell_type": "code",
      "execution_count": 44,
      "metadata": {
        "id": "hYPUQg56d7hV",
        "colab": {
          "base_uri": "https://localhost:8080/"
        },
        "outputId": "72e835e7-00ef-42d2-bc84-8e236a1a1687"
      },
      "outputs": [
        {
          "output_type": "execute_result",
          "data": {
            "text/plain": [
              "array([ 0.69412306, -0.71684504, -0.43147152, -0.52373609,  0.00750794,\n",
              "       -0.59285394, -1.1616274 ,  1.11350729,  1.76197288, -0.23368811])"
            ]
          },
          "metadata": {},
          "execution_count": 44
        }
      ],
      "source": [
        "# Generate 10 random numbers from a normal distribution with mean 0 and\n",
        "# standard deviation of 1\n",
        "np.random.normal(0,1,10)"
      ]
    },
    {
      "cell_type": "code",
      "execution_count": 45,
      "metadata": {
        "id": "pk9JJZ6StoYW",
        "colab": {
          "base_uri": "https://localhost:8080/"
        },
        "outputId": "eebaf00d-b5a8-48a1-9ee3-29f46fe43ffb"
      },
      "outputs": [
        {
          "output_type": "execute_result",
          "data": {
            "text/plain": [
              "array([[ 0.6377883 ,  0.68799389, -1.48919187],\n",
              "       [ 1.39594757,  0.29642764, -0.67331509],\n",
              "       [-0.78571983,  0.86715446, -0.29141591]])"
            ]
          },
          "metadata": {},
          "execution_count": 45
        }
      ],
      "source": [
        "# Generate a 3x3 matrix of random numbers from a normal distribution with\n",
        "# mean 0 and standard deviation 1\n",
        "np.random.normal(0, 1, (3,3))"
      ]
    },
    {
      "cell_type": "code",
      "execution_count": 46,
      "metadata": {
        "id": "C97kMBmxeXIS",
        "colab": {
          "base_uri": "https://localhost:8080/"
        },
        "outputId": "091ff346-8529-41c4-bd0d-169cc1e249e1"
      },
      "outputs": [
        {
          "output_type": "execute_result",
          "data": {
            "text/plain": [
              "array([[7, 9, 0],\n",
              "       [2, 9, 9],\n",
              "       [8, 5, 2]])"
            ]
          },
          "metadata": {},
          "execution_count": 46
        }
      ],
      "source": [
        "# Generate a 3x3 matrix of random integers from 0 to 9\n",
        "np.random.randint(0, 10, (3,3))"
      ]
    },
    {
      "cell_type": "code",
      "execution_count": 47,
      "metadata": {
        "id": "KBOTPFe_GbG4",
        "colab": {
          "base_uri": "https://localhost:8080/"
        },
        "outputId": "855bb3db-c4ff-4051-f866-6f095765d1cb"
      },
      "outputs": [
        {
          "output_type": "execute_result",
          "data": {
            "text/plain": [
              "array([6, 3, 7])"
            ]
          },
          "metadata": {},
          "execution_count": 47
        }
      ],
      "source": [
        "# Setting the seed for repeatability\n",
        "np.random.seed(42)\n",
        "np.random.randint(0, 10, 3)"
      ]
    },
    {
      "cell_type": "markdown",
      "metadata": {
        "id": "z5QIdgrdwJgW"
      },
      "source": [
        "### Your Turn\n",
        "Generate 10 random numbers from the **lognormal** distribution with a mean 0 and standard deviation of 1."
      ]
    },
    {
      "cell_type": "code",
      "source": [
        "# Solution\n",
        "(mean=mean, stddev=sigma, shape=size) = (1.0,1.0,10)\n",
        "np.random.lognormal(mean=1.0,sigma=1.0, size=10)\n",
        "\n",
        "np.random.lognormal\n",
        "(mean=mean,\n",
        " sigma=stddev,\n",
        " size=shape)"
      ],
      "metadata": {
        "id": "5dzl5JmBc4G-",
        "colab": {
          "base_uri": "https://localhost:8080/"
        },
        "outputId": "990a70d9-b4ae-42a6-e7eb-480455640daf"
      },
      "execution_count": 48,
      "outputs": [
        {
          "output_type": "execute_result",
          "data": {
            "text/plain": [
              "array([0.89415144, 3.73931405, 3.59319325, 7.46716407, 1.52062566,\n",
              "       1.60774117, 1.53513732, 1.0788732 , 0.19937875, 7.03128644])"
            ]
          },
          "metadata": {},
          "execution_count": 48
        }
      ]
    },
    {
      "cell_type": "markdown",
      "metadata": {
        "id": "3pPImrJfY0JB"
      },
      "source": [
        "## dtypes"
      ]
    },
    {
      "cell_type": "markdown",
      "metadata": {
        "id": "cIB9PMF8YOYr"
      },
      "source": [
        "All elements of the array must be the same data type.  "
      ]
    },
    {
      "cell_type": "code",
      "execution_count": 49,
      "metadata": {
        "id": "bVLzFhxrYBXZ",
        "colab": {
          "base_uri": "https://localhost:8080/"
        },
        "outputId": "792b669e-22b0-422f-d9d7-2c0b0dd3ed40"
      },
      "outputs": [
        {
          "output_type": "stream",
          "name": "stdout",
          "text": [
            "int64\n",
            "[[0 9 2]\n",
            " [6 3 8]\n",
            " [2 4 2]]\n"
          ]
        }
      ],
      "source": [
        "arr = np.random.randint(0, 10, (3,3))\n",
        "print(arr.dtype)\n",
        "print(arr)"
      ]
    },
    {
      "cell_type": "code",
      "execution_count": 50,
      "metadata": {
        "id": "aDDVoL9BTg-w",
        "colab": {
          "base_uri": "https://localhost:8080/"
        },
        "outputId": "2efa39ca-256c-43d6-b32d-371d53bbb314"
      },
      "outputs": [
        {
          "output_type": "stream",
          "name": "stdout",
          "text": [
            "[[2 9 2]\n",
            " [6 3 8]\n",
            " [2 4 2]]\n"
          ]
        }
      ],
      "source": [
        "arr[0,0] = 2.2\n",
        "print(arr)"
      ]
    },
    {
      "cell_type": "markdown",
      "metadata": {
        "id": "uP_A02FyYRtO"
      },
      "source": [
        "It will 'upcast' if needed.  \n",
        "- In this example since we have one float, the integers are upcast to floats too"
      ]
    },
    {
      "cell_type": "code",
      "execution_count": 51,
      "metadata": {
        "id": "8ZxtfLNuYJO7",
        "colab": {
          "base_uri": "https://localhost:8080/"
        },
        "outputId": "c97af283-f454-40f1-ddca-9ae19b4b06da"
      },
      "outputs": [
        {
          "output_type": "stream",
          "name": "stdout",
          "text": [
            "float64 [1.  2.  3.  4.  5.  6.2]\n"
          ]
        }
      ],
      "source": [
        "arr = np.array([1,2,3,4,5,6.2])\n",
        "print(arr.dtype, arr)"
      ]
    },
    {
      "cell_type": "markdown",
      "metadata": {
        "id": "d8Icm81zY4HB"
      },
      "source": [
        "We can also specify the datatype."
      ]
    },
    {
      "cell_type": "code",
      "execution_count": 52,
      "metadata": {
        "id": "1KIGjqkhYZT6",
        "colab": {
          "base_uri": "https://localhost:8080/"
        },
        "outputId": "52d4650e-72d9-41a2-9379-7fa0f718827b"
      },
      "outputs": [
        {
          "output_type": "execute_result",
          "data": {
            "text/plain": [
              "dtype('float16')"
            ]
          },
          "metadata": {},
          "execution_count": 52
        }
      ],
      "source": [
        "arr = np.array([1,2,3,4,5], dtype='float16')\n",
        "arr.dtype"
      ]
    },
    {
      "cell_type": "code",
      "execution_count": 53,
      "metadata": {
        "id": "ki6XMfgFC6W2",
        "colab": {
          "base_uri": "https://localhost:8080/"
        },
        "outputId": "752790af-7ea7-4bd9-b2b8-8d8b7e6cbead"
      },
      "outputs": [
        {
          "output_type": "execute_result",
          "data": {
            "text/plain": [
              "array([1., 2., 3., 4., 5.], dtype=float16)"
            ]
          },
          "metadata": {},
          "execution_count": 53
        }
      ],
      "source": [
        "arr"
      ]
    },
    {
      "cell_type": "code",
      "execution_count": 54,
      "metadata": {
        "id": "0uet0lI5AK2x",
        "colab": {
          "base_uri": "https://localhost:8080/"
        },
        "outputId": "8ba0179f-86d1-41a5-bfca-9daa7bd23d8f"
      },
      "outputs": [
        {
          "output_type": "execute_result",
          "data": {
            "text/plain": [
              "dtype('float64')"
            ]
          },
          "metadata": {},
          "execution_count": 54
        }
      ],
      "source": [
        "arr = np.array([1,2,3,4,5], dtype='float')\n",
        "arr.dtype"
      ]
    },
    {
      "cell_type": "markdown",
      "metadata": {
        "id": "qryT7DuSwto8"
      },
      "source": [
        "### Your Turn\n",
        "Create an array of the numbers 0 - 10. Save it to a variable called `my_array`. Then change the 1 in your array to be equal to 1.4. Print out `my_array`."
      ]
    },
    {
      "cell_type": "code",
      "source": [
        "# Solution\n",
        "my_array=np.array([1,2,3,4,5,6,7,8,9,10])\n",
        "index_to_update = np.where(my_array == 1)\n",
        "my_array[index_to_update] = 1.4\n",
        "my_array\n",
        "\n",
        "\n",
        "\n",
        "my_array = np.arange(10, dtype=float)\n",
        "print(my_array)\n",
        "\n",
        "\n",
        "my_array[1]=1.4"
      ],
      "metadata": {
        "id": "1Xf9pJEDc8pi",
        "colab": {
          "base_uri": "https://localhost:8080/",
          "height": 197
        },
        "outputId": "803709fe-387c-4441-a892-1cf07861d9a5"
      },
      "execution_count": 63,
      "outputs": [
        {
          "output_type": "error",
          "ename": "TypeError",
          "evalue": "arange() got an unexpected keyword argument 'dytpe'",
          "traceback": [
            "\u001b[0;31m---------------------------------------------------------------------------\u001b[0m",
            "\u001b[0;31mTypeError\u001b[0m                                 Traceback (most recent call last)",
            "\u001b[0;32m<ipython-input-63-f455bc2ac3cf>\u001b[0m in \u001b[0;36m<cell line: 1>\u001b[0;34m()\u001b[0m\n\u001b[0;32m----> 1\u001b[0;31m \u001b[0mmy_array\u001b[0m\u001b[0;34m=\u001b[0m\u001b[0mnp\u001b[0m\u001b[0;34m.\u001b[0m\u001b[0marange\u001b[0m\u001b[0;34m(\u001b[0m\u001b[0;36m10\u001b[0m\u001b[0;34m,\u001b[0m \u001b[0mdytpe\u001b[0m\u001b[0;34m=\u001b[0m\u001b[0mfloat\u001b[0m\u001b[0;34m)\u001b[0m\u001b[0;34m\u001b[0m\u001b[0;34m\u001b[0m\u001b[0m\n\u001b[0m\u001b[1;32m      2\u001b[0m \u001b[0mmy_array\u001b[0m\u001b[0;34m\u001b[0m\u001b[0;34m\u001b[0m\u001b[0m\n",
            "\u001b[0;31mTypeError\u001b[0m: arange() got an unexpected keyword argument 'dytpe'"
          ]
        }
      ]
    },
    {
      "cell_type": "markdown",
      "metadata": {
        "id": "wvNW5qener5K"
      },
      "source": [
        "## Array Attrributes"
      ]
    },
    {
      "cell_type": "markdown",
      "metadata": {
        "id": "k-rnUYGkja3X"
      },
      "source": [
        "What are attributes?\n",
        "- values associated with an object\n",
        "- accessed by object.attribute (like methods but without the ())\n",
        "- lots of objects have attributes"
      ]
    },
    {
      "cell_type": "code",
      "execution_count": 66,
      "metadata": {
        "id": "mKYl5n0LZID1",
        "colab": {
          "base_uri": "https://localhost:8080/"
        },
        "outputId": "c06eca95-7978-48fc-dc82-ea4ff7043932"
      },
      "outputs": [
        {
          "output_type": "stream",
          "name": "stdout",
          "text": [
            "[0 8 6 8 7 0 7 7 2]\n",
            "[[0 7 2 2 0 4 9]\n",
            " [6 9 8 6 8 7 1]\n",
            " [0 6 6 7 4 2 7]\n",
            " [5 2 0 2 4 2 0]\n",
            " [4 9 6 6 8 9 9]]\n",
            "int64\n",
            "int64\n",
            "1\n",
            "2\n",
            "(9,)\n",
            "(5, 7)\n"
          ]
        }
      ],
      "source": [
        "arr1 = np.random.randint(10, size = 9)\n",
        "arr2 = np.random.randint(10, size=(5,7))\n",
        "\n",
        "print(arr1)\n",
        "print(arr2)\n",
        "#data type\n",
        "print(arr1.dtype)\n",
        "print(arr2.dtype)\n",
        "#number of dimensions\n",
        "print(arr1.ndim)\n",
        "print(arr2.ndim)\n",
        "#shape (the size of each dimension)\n",
        "print(arr1.shape)\n",
        "print(arr2.shape)"
      ]
    },
    {
      "cell_type": "markdown",
      "metadata": {
        "id": "IhhWcgKPx5Zl"
      },
      "source": [
        "### Your Turn\n",
        "1. What does the size attribute do?\n",
        "2. Find the size of `arr1` and `arr2`."
      ]
    },
    {
      "cell_type": "markdown",
      "metadata": {
        "id": "QEgfEp2ByHZy"
      },
      "source": [
        "1. Solution\n",
        "\n"
      ]
    },
    {
      "cell_type": "code",
      "source": [
        "# Solution\n",
        "print(arr1.shape)\n",
        "help(np.ndarray.size)"
      ],
      "metadata": {
        "id": "Id_8gC5NdBq-",
        "colab": {
          "base_uri": "https://localhost:8080/"
        },
        "outputId": "e7f37177-d0a3-4412-df02-3fe9e8f68127"
      },
      "execution_count": 67,
      "outputs": [
        {
          "output_type": "stream",
          "name": "stdout",
          "text": [
            "(9,)\n",
            "Help on getset descriptor numpy.ndarray.size:\n",
            "\n",
            "size\n",
            "    Number of elements in the array.\n",
            "    \n",
            "    Equal to ``np.prod(a.shape)``, i.e., the product of the array's\n",
            "    dimensions.\n",
            "    \n",
            "    Notes\n",
            "    -----\n",
            "    `a.size` returns a standard arbitrary precision Python integer. This\n",
            "    may not be the case with other methods of obtaining the same value\n",
            "    (like the suggested ``np.prod(a.shape)``, which returns an instance\n",
            "    of ``np.int_``), and may be relevant if the value is used further in\n",
            "    calculations that may overflow a fixed size integer type.\n",
            "    \n",
            "    Examples\n",
            "    --------\n",
            "    >>> x = np.zeros((3, 5, 2), dtype=np.complex128)\n",
            "    >>> x.size\n",
            "    30\n",
            "    >>> np.prod(x.shape)\n",
            "    30\n",
            "\n"
          ]
        }
      ]
    },
    {
      "cell_type": "code",
      "source": [
        "# Solution\n",
        "arr1.size,arr2.size"
      ],
      "metadata": {
        "id": "ZnSj3RpCdAzL",
        "colab": {
          "base_uri": "https://localhost:8080/"
        },
        "outputId": "121305d5-e50c-463f-e84c-3be9876d2a9b"
      },
      "execution_count": 68,
      "outputs": [
        {
          "output_type": "execute_result",
          "data": {
            "text/plain": [
              "(9, 35)"
            ]
          },
          "metadata": {},
          "execution_count": 68
        }
      ]
    },
    {
      "cell_type": "markdown",
      "metadata": {
        "id": "frubvRwzewwv"
      },
      "source": [
        "## Array Indexing"
      ]
    },
    {
      "cell_type": "markdown",
      "metadata": {
        "id": "kQOvEBEFFclu"
      },
      "source": [
        "One dimensional arrays - square brackets, starting at 0 (just like lists)"
      ]
    },
    {
      "cell_type": "code",
      "execution_count": null,
      "metadata": {
        "id": "uitkOmTZe2vX"
      },
      "outputs": [],
      "source": [
        "arr = np.random.randint(10, size = 9)\n",
        "print(arr)\n",
        "print(arr[0])\n",
        "print(arr[8])"
      ]
    },
    {
      "cell_type": "code",
      "source": [
        "arr[-1]"
      ],
      "metadata": {
        "id": "gAz4QxWY6vB1"
      },
      "execution_count": null,
      "outputs": []
    },
    {
      "cell_type": "markdown",
      "metadata": {
        "id": "pocEmE5OF5xX"
      },
      "source": [
        "Two dimensional arrays - square brackets, starting at 0, comma-separated tuple of indices"
      ]
    },
    {
      "cell_type": "code",
      "execution_count": null,
      "metadata": {
        "id": "4NJstrEuGE7z"
      },
      "outputs": [],
      "source": [
        "arr = np.random.randint(10, size = (5,4))\n",
        "\n",
        "print(arr)\n",
        "print(arr[2,3]) #[row, column]"
      ]
    },
    {
      "cell_type": "markdown",
      "metadata": {
        "id": "dfRvvSiryVjR"
      },
      "source": [
        "### Your Turn\n",
        "1. Create an array of 11 equally spaced points from 1 to 5. Save it to a variable called `one_to_five_array`.\n",
        "2. Use indexing to pull out the `3`."
      ]
    },
    {
      "cell_type": "code",
      "source": [
        "# Solution\n",
        "one_to_five_array = np.random.randint(11, size = (11,5))\n",
        "\n",
        "print(one_to_five_array)\n",
        "print(one_to_five_array[4,1]) #[row, column]\n",
        "\n",
        "\n",
        " one_to_five_array= np.linspace(1,5,11)\n",
        " one_to_five_array\n",
        " one_to_five_array[5]\n",
        "\n",
        "\n",
        ""
      ],
      "metadata": {
        "id": "sDJUc-cidFJN",
        "colab": {
          "base_uri": "https://localhost:8080/"
        },
        "outputId": "2883e069-7162-431f-b591-11a0e8b29e4c"
      },
      "execution_count": 82,
      "outputs": [
        {
          "output_type": "execute_result",
          "data": {
            "text/plain": [
              "array([1. , 1.4, 1.8, 2.2, 2.6, 3. , 3.4, 3.8, 4.2, 4.6, 5. ])"
            ]
          },
          "metadata": {},
          "execution_count": 82
        }
      ]
    },
    {
      "cell_type": "code",
      "source": [
        "# Solution\n"
      ],
      "metadata": {
        "id": "kF5fMIpFdEzl"
      },
      "execution_count": null,
      "outputs": []
    },
    {
      "cell_type": "markdown",
      "metadata": {
        "id": "ldmnNt7le3RH"
      },
      "source": [
        "## Slicing Arrays"
      ]
    },
    {
      "cell_type": "markdown",
      "metadata": {
        "id": "z6QNxnvtHSHE"
      },
      "source": [
        "Note: Default is to return views and not copies\n"
      ]
    },
    {
      "cell_type": "markdown",
      "metadata": {
        "id": "5sGg3ZUxe78W"
      },
      "source": [
        "One dimensional"
      ]
    },
    {
      "cell_type": "code",
      "execution_count": 83,
      "metadata": {
        "id": "beAnUZHGzt5i",
        "colab": {
          "base_uri": "https://localhost:8080/"
        },
        "outputId": "0e3ad0ab-963d-44d9-ea7f-6a335466e480"
      },
      "outputs": [
        {
          "output_type": "stream",
          "name": "stdout",
          "text": [
            "5 5 5\n",
            "7 5 5\n"
          ]
        }
      ],
      "source": [
        "a=5\n",
        "b=a\n",
        "c=5\n",
        "\n",
        "print(a, b, c)\n",
        "a=7\n",
        "print(a, b, c)\n"
      ]
    },
    {
      "cell_type": "code",
      "execution_count": 89,
      "metadata": {
        "id": "QJ9qWCsl2EHA",
        "colab": {
          "base_uri": "https://localhost:8080/"
        },
        "outputId": "cb76c842-b247-444f-a229-119067306f56"
      },
      "outputs": [
        {
          "output_type": "stream",
          "name": "stdout",
          "text": [
            "Before ...\n",
            "a: [1 2 3 4 5]\n",
            "b: [1 2 3 4 5]\n",
            "c: [1 2 3 4 5]\n",
            "After ...\n",
            "a: [1 8 3 4 5]\n",
            "b: [1 8 3 4 5]\n",
            "c: [1 2 3 4 5]\n"
          ]
        }
      ],
      "source": [
        "# Using lists to demonstrate \"view\" and \"copy\" concept\n",
        "a=np.array([1,2,3,4,5])\n",
        "b=a\n",
        "c=a.copy()\n",
        "print(\"Before ...\")\n",
        "print(f\"a: {a}\")\n",
        "print(f\"b: {b}\")\n",
        "print(f\"c: {c}\")\n",
        "a[1]=8\n",
        "print(\"After ...\")\n",
        "print(f\"a: {a}\")\n",
        "print(f\"b: {b}\")\n",
        "print(f\"c: {c}\")\n"
      ]
    },
    {
      "cell_type": "code",
      "execution_count": 90,
      "metadata": {
        "id": "2ltryKYfqad0",
        "colab": {
          "base_uri": "https://localhost:8080/"
        },
        "outputId": "7c2c0d63-5ae9-4504-d4ba-61e7a5f80958"
      },
      "outputs": [
        {
          "output_type": "stream",
          "name": "stdout",
          "text": [
            "[ 1  8  3 23  5]\n",
            "[ 1  8  3 23  5]\n",
            "[1 2 3 4 5]\n"
          ]
        }
      ],
      "source": [
        "b[3]=23\n",
        "print(a)\n",
        "print(b)\n",
        "print(c)"
      ]
    },
    {
      "cell_type": "code",
      "execution_count": 91,
      "metadata": {
        "id": "Av90SHCwe8gv",
        "colab": {
          "base_uri": "https://localhost:8080/"
        },
        "outputId": "6f99960e-4eb3-46bf-b07a-6d83e61c5e77"
      },
      "outputs": [
        {
          "output_type": "stream",
          "name": "stdout",
          "text": [
            "[6 9 2 6 9 8 3 0 1]\n"
          ]
        }
      ],
      "source": [
        "arr = np.random.randint(10, size = 9)\n",
        "print(arr)"
      ]
    },
    {
      "cell_type": "code",
      "execution_count": 92,
      "metadata": {
        "id": "wm11vEqm2s_K",
        "colab": {
          "base_uri": "https://localhost:8080/"
        },
        "outputId": "05c0e3c7-77fa-46f7-ef86-336771a1d7d5"
      },
      "outputs": [
        {
          "output_type": "stream",
          "name": "stdout",
          "text": [
            "arr: [6 9 2 6 9 8 3 0 1]\n",
            "arr2: [6 9 2 6 9 8 3 0 1]\n",
            "arr3: [6 9 2 6 9 8 3 0 1]\n",
            "arr (updated): [10  9  2  6  9  8  3  0  1]\n",
            "arr2 (without copying): [10  9  2  6  9  8  3  0  1]\n",
            "arr3 (with copying): [6 9 2 6 9 8 3 0 1]\n"
          ]
        }
      ],
      "source": [
        "# What happens if we don't copy?\n",
        "arr2 = arr\n",
        "arr3 = arr.copy()\n",
        "print(f\"arr: {arr}\")\n",
        "print(f\"arr2: {arr2}\")\n",
        "print(f\"arr3: {arr3}\")\n",
        "arr[0] = 10\n",
        "print(f\"arr (updated): {arr}\")\n",
        "print(f\"arr2 (without copying): {arr2}\")\n",
        "print(f\"arr3 (with copying): {arr3}\")"
      ]
    },
    {
      "cell_type": "code",
      "execution_count": null,
      "metadata": {
        "id": "eG-M_NCrKguJ"
      },
      "outputs": [],
      "source": [
        "arr"
      ]
    },
    {
      "cell_type": "code",
      "execution_count": 93,
      "metadata": {
        "id": "yVqfad7DW9P0",
        "colab": {
          "base_uri": "https://localhost:8080/"
        },
        "outputId": "78dd1393-4baa-4073-b53c-02cb7d235ed6"
      },
      "outputs": [
        {
          "output_type": "stream",
          "name": "stdout",
          "text": [
            "[10  9  2  6  9  8  3]\n",
            "[9 8 3 0 1]\n",
            "[9 8 3]\n",
            "[9 3]\n",
            "[9 6 2]\n",
            "[9 6 2]\n"
          ]
        }
      ],
      "source": [
        "print(arr[:7]) #[start:stop:increment]\n",
        "print(arr[4:])\n",
        "print(arr[4:7])\n",
        "print(arr[4:7:2])\n",
        "print(arr[4:1:-1])\n",
        "print(arr[-5:1:-1])"
      ]
    },
    {
      "cell_type": "markdown",
      "metadata": {
        "id": "dH2etm1wzHqC"
      },
      "source": [
        "### Your Turn\n",
        "1. Create an 10-element array full of zeros. Assign it to a variable called `zero_array`.\n",
        "2. Make a copy of `zero_array` and save it as `zero_array_copy`.\n",
        "3. Use slicing to pull out the first 3 elements of `zero_array_copy`."
      ]
    },
    {
      "cell_type": "code",
      "source": [
        "#Solution\n",
        "\n",
        "zero_array = np.zeroes(10)\n",
        "zero_array\n",
        "zero_array = zero_array.copy()\n",
        "\n",
        "zero_array[-3:]"
      ],
      "metadata": {
        "id": "omb2H5gvdMuA",
        "colab": {
          "base_uri": "https://localhost:8080/",
          "height": 304
        },
        "outputId": "fb8ab123-c19f-4061-f808-c351970eefaf"
      },
      "execution_count": 97,
      "outputs": [
        {
          "output_type": "error",
          "ename": "AttributeError",
          "evalue": "module 'numpy' has no attribute 'zeroes'",
          "traceback": [
            "\u001b[0;31m---------------------------------------------------------------------------\u001b[0m",
            "\u001b[0;31mAttributeError\u001b[0m                            Traceback (most recent call last)",
            "\u001b[0;32m<ipython-input-97-e0185017230d>\u001b[0m in \u001b[0;36m<cell line: 1>\u001b[0;34m()\u001b[0m\n\u001b[0;32m----> 1\u001b[0;31m \u001b[0mzero_array\u001b[0m \u001b[0;34m=\u001b[0m \u001b[0mnp\u001b[0m\u001b[0;34m.\u001b[0m\u001b[0mzeroes\u001b[0m\u001b[0;34m(\u001b[0m\u001b[0;36m10\u001b[0m\u001b[0;34m)\u001b[0m\u001b[0;34m\u001b[0m\u001b[0;34m\u001b[0m\u001b[0m\n\u001b[0m",
            "\u001b[0;32m/usr/local/lib/python3.10/dist-packages/numpy/__init__.py\u001b[0m in \u001b[0;36m__getattr__\u001b[0;34m(attr)\u001b[0m\n\u001b[1;32m    309\u001b[0m             \u001b[0;32mreturn\u001b[0m \u001b[0mTester\u001b[0m\u001b[0;34m\u001b[0m\u001b[0;34m\u001b[0m\u001b[0m\n\u001b[1;32m    310\u001b[0m \u001b[0;34m\u001b[0m\u001b[0m\n\u001b[0;32m--> 311\u001b[0;31m         raise AttributeError(\"module {!r} has no attribute \"\n\u001b[0m\u001b[1;32m    312\u001b[0m                              \"{!r}\".format(__name__, attr))\n\u001b[1;32m    313\u001b[0m \u001b[0;34m\u001b[0m\u001b[0m\n",
            "\u001b[0;31mAttributeError\u001b[0m: module 'numpy' has no attribute 'zeroes'"
          ]
        }
      ]
    },
    {
      "cell_type": "code",
      "source": [
        "# Solution\n"
      ],
      "metadata": {
        "id": "NTAPP2iqdMTl"
      },
      "execution_count": null,
      "outputs": []
    },
    {
      "cell_type": "code",
      "source": [
        "# Solution\n"
      ],
      "metadata": {
        "id": "OznMyJHjdL6h"
      },
      "execution_count": null,
      "outputs": []
    },
    {
      "cell_type": "markdown",
      "metadata": {
        "id": "t9gYtmdl2nC3"
      },
      "source": [
        "Two dimensional"
      ]
    },
    {
      "cell_type": "code",
      "execution_count": 98,
      "metadata": {
        "id": "Y6ac94qL2nC4",
        "colab": {
          "base_uri": "https://localhost:8080/"
        },
        "outputId": "1f2873be-f8c8-4135-9a2e-c955002ac949"
      },
      "outputs": [
        {
          "output_type": "stream",
          "name": "stdout",
          "text": [
            "[[0 4 4 6]\n",
            " [8 8 2 2]\n",
            " [2 3 7 5]\n",
            " [7 0 7 3]\n",
            " [0 7 3 5]] \n",
            "\n",
            "[[2 3 7]\n",
            " [7 0 7]]\n",
            "[[0 4 4 6]\n",
            " [8 8 2 2]\n",
            " [2 3 7 5]\n",
            " [7 0 7 3]\n",
            " [0 7 3 5]]\n"
          ]
        }
      ],
      "source": [
        "arr = np.random.randint(10, size = (5,4))\n",
        "print(arr, '\\n')\n",
        "print(arr[2:4, 0:3]) #[row, column]\n",
        "print(arr)"
      ]
    },
    {
      "cell_type": "code",
      "execution_count": null,
      "metadata": {
        "id": "8TCyPHPz2nC4"
      },
      "outputs": [],
      "source": [
        "arr"
      ]
    },
    {
      "cell_type": "code",
      "execution_count": null,
      "metadata": {
        "id": "x-giak7I2nC5"
      },
      "outputs": [],
      "source": [
        "# pull first two columns of an array\n",
        "print(arr[:,0:2])"
      ]
    },
    {
      "cell_type": "code",
      "execution_count": null,
      "metadata": {
        "id": "hrSsiPq92nC5"
      },
      "outputs": [],
      "source": [
        "arr[0,:]"
      ]
    },
    {
      "cell_type": "markdown",
      "metadata": {
        "id": "eCoc7w-72ib8"
      },
      "source": [
        "### Your Turn\n",
        "1. Create a 3x3 array filled with random numbers from a normal distribution with mean 0 and standard deviation 1. Save it to a variable called `normal_array`.\n",
        "2. Pull out the first row of `normal_array`."
      ]
    },
    {
      "cell_type": "code",
      "source": [
        "# Solution\n"
      ],
      "metadata": {
        "id": "YZduWpq-dQpq"
      },
      "execution_count": null,
      "outputs": []
    },
    {
      "cell_type": "code",
      "source": [
        "# Solution\n"
      ],
      "metadata": {
        "id": "MeAtVjLtdQSA"
      },
      "execution_count": null,
      "outputs": []
    },
    {
      "cell_type": "markdown",
      "metadata": {
        "id": "c2HqsWYCe91u"
      },
      "source": [
        "## Reshaping of Arrays\n"
      ]
    },
    {
      "cell_type": "code",
      "execution_count": null,
      "metadata": {
        "id": "S2SG6Gra5WKQ"
      },
      "outputs": [],
      "source": [
        "np.arange?"
      ]
    },
    {
      "cell_type": "code",
      "execution_count": 99,
      "metadata": {
        "id": "vzftS5UkfA0f",
        "colab": {
          "base_uri": "https://localhost:8080/"
        },
        "outputId": "dea64663-ace1-43af-dbc5-94bccc13185b"
      },
      "outputs": [
        {
          "output_type": "execute_result",
          "data": {
            "text/plain": [
              "array([0, 1, 2, 3, 4, 5, 6, 7, 8])"
            ]
          },
          "metadata": {},
          "execution_count": 99
        }
      ],
      "source": [
        "arr = np.arange(9)\n",
        "arr\n"
      ]
    },
    {
      "cell_type": "code",
      "source": [
        "arr.shape"
      ],
      "metadata": {
        "id": "zFP8ovQG_x6d"
      },
      "execution_count": null,
      "outputs": []
    },
    {
      "cell_type": "code",
      "execution_count": null,
      "metadata": {
        "id": "K8wha-hb5nlu"
      },
      "outputs": [],
      "source": [
        "arr = arr.reshape((3,3))\n",
        "print(arr)\n",
        "print(arr.reshape(9))"
      ]
    },
    {
      "cell_type": "code",
      "execution_count": null,
      "metadata": {
        "id": "sOO82VOAOCGf"
      },
      "outputs": [],
      "source": [
        "arr"
      ]
    },
    {
      "cell_type": "code",
      "execution_count": null,
      "metadata": {
        "id": "1iGl2eLpZi1p"
      },
      "outputs": [],
      "source": [
        "arr.flatten()"
      ]
    },
    {
      "cell_type": "code",
      "execution_count": 122,
      "metadata": {
        "id": "9uveO-JWu-WG",
        "colab": {
          "base_uri": "https://localhost:8080/",
          "height": 214
        },
        "outputId": "e30c107e-9e89-42d3-a108-3d22c845fe61"
      },
      "outputs": [
        {
          "output_type": "error",
          "ename": "NameError",
          "evalue": "name 'arange' is not defined",
          "traceback": [
            "\u001b[0;31m---------------------------------------------------------------------------\u001b[0m",
            "\u001b[0;31mNameError\u001b[0m                                 Traceback (most recent call last)",
            "\u001b[0;32m<ipython-input-122-7b89e863688f>\u001b[0m in \u001b[0;36m<cell line: 4>\u001b[0;34m()\u001b[0m\n\u001b[1;32m      2\u001b[0m \u001b[0msize\u001b[0m\u001b[0;34m=\u001b[0m\u001b[0mnp\u001b[0m\u001b[0;34m.\u001b[0m\u001b[0mprod\u001b[0m\u001b[0;34m(\u001b[0m\u001b[0mshape\u001b[0m\u001b[0;34m)\u001b[0m\u001b[0;34m\u001b[0m\u001b[0;34m\u001b[0m\u001b[0m\n\u001b[1;32m      3\u001b[0m \u001b[0mFill\u001b[0m\u001b[0;34m=\u001b[0m\u001b[0;34m[\u001b[0m\u001b[0;36m0\u001b[0m\u001b[0;34m]\u001b[0m\u001b[0;34m*\u001b[0m\u001b[0msize\u001b[0m\u001b[0;34m\u001b[0m\u001b[0;34m\u001b[0m\u001b[0m\n\u001b[0;32m----> 4\u001b[0;31m \u001b[0mnp\u001b[0m\u001b[0;34m.\u001b[0m\u001b[0mconcatenate\u001b[0m\u001b[0;34m(\u001b[0m\u001b[0;34m[\u001b[0m\u001b[0marange\u001b[0m\u001b[0;34m(\u001b[0m\u001b[0;36m0\u001b[0m\u001b[0;34m,\u001b[0m\u001b[0;36m13\u001b[0m\u001b[0;34m)\u001b[0m\u001b[0;34m,\u001b[0m\u001b[0mnp\u001b[0m\u001b[0;34m.\u001b[0m\u001b[0marray\u001b[0m\u001b[0;34m(\u001b[0m\u001b[0mfill\u001b[0m\u001b[0;34m)\u001b[0m\u001b[0;34m]\u001b[0m\u001b[0;34m)\u001b[0m\u001b[0;34m[\u001b[0m\u001b[0;34m:\u001b[0m\u001b[0;36m15\u001b[0m\u001b[0;34m]\u001b[0m\u001b[0;34m.\u001b[0m\u001b[0mreshape\u001b[0m\u001b[0;34m(\u001b[0m\u001b[0;36m5.3\u001b[0m\u001b[0;34m)\u001b[0m\u001b[0;34m\u001b[0m\u001b[0;34m\u001b[0m\u001b[0m\n\u001b[0m",
            "\u001b[0;31mNameError\u001b[0m: name 'arange' is not defined"
          ]
        }
      ],
      "source": [
        "#(#np.arange(3*3*3)\n",
        "#reshape((3,3,3))\n",
        "#.flatten())\n",
        "\n",
        "shape=(6,3)\n",
        "size=np.prod(shape)\n",
        "Fill=[0]*size\n",
        "np.concatenate([arange(0,13),np.array(fill)])[:15].reshape(5.3)\n",
        "#np.arange(13).reshape(13,1)\n",
        "\n"
      ]
    },
    {
      "cell_type": "markdown",
      "metadata": {
        "id": "e8icfycv0Hse"
      },
      "source": [
        "### Your Turn\n",
        "1. Create a 3x3 array full of ones. Assign it to a variable called `ones_matrix`.\n",
        "2. Flatten the array. Assign it to a variable called `ones_array`. Print out `ones_array`."
      ]
    },
    {
      "cell_type": "code",
      "source": [
        "# Solution\n",
        "#ones_matrix = np.ones((3, 3))\n",
        "#one_matrix = np.random.randint(1, size = (3,3))\n",
        "normal_array = np.random.normal(loc = 0, scale = 1.0, size = (3,3))\n",
        "print(normal_array, '\\n')\n",
        "\n",
        "normal_array[0,:]\n",
        "\n",
        "\n",
        "\n",
        "np.random.normal?\n",
        "\n",
        "\n",
        "\n",
        "ones_matrix = np.ones((3, 3))\n",
        "ones_array =ones_matrix.flatten()\n",
        "ones_array\n",
        "\n",
        "\n",
        "\n",
        "ones_array =ones_matrix.reshape(1,1,-1)\n",
        "ones_array\n"
      ],
      "metadata": {
        "id": "Yoht7OihdUFN",
        "colab": {
          "base_uri": "https://localhost:8080/"
        },
        "outputId": "5140b905-9205-407a-c9e9-77781144b07d"
      },
      "execution_count": 134,
      "outputs": [
        {
          "output_type": "execute_result",
          "data": {
            "text/plain": [
              "array([[[1., 1., 1., 1., 1., 1., 1., 1., 1.]]])"
            ]
          },
          "metadata": {},
          "execution_count": 134
        }
      ]
    },
    {
      "cell_type": "code",
      "source": [
        "# Solution\n"
      ],
      "metadata": {
        "id": "GCw0zJDldTe8"
      },
      "execution_count": 125,
      "outputs": []
    },
    {
      "cell_type": "markdown",
      "metadata": {
        "id": "ThGEefJbfBJv"
      },
      "source": [
        "##Joining and Splitting Arrays"
      ]
    },
    {
      "cell_type": "code",
      "execution_count": 135,
      "metadata": {
        "id": "2TsHcpookZIj",
        "colab": {
          "base_uri": "https://localhost:8080/"
        },
        "outputId": "8afe8b19-cf4f-425d-cbc1-213f61dea5db"
      },
      "outputs": [
        {
          "output_type": "stream",
          "name": "stdout",
          "text": [
            "[[1 1 1]\n",
            " [2 2 2]]\n",
            "\n",
            "[[3 3 3]\n",
            " [4 4 4]]\n"
          ]
        }
      ],
      "source": [
        "arr1 = np.array([[1,1,1],[2,2,2]])\n",
        "arr2 = np.array([[3,3,3],[4,4,4]])\n",
        "print(arr1)\n",
        "print('')\n",
        "print(arr2)"
      ]
    },
    {
      "cell_type": "code",
      "execution_count": 136,
      "metadata": {
        "id": "LTVu_zvn9nhL",
        "colab": {
          "base_uri": "https://localhost:8080/"
        },
        "outputId": "68bb106f-6c56-4609-ace4-c74b6ab15d78"
      },
      "outputs": [
        {
          "output_type": "stream",
          "name": "stdout",
          "text": [
            "[[1 1 1]\n",
            " [2 2 2]\n",
            " [3 3 3]\n",
            " [4 4 4]]\n"
          ]
        }
      ],
      "source": [
        "#default is to concatenate along the first axis (axis=0) - add rows\n",
        "arr3 = np.concatenate([arr1, arr2])\n",
        "print(arr3)\n"
      ]
    },
    {
      "cell_type": "code",
      "execution_count": 137,
      "metadata": {
        "id": "Z2cV53Gh8mU4",
        "colab": {
          "base_uri": "https://localhost:8080/"
        },
        "outputId": "753f1f1f-915b-436e-c806-09d529f5c51a"
      },
      "outputs": [
        {
          "output_type": "stream",
          "name": "stdout",
          "text": [
            "[[1 1 1 3 3 3]\n",
            " [2 2 2 4 4 4]]\n"
          ]
        }
      ],
      "source": [
        "#can specify to concatenate alond second axis (0 indexing) - add columns\n",
        "arr4 = np.concatenate([arr1,arr2], axis=1)\n",
        "print(arr4)\n"
      ]
    },
    {
      "cell_type": "code",
      "execution_count": null,
      "metadata": {
        "id": "avBLrjNsBfF9"
      },
      "outputs": [],
      "source": [
        "arr1[:,0:2]"
      ]
    },
    {
      "cell_type": "code",
      "execution_count": null,
      "metadata": {
        "id": "z5SdKW9UBqUX"
      },
      "outputs": [],
      "source": [
        "arr1[:,0:2].transpose()"
      ]
    },
    {
      "cell_type": "code",
      "execution_count": null,
      "metadata": {
        "id": "BOlIxTSQB5qF"
      },
      "outputs": [],
      "source": [
        "arr1[:,2:]"
      ]
    },
    {
      "cell_type": "code",
      "execution_count": null,
      "metadata": {
        "id": "Y9hz2W_NCDQ6"
      },
      "outputs": [],
      "source": [
        "arr2"
      ]
    },
    {
      "cell_type": "code",
      "execution_count": null,
      "metadata": {
        "id": "oFseCrBSxewv"
      },
      "outputs": [],
      "source": [
        "np.concatenate([arr1[:,0:2].transpose(),\n",
        "                arr2,\n",
        "                arr1[:,2:],\n",
        "                arr2],\n",
        "    axis=1)"
      ]
    },
    {
      "cell_type": "markdown",
      "metadata": {
        "id": "uKrBNm4c26xf"
      },
      "source": [
        "### Your Turn\n",
        "1. Create a 2x2 array filled with ones. Save it as `ones_array`.\n",
        "2. Create a 2x2 array filled with zeros. Save it as `zeros_array`.\n",
        "3. Concatenate `ones_array` and `zeros_array` along the first axis (adding more rows)."
      ]
    },
    {
      "cell_type": "code",
      "source": [
        "# Solution\n",
        "ones_array = np.ones((2, 2))\n",
        "zeros_array= np.zeros((2, 2))\n",
        "zeros_array\n",
        "np.concatenate([ones_array,zeros_array], axis=1)\n",
        "\n",
        "\n",
        "ones_array = no.full((2,2),1)\n",
        "zeros_array = np.zeros((2,2), dtype = int)\n",
        "\n",
        "np.concatenate((one_array,zeros_array,)axis=o)"
      ],
      "metadata": {
        "id": "373kGNRgdXsq",
        "colab": {
          "base_uri": "https://localhost:8080/"
        },
        "outputId": "4bf20c84-6ab7-4d44-f272-4129bd4694f4"
      },
      "execution_count": 144,
      "outputs": [
        {
          "output_type": "execute_result",
          "data": {
            "text/plain": [
              "array([[1., 1., 0., 0.],\n",
              "       [1., 1., 0., 0.]])"
            ]
          },
          "metadata": {},
          "execution_count": 144
        }
      ]
    },
    {
      "cell_type": "code",
      "source": [
        "# Solution\n"
      ],
      "metadata": {
        "id": "lNaMXjAVdXSW"
      },
      "execution_count": null,
      "outputs": []
    },
    {
      "cell_type": "code",
      "execution_count": null,
      "metadata": {
        "id": "rB1QIDW5P218"
      },
      "outputs": [],
      "source": [
        "# Solution\n"
      ]
    },
    {
      "cell_type": "markdown",
      "metadata": {
        "id": "cAo5MPrIlNYb"
      },
      "source": [
        "## Ufuncs\n",
        "Ufunc is a function that operates on ndarrays in an element-by-element manner.\n",
        "\n",
        "U is for:\n",
        "\n",
        "- Universal\n"
      ]
    },
    {
      "cell_type": "code",
      "execution_count": 145,
      "metadata": {
        "id": "oIuQIpQCk-hg",
        "colab": {
          "base_uri": "https://localhost:8080/"
        },
        "outputId": "c2b1e32c-ad4f-45c6-d92d-fa3fcd99d311"
      },
      "outputs": [
        {
          "output_type": "stream",
          "name": "stdout",
          "text": [
            "[[0 1 2]\n",
            " [3 4 5]\n",
            " [6 7 8]]\n"
          ]
        }
      ],
      "source": [
        "arr = np.arange(9).reshape((3,3))\n",
        "print(arr)"
      ]
    },
    {
      "cell_type": "code",
      "execution_count": 146,
      "metadata": {
        "id": "Z2KPP5TM_LLH",
        "colab": {
          "base_uri": "https://localhost:8080/"
        },
        "outputId": "0c9ba0c5-7e71-409a-cf0b-b1b96715d2f9"
      },
      "outputs": [
        {
          "output_type": "stream",
          "name": "stdout",
          "text": [
            "[[ 5  6  7]\n",
            " [ 8  9 10]\n",
            " [11 12 13]]\n"
          ]
        }
      ],
      "source": [
        "print(arr+5)"
      ]
    },
    {
      "cell_type": "code",
      "execution_count": 147,
      "metadata": {
        "id": "2O70SXBp9b4I",
        "colab": {
          "base_uri": "https://localhost:8080/"
        },
        "outputId": "d7bce5e2-9823-4a73-ada1-05bdd6404dc6"
      },
      "outputs": [
        {
          "output_type": "stream",
          "name": "stdout",
          "text": [
            "[[0.  0.2 0.4]\n",
            " [0.6 0.8 1. ]\n",
            " [1.2 1.4 1.6]]\n"
          ]
        }
      ],
      "source": [
        "print(arr/5)"
      ]
    },
    {
      "cell_type": "code",
      "execution_count": 148,
      "metadata": {
        "id": "mU8EBDvAedHt",
        "colab": {
          "base_uri": "https://localhost:8080/"
        },
        "outputId": "a4c60f65-5d46-4bbb-f36f-a76068a25cf5"
      },
      "outputs": [
        {
          "output_type": "stream",
          "name": "stdout",
          "text": [
            "[[   1    3    9]\n",
            " [  27   81  243]\n",
            " [ 729 2187 6561]]\n"
          ]
        }
      ],
      "source": [
        "print(3**arr)"
      ]
    },
    {
      "cell_type": "code",
      "execution_count": 149,
      "metadata": {
        "id": "IkkcIr0DfLuV",
        "colab": {
          "base_uri": "https://localhost:8080/"
        },
        "outputId": "5a7486cd-b293-41ef-fd5b-ff45544cd13b"
      },
      "outputs": [
        {
          "output_type": "stream",
          "name": "stdout",
          "text": [
            "[[  0   1   8]\n",
            " [ 27  64 125]\n",
            " [216 343 512]]\n"
          ]
        }
      ],
      "source": [
        "print(arr**3)"
      ]
    },
    {
      "cell_type": "markdown",
      "metadata": {
        "id": "CxNZSKwI2OUj"
      },
      "source": [
        "## Aggregate Functions"
      ]
    },
    {
      "cell_type": "code",
      "execution_count": 153,
      "metadata": {
        "id": "KHEBHiIDnGZe",
        "colab": {
          "base_uri": "https://localhost:8080/"
        },
        "outputId": "f0cc5acc-794c-42fa-afe3-5ae51044fa8c"
      },
      "outputs": [
        {
          "output_type": "stream",
          "name": "stdout",
          "text": [
            "[[0 1 2]\n",
            " [3 4 5]\n",
            " [6 7 8]]\n",
            "36\n",
            "36\n",
            "36\n"
          ]
        }
      ],
      "source": [
        "# Sum across all elements\n",
        "print(arr)\n",
        "print(np.sum(arr))  # function\n",
        "print(arr.sum())   # method\n",
        "print(8*(8+1)//2)  # n(n+1)/2 = sum of a seres of number from 0"
      ]
    },
    {
      "cell_type": "code",
      "execution_count": 154,
      "metadata": {
        "id": "5N11zn6OnS1O",
        "colab": {
          "base_uri": "https://localhost:8080/"
        },
        "outputId": "67463fbc-73c4-4eb5-bffa-2d23d158c5e1"
      },
      "outputs": [
        {
          "output_type": "execute_result",
          "data": {
            "text/plain": [
              "0"
            ]
          },
          "metadata": {},
          "execution_count": 154
        }
      ],
      "source": [
        "# Find the minimum\n",
        "np.min(arr)  # function\n",
        "arr.min()    # method"
      ]
    },
    {
      "cell_type": "code",
      "execution_count": 155,
      "metadata": {
        "id": "-yIJ0pPQnWPX",
        "colab": {
          "base_uri": "https://localhost:8080/"
        },
        "outputId": "42cd80f0-898d-4b77-e07d-ea2486661697"
      },
      "outputs": [
        {
          "output_type": "execute_result",
          "data": {
            "text/plain": [
              "8"
            ]
          },
          "metadata": {},
          "execution_count": 155
        }
      ],
      "source": [
        "# Find the maximum\n",
        "np.max(arr)  # function\n",
        "arr.max()    # method"
      ]
    },
    {
      "cell_type": "code",
      "execution_count": null,
      "metadata": {
        "id": "8HxnmRZ3nXcc"
      },
      "outputs": [],
      "source": [
        "# Calculate the mean\n",
        "np.mean(arr)  # function\n",
        "arr.mean()    # method"
      ]
    },
    {
      "cell_type": "code",
      "execution_count": null,
      "metadata": {
        "id": "_QgbkuLzAgnO"
      },
      "outputs": [],
      "source": [
        "# Find the median\n",
        "np.median(arr)  # function\n",
        "# arr.median()    # method"
      ]
    },
    {
      "cell_type": "code",
      "execution_count": null,
      "metadata": {
        "id": "F_QyWH4DsNgR"
      },
      "outputs": [],
      "source": [
        "# use a list as an argument\n",
        "mylist = [1,2,3]\n",
        "np.mean(mylist)"
      ]
    },
    {
      "cell_type": "code",
      "execution_count": null,
      "metadata": {
        "id": "rqCho4ZD4l8w"
      },
      "outputs": [],
      "source": [
        "# arr.a"
      ]
    },
    {
      "cell_type": "markdown",
      "metadata": {
        "id": "hhJ3Pt6W3UYi"
      },
      "source": [
        "### Your Turn\n",
        "1. Create a 100-element array filled with random numbers from a normal distribution with mean 10 and standard deviation 1. Save it as `random_array`.\n",
        "2. Find the min, max, mean, and standard deviation of your array."
      ]
    },
    {
      "cell_type": "code",
      "source": [
        "# Solution\n",
        "\n",
        "np.random.seed(42)\n",
        "random_array = np.random.normal(loc = 10, scale = 1.0, size = (100))\n",
        "np.min(random_array)  # function\n",
        "random_array.max()\n",
        "random_array.std()\n",
        "\n",
        "\n",
        "#concats the functional with the result\n",
        "k= \"min, max,mean,stdev\".split(\",\")\n",
        "dict(zip(k,(r.min())"
      ],
      "metadata": {
        "id": "0MrlfhB5db1H",
        "colab": {
          "base_uri": "https://localhost:8080/"
        },
        "outputId": "929efb63-28b3-4da0-c8a5-c10e15a624f0"
      },
      "execution_count": 165,
      "outputs": [
        {
          "output_type": "execute_result",
          "data": {
            "text/plain": [
              "7.380254895910255"
            ]
          },
          "metadata": {},
          "execution_count": 165
        }
      ]
    },
    {
      "cell_type": "markdown",
      "metadata": {
        "id": "yKm_PdKqrLMJ"
      },
      "source": [
        "## Boolean Arrays"
      ]
    },
    {
      "cell_type": "code",
      "execution_count": 166,
      "metadata": {
        "id": "2DrZGoIRndQz",
        "colab": {
          "base_uri": "https://localhost:8080/"
        },
        "outputId": "047f98d2-8a2a-4f27-8015-ace64dc0756e"
      },
      "outputs": [
        {
          "output_type": "stream",
          "name": "stdout",
          "text": [
            "[[6 3 7 4 6]\n",
            " [9 2 6 7 4]\n",
            " [3 7 7 2 5]\n",
            " [4 1 7 5 1]]\n",
            "\n",
            "\n",
            "[[False False False False False]\n",
            " [False  True False False False]\n",
            " [False False False  True False]\n",
            " [False  True False False  True]]\n"
          ]
        }
      ],
      "source": [
        "np.random.seed(42)\n",
        "arr = np.random.randint(10, size=(4,5))\n",
        "print(arr)\n",
        "print(\"\\n\")\n",
        "print(arr < 3)"
      ]
    },
    {
      "cell_type": "code",
      "source": [
        "# Solution\n"
      ],
      "metadata": {
        "id": "MuPg2SQMdbZp"
      },
      "execution_count": null,
      "outputs": []
    },
    {
      "cell_type": "code",
      "execution_count": 167,
      "metadata": {
        "id": "Nd17bX02teW9",
        "colab": {
          "base_uri": "https://localhost:8080/"
        },
        "outputId": "6c73d339-80c6-4094-c747-ac1f3d3c126c"
      },
      "outputs": [
        {
          "output_type": "execute_result",
          "data": {
            "text/plain": [
              "array([2, 2, 1, 1])"
            ]
          },
          "metadata": {},
          "execution_count": 167
        }
      ],
      "source": [
        "# filtering\n",
        "arr[arr<3]"
      ]
    },
    {
      "cell_type": "code",
      "execution_count": 168,
      "metadata": {
        "id": "q1hYtd7J3sLG",
        "colab": {
          "base_uri": "https://localhost:8080/"
        },
        "outputId": "0ba477e1-812e-4452-f2bf-12eb54eb6ee5"
      },
      "outputs": [
        {
          "output_type": "execute_result",
          "data": {
            "text/plain": [
              "array([[0, 0, 0, 0, 0],\n",
              "       [0, 1, 0, 0, 0],\n",
              "       [0, 0, 0, 1, 0],\n",
              "       [0, 1, 0, 0, 1]])"
            ]
          },
          "metadata": {},
          "execution_count": 168
        }
      ],
      "source": [
        "(arr<3)*1"
      ]
    },
    {
      "cell_type": "code",
      "execution_count": 169,
      "metadata": {
        "id": "oiP5efIPrRBF",
        "colab": {
          "base_uri": "https://localhost:8080/"
        },
        "outputId": "3edc8568-8955-46a4-f569-8481bb0a304f"
      },
      "outputs": [
        {
          "output_type": "execute_result",
          "data": {
            "text/plain": [
              "4"
            ]
          },
          "metadata": {},
          "execution_count": 169
        }
      ],
      "source": [
        "# count of elements that meet a condition\n",
        "np.count_nonzero(arr<3)\n"
      ]
    },
    {
      "cell_type": "code",
      "execution_count": null,
      "metadata": {
        "id": "ydEJe1ckB7BQ"
      },
      "outputs": [],
      "source": [
        "# count of elements that meet a condition\n",
        "np.sum(arr<3)"
      ]
    },
    {
      "cell_type": "code",
      "execution_count": 171,
      "metadata": {
        "id": "P3LxYslk3XB0",
        "colab": {
          "base_uri": "https://localhost:8080/"
        },
        "outputId": "008f7402-4f43-49ff-e153-9cb2c19b4583"
      },
      "outputs": [
        {
          "output_type": "execute_result",
          "data": {
            "text/plain": [
              "4"
            ]
          },
          "metadata": {},
          "execution_count": 171
        }
      ],
      "source": [
        "(arr<3).sum()"
      ]
    },
    {
      "cell_type": "code",
      "execution_count": 170,
      "metadata": {
        "id": "94iyS-Pt6FBg",
        "colab": {
          "base_uri": "https://localhost:8080/"
        },
        "outputId": "c410b674-5171-485b-e559-82dc7ced1771"
      },
      "outputs": [
        {
          "output_type": "execute_result",
          "data": {
            "text/plain": [
              "0.2"
            ]
          },
          "metadata": {},
          "execution_count": 170
        }
      ],
      "source": [
        "# proportion that meets a conditions\n",
        "(arr < 3).mean()\n"
      ]
    },
    {
      "cell_type": "markdown",
      "metadata": {
        "id": "_-5Ij106rvDF"
      },
      "source": [
        "Boolean Masks - Boolean Indexing"
      ]
    },
    {
      "cell_type": "code",
      "execution_count": null,
      "metadata": {
        "id": "PJFsfrEfrnnY"
      },
      "outputs": [],
      "source": [
        "mask = (arr < 3)\n",
        "print(arr)\n",
        "print(\"\")\n",
        "print(mask)\n",
        "print(\"\")\n",
        "arr*mask"
      ]
    },
    {
      "cell_type": "code",
      "execution_count": null,
      "metadata": {
        "id": "WHqSVlpcxP9O"
      },
      "outputs": [],
      "source": [
        "arr*(arr < 4)"
      ]
    },
    {
      "cell_type": "markdown",
      "metadata": {
        "id": "nSFdEvmvxm-C"
      },
      "source": [
        "For logical AND and OR, use `&` or `|` (NOT and, or)"
      ]
    },
    {
      "cell_type": "code",
      "execution_count": 172,
      "metadata": {
        "id": "AcNM_koU_bZr",
        "colab": {
          "base_uri": "https://localhost:8080/"
        },
        "outputId": "9583981b-2d52-4b87-ba9d-16ab4785a7a8"
      },
      "outputs": [
        {
          "output_type": "execute_result",
          "data": {
            "text/plain": [
              "array([[6, 0, 0, 0, 6],\n",
              "       [0, 0, 6, 0, 0],\n",
              "       [0, 0, 0, 0, 0],\n",
              "       [0, 0, 0, 0, 0]])"
            ]
          },
          "metadata": {},
          "execution_count": 172
        }
      ],
      "source": [
        "arr*((arr % 2 == 0) & (arr >= 6))"
      ]
    },
    {
      "cell_type": "code",
      "execution_count": 173,
      "metadata": {
        "id": "5XwW9JIE7kPJ",
        "colab": {
          "base_uri": "https://localhost:8080/"
        },
        "outputId": "4e38e8d1-5a2f-460f-dbee-af92a87775e1"
      },
      "outputs": [
        {
          "output_type": "execute_result",
          "data": {
            "text/plain": [
              "array([[6, 0, 0, 0, 6],\n",
              "       [0, 0, 6, 0, 0],\n",
              "       [0, 0, 0, 0, 0],\n",
              "       [0, 0, 0, 0, 0]])"
            ]
          },
          "metadata": {},
          "execution_count": 173
        }
      ],
      "source": [
        "mask = np.logical_and((arr % 2 == 0),(arr >= 6))\n",
        "arr*mask"
      ]
    },
    {
      "cell_type": "code",
      "execution_count": null,
      "metadata": {
        "id": "U5e0ZY35DVQL"
      },
      "outputs": [],
      "source": [
        "mask = (arr % 2 == 0) | (arr >= 6)\n",
        "print((arr*mask)*100)\n",
        "print(\"\")\n",
        "filter = mask\n",
        "print((arr[filter])*100)\n"
      ]
    },
    {
      "cell_type": "code",
      "execution_count": null,
      "metadata": {
        "id": "BWe5CYXp7L2v"
      },
      "outputs": [],
      "source": [
        "arr*((arr % 2 == 0) | (arr >= 6))"
      ]
    },
    {
      "cell_type": "code",
      "execution_count": null,
      "metadata": {
        "id": "sO-TxKJ_8EXm"
      },
      "outputs": [],
      "source": [
        "mask = np.logical_or((arr % 2 == 0), (arr >= 6))\n",
        "arr*mask"
      ]
    },
    {
      "cell_type": "code",
      "execution_count": null,
      "metadata": {
        "id": "L88NPA558N86"
      },
      "outputs": [],
      "source": [
        "# np.logical"
      ]
    },
    {
      "cell_type": "markdown",
      "metadata": {
        "id": "v79kV6Ts3a-U"
      },
      "source": [
        "Logical XOR"
      ]
    },
    {
      "cell_type": "code",
      "execution_count": null,
      "metadata": {
        "id": "Fg8v-3l62rn4"
      },
      "outputs": [],
      "source": [
        "arr*((arr % 2 == 0) ^ (arr >= 6))"
      ]
    },
    {
      "cell_type": "markdown",
      "metadata": {
        "id": "odOd6sVt9_q_"
      },
      "source": [
        "Logical NOT"
      ]
    },
    {
      "cell_type": "code",
      "source": [
        "arr"
      ],
      "metadata": {
        "id": "Xlo6SXCnK-JT"
      },
      "execution_count": null,
      "outputs": []
    },
    {
      "cell_type": "code",
      "source": [
        "arr*(arr >= 6)"
      ],
      "metadata": {
        "id": "Xx7Mq567LEKX"
      },
      "execution_count": null,
      "outputs": []
    },
    {
      "cell_type": "code",
      "execution_count": null,
      "metadata": {
        "id": "Xsb6JQKV4Id8"
      },
      "outputs": [],
      "source": [
        "np.logical_not(arr*(arr >= 6))\n"
      ]
    },
    {
      "cell_type": "markdown",
      "metadata": {
        "id": "koQp-5HkGedN"
      },
      "source": [
        "### Your Turn\n",
        "1. Create an 20 element array with random integers from 0 to 20. Assign it to a variable called `my_array`.\n",
        "2. Use boolean indexing to return the values of the array that are greater than 10.\n",
        "3. Use boolean indexing to return the values of the array that are less than 3 or greater than 15.\n",
        "\n",
        "Feel free to use either filtering, masking, or both."
      ]
    },
    {
      "cell_type": "code",
      "source": [
        "# Solution\n",
        "np.random.seed(42)\n",
        "random_array = np.random.randint(0, 20, size=20)\n",
        "random_array"
      ],
      "metadata": {
        "id": "nRMnt43VdgrU",
        "colab": {
          "base_uri": "https://localhost:8080/"
        },
        "outputId": "d053d804-9b23-44c4-b8d7-d110252fe92f"
      },
      "execution_count": 182,
      "outputs": [
        {
          "output_type": "execute_result",
          "data": {
            "text/plain": [
              "array([ 6, 19, 14, 10,  7,  6, 18, 10, 10,  3,  7,  2,  1, 11,  5,  1,  0,\n",
              "       11, 11, 16])"
            ]
          },
          "metadata": {},
          "execution_count": 182
        }
      ]
    },
    {
      "cell_type": "code",
      "source": [],
      "metadata": {
        "id": "RSBvzE_uwtmW"
      },
      "execution_count": null,
      "outputs": []
    },
    {
      "cell_type": "code",
      "source": [
        "# Solution\n",
        "random_array[random_array>10]"
      ],
      "metadata": {
        "id": "XV4tOBdqdgWQ",
        "colab": {
          "base_uri": "https://localhost:8080/"
        },
        "outputId": "5789c290-7c22-4bbd-fd93-d581c2b91a86"
      },
      "execution_count": 177,
      "outputs": [
        {
          "output_type": "execute_result",
          "data": {
            "text/plain": [
              "array([11, 11, 16, 15, 14, 14, 18, 11, 19, 18, 17, 13])"
            ]
          },
          "metadata": {},
          "execution_count": 177
        }
      ]
    },
    {
      "cell_type": "code",
      "source": [
        "# Solution\n",
        "random_array[(random_array < 3) | (random_array > 15)]\n"
      ],
      "metadata": {
        "id": "3v6A7AR-df5H",
        "colab": {
          "base_uri": "https://localhost:8080/"
        },
        "outputId": "db186296-e2ea-4996-848c-09c7babf9bcb"
      },
      "execution_count": 179,
      "outputs": [
        {
          "output_type": "execute_result",
          "data": {
            "text/plain": [
              "array([ 0, 16, 18, 19,  2, 18, 17])"
            ]
          },
          "metadata": {},
          "execution_count": 179
        }
      ]
    }
  ],
  "metadata": {
    "colab": {
      "provenance": [],
      "toc_visible": true,
      "include_colab_link": true
    },
    "kernelspec": {
      "display_name": "Python 3",
      "name": "python3"
    }
  },
  "nbformat": 4,
  "nbformat_minor": 0
}