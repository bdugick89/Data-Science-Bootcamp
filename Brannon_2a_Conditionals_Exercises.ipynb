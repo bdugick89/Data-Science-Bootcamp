{
  "cells": [
    {
      "cell_type": "markdown",
      "metadata": {
        "id": "view-in-github",
        "colab_type": "text"
      },
      "source": [
        "<a href=\"https://colab.research.google.com/github/bdugick89/Data-Science-Bootcamp/blob/main/Brannon_2a_Conditionals_Exercises.ipynb\" target=\"_parent\"><img src=\"https://colab.research.google.com/assets/colab-badge.svg\" alt=\"Open In Colab\"/></a>"
      ]
    },
    {
      "cell_type": "markdown",
      "metadata": {
        "id": "Rx0lMGBJxSp8"
      },
      "source": [
        "# Conditionals Exercises"
      ]
    },
    {
      "cell_type": "markdown",
      "metadata": {
        "id": "hUa0UquRxjML"
      },
      "source": [
        "1. Print 'A is really BIG!' if a is greater than b.\n",
        "\n",
        "```python\n",
        "a = 900\n",
        "b = 7\n",
        "```"
      ]
    },
    {
      "cell_type": "code",
      "source": [
        "a = 900\n",
        "b = 7\n",
        "if a > b:\n",
        "  print('A is really BIG!')"
      ],
      "metadata": {
        "id": "jTxguoEBTk1b"
      },
      "execution_count": null,
      "outputs": []
    },
    {
      "cell_type": "code",
      "execution_count": null,
      "metadata": {
        "id": "n-spY1eOxQFv"
      },
      "outputs": [],
      "source": []
    },
    {
      "cell_type": "markdown",
      "metadata": {
        "id": "_JXQWDunxt66"
      },
      "source": [
        "2. If a and b are equal print 'These things are the same'.  Otherwise, print 'These things are not the same'.\n",
        "\n",
        "```python\n",
        "a = 2\n",
        "b = 4\n",
        "```"
      ]
    },
    {
      "cell_type": "code",
      "execution_count": null,
      "metadata": {
        "id": "fJcu66FSx2XW"
      },
      "outputs": [],
      "source": [
        "if a == b:\n",
        "  print('these things are the same')\n",
        "else:\n",
        "  print('these are not the same')"
      ]
    },
    {
      "cell_type": "markdown",
      "metadata": {
        "id": "WuB_pg_jzaZI"
      },
      "source": [
        "3. If a is greater than b AND b is greater than c, print your own silly sentence.\n",
        "\n",
        "```python\n",
        "a = 9\n",
        "b = 5\n",
        "c = 2\n",
        "```"
      ]
    },
    {
      "cell_type": "code",
      "execution_count": null,
      "metadata": {
        "id": "-v_or2BizZoR"
      },
      "outputs": [],
      "source": [
        "\n",
        "if a > b and b > c :\n",
        "  print('print you own silly sentence')"
      ]
    },
    {
      "cell_type": "markdown",
      "metadata": {
        "id": "iNxwSd5Ez54Z"
      },
      "source": [
        "4. If your favorite ice cream is in the list of flavors, print 'I am so happy!'\n",
        "\n",
        "```python\n",
        "flavors = [\n",
        "  'chocolate',\n",
        "  'vanilla',\n",
        "  'strawberry',\n",
        "  'chocolate-chip',\n",
        "  \"Ben and Jerry's Half-Baked\",\n",
        "]\n",
        "```"
      ]
    },
    {
      "cell_type": "code",
      "execution_count": null,
      "metadata": {
        "id": "X5SeaBvPz9Pr"
      },
      "outputs": [],
      "source": [
        "flavors = [\n",
        "  'chocolate',\n",
        "  'vanilla',\n",
        "  'strawberry',\n",
        "  'chocolate-chip',\n",
        "  \"Ben and Jerry's Half-Baked\",\n",
        "]\n",
        "\n",
        "favorite_flavor = 'vanilla'\n",
        "\n",
        "if favorite_flavor in flavors:\n",
        "  print('Yah')\n",
        "else:\n",
        "  print('sad guy')"
      ]
    },
    {
      "cell_type": "markdown",
      "metadata": {
        "id": "eIaPk_4ox5Hv"
      },
      "source": [
        "5. Make a list called mypets with your pets (real or imaginary) as elements.  \n",
        "- if mypets contains 'dog' and 'cat', print 'I am a dog person and a cat person'\n",
        "- else if mypets contains 'dog', print 'I am a dog person'\n",
        "- else if mypets contains 'cat', print 'I am a cat person'\n",
        "- otherwise, print 'I am not a cat person or a dog person'\n",
        "\n",
        "```python\n",
        "mypets = [  ]\n",
        "```\n"
      ]
    },
    {
      "cell_type": "code",
      "execution_count": null,
      "metadata": {
        "id": "zERIi0eOyola"
      },
      "outputs": [],
      "source": [
        "my_pets = ['dog cat fish parrot']\n",
        "words = mypets[0].split()\n",
        "\n",
        "print(words)\n",
        "\n",
        "if 'dog' and 'cat' in my_pets:\n",
        "  print('i am a dog person')\n",
        "elif 'dog' in my_pets:\n",
        "  print('I am a dog person')\n",
        "elif 'cat'in my_pets:\n",
        "  print('i am a cat person')\n",
        "else :\n",
        "  print('I am not a cat person or a dog person')"
      ]
    }
  ],
  "metadata": {
    "colab": {
      "provenance": [],
      "include_colab_link": true
    },
    "kernelspec": {
      "display_name": "Python 3",
      "name": "python3"
    }
  },
  "nbformat": 4,
  "nbformat_minor": 0
}