{
  "cells": [
    {
      "cell_type": "markdown",
      "metadata": {
        "id": "view-in-github",
        "colab_type": "text"
      },
      "source": [
        "<a href=\"https://colab.research.google.com/github/bdugick89/Data-Science-Bootcamp/blob/main/Copy_of_3a_Functions.ipynb\" target=\"_parent\"><img src=\"https://colab.research.google.com/assets/colab-badge.svg\" alt=\"Open In Colab\"/></a>"
      ]
    },
    {
      "cell_type": "markdown",
      "metadata": {
        "id": "dB8kRlVSsUHA"
      },
      "source": [
        "## Why we need functions\n",
        "- Define code that only runs when you call the function\n",
        "- Allow you to run the same code multiple times without rewriting it\n",
        "- Help with DRY- Don't Repeat Yourself\n",
        "- Can create a 'black box' - you only have to know what arguments a function expects and what it gives back\n"
      ]
    },
    {
      "cell_type": "markdown",
      "metadata": {
        "id": "v5eBC-CTVtYI"
      },
      "source": [
        "### Template\n",
        "\n",
        "```python\n",
        "def func_name ( arg1, arg2, ...):\n",
        "  ''' doc_string '''\n",
        "  return variable\n",
        "```"
      ]
    },
    {
      "cell_type": "markdown",
      "metadata": {
        "id": "TyCdjPZ_ttJ9"
      },
      "source": [
        "## Naming conventions\n"
      ]
    },
    {
      "cell_type": "markdown",
      "metadata": {
        "id": "2yYIHGGatw97"
      },
      "source": [
        "Function and argument names:\n",
        "- all lowercase\n",
        "- words shoud be seperated by underscores when needed to increase readablity  \n",
        "- describe what the function does or what the argument is\n",
        "- avoid abbreviations that would not be obvious to somebody else who knew nothing about your code\n",
        "\n",
        "**Examples:**    \n",
        "Function names: add_two_numbers, count_by_two  \n",
        "Arguments: integer1, integer2, person_name, data_frame, column_name\n",
        "\n"
      ]
    },
    {
      "cell_type": "markdown",
      "metadata": {
        "id": "HVWifynh8AQp"
      },
      "source": [
        "## Basic Function Syntax"
      ]
    },
    {
      "cell_type": "markdown",
      "metadata": {
        "id": "7nGt0bAKspuv"
      },
      "source": [
        "A simple function with no arguments and no return"
      ]
    },
    {
      "cell_type": "code",
      "execution_count": 1,
      "metadata": {
        "colab": {
          "base_uri": "https://localhost:8080/"
        },
        "id": "poyE65CTrb1u",
        "outputId": "db67a327-3fb2-4bfe-c7b8-b6286fde0d81"
      },
      "outputs": [
        {
          "output_type": "execute_result",
          "data": {
            "text/plain": [
              "<function __main__.hello_world1()>"
            ]
          },
          "metadata": {},
          "execution_count": 1
        }
      ],
      "source": [
        "# This defines the function\n",
        "def hello_world1():\n",
        "  \"\"\"Prints Hello world!\"\"\"\n",
        "  print(\"Hello world!\")\n",
        "\n",
        "hello_world1"
      ]
    },
    {
      "cell_type": "code",
      "execution_count": 2,
      "metadata": {
        "colab": {
          "base_uri": "https://localhost:8080/"
        },
        "id": "fdBDOKEWsJb1",
        "outputId": "53ebcae6-d2ee-4d6d-b03c-43993e6465af"
      },
      "outputs": [
        {
          "output_type": "stream",
          "name": "stdout",
          "text": [
            "Hello world!\n"
          ]
        }
      ],
      "source": [
        "# This actually calls the code and runs the function\n",
        "hello_world1()\n"
      ]
    },
    {
      "cell_type": "code",
      "execution_count": 3,
      "metadata": {
        "id": "DNup1ND5XjPq"
      },
      "outputs": [],
      "source": [
        "hello_world1?"
      ]
    },
    {
      "cell_type": "markdown",
      "metadata": {
        "id": "BOJp30QftAYm"
      },
      "source": [
        "A function that takes an argument"
      ]
    },
    {
      "cell_type": "code",
      "execution_count": null,
      "metadata": {
        "id": "Amh2HLI0sL0j"
      },
      "outputs": [],
      "source": [
        "# This function takes the argument - name\n",
        "def hello_person(name):\n",
        "  \"\"\" Prints Hello name \"\"\"\n",
        "  print(\"Hello \", name)\n",
        "\n",
        "hello_person"
      ]
    },
    {
      "cell_type": "code",
      "execution_count": null,
      "metadata": {
        "id": "Wr9ChQp1tTSr"
      },
      "outputs": [],
      "source": [
        "# Calling this function requires passing in a name argument\n",
        "hello_person('Nicole')\n",
        "hello_person('Marty')\n",
        "hello_person(name = 'Dameon')"
      ]
    },
    {
      "cell_type": "code",
      "execution_count": null,
      "metadata": {
        "id": "cVo2NVahX69d"
      },
      "outputs": [],
      "source": [
        "hello_person?"
      ]
    },
    {
      "cell_type": "markdown",
      "metadata": {
        "id": "KbxhUqyxtozA"
      },
      "source": [
        "A function that takes multiple arguments and returns something"
      ]
    },
    {
      "cell_type": "code",
      "execution_count": 6,
      "metadata": {
        "id": "5n1X_-DCtfl7"
      },
      "outputs": [],
      "source": [
        "# this function takes two arguments - number1 and number2\n",
        "def add_two_numbers(number1, number2):\n",
        "  \"\"\" Adds two numbers\"\"\"\n",
        "  #then it returns the sum\n",
        "  return number1+number2\n",
        "\n"
      ]
    },
    {
      "cell_type": "code",
      "execution_count": 4,
      "metadata": {
        "id": "V2sSRKFqYUvg",
        "colab": {
          "base_uri": "https://localhost:8080/"
        },
        "outputId": "ece0a5eb-8ef0-42ce-c0e3-062e5247e384"
      },
      "outputs": [
        {
          "output_type": "stream",
          "name": "stdout",
          "text": [
            "Object `add_two_numbers` not found.\n"
          ]
        }
      ],
      "source": [
        "add_two_numbers?"
      ]
    },
    {
      "cell_type": "code",
      "execution_count": 7,
      "metadata": {
        "colab": {
          "base_uri": "https://localhost:8080/"
        },
        "id": "edmYBThut348",
        "outputId": "044471e9-34ff-4e76-a8cb-36010caaebf3"
      },
      "outputs": [
        {
          "output_type": "stream",
          "name": "stdout",
          "text": [
            "7\n"
          ]
        }
      ],
      "source": [
        "my_sum = add_two_numbers(4, number2 = 3)\n",
        "print(my_sum)"
      ]
    },
    {
      "cell_type": "markdown",
      "metadata": {
        "id": "R6RczNgeow6u"
      },
      "source": [
        "### Your Turn\n",
        "Write a function called `celsius_to_fahrenheit` that takes one argument - `celsius`. Return the temperature in fahrenheit.\n",
        "\n",
        "Note: $F = \\frac{9}{5} \\times C + 32$"
      ]
    },
    {
      "cell_type": "code",
      "execution_count": null,
      "metadata": {
        "id": "kklSPN2tpMfJ"
      },
      "outputs": [],
      "source": [
        "# Solution\n"
      ]
    },
    {
      "cell_type": "code",
      "execution_count": null,
      "metadata": {
        "id": "lIDW6NhdJmFC"
      },
      "outputs": [],
      "source": [
        "# Solution\n"
      ]
    },
    {
      "cell_type": "markdown",
      "metadata": {
        "id": "pn7CZd3aD-_m"
      },
      "source": [
        "## Doc blocks or docstrings and function help"
      ]
    },
    {
      "cell_type": "code",
      "execution_count": 10,
      "metadata": {
        "id": "WZyq9iV8EQiE"
      },
      "outputs": [],
      "source": [
        "def do_nothing():\n",
        "  # The three double quotes denote that this is the function doc block\n",
        "  \"\"\"This function does nothing\"\"\""
      ]
    },
    {
      "cell_type": "code",
      "execution_count": 9,
      "metadata": {
        "colab": {
          "base_uri": "https://localhost:8080/"
        },
        "id": "e71fb2SXEckA",
        "outputId": "b0f6b100-1927-4a68-cf31-fb5fe6f96b6d"
      },
      "outputs": [
        {
          "output_type": "stream",
          "name": "stdout",
          "text": [
            "Help on function do_nothing in module __main__:\n",
            "\n",
            "do_nothing()\n",
            "    This function does nothing\n",
            "\n"
          ]
        }
      ],
      "source": [
        "#Calling the help function on our function will return the doc block\n",
        "help(do_nothing)"
      ]
    },
    {
      "cell_type": "code",
      "execution_count": null,
      "metadata": {
        "id": "2K1silxpFWBI"
      },
      "outputs": [],
      "source": [
        "# Opens help for jupyter lab\n",
        "do_nothing?"
      ]
    },
    {
      "cell_type": "markdown",
      "metadata": {
        "id": "9SIk882Y8t2v"
      },
      "source": [
        "## Argument options"
      ]
    },
    {
      "cell_type": "markdown",
      "metadata": {
        "id": "Fj6SKVypAFg5"
      },
      "source": [
        "### Positional Arguments"
      ]
    },
    {
      "cell_type": "code",
      "execution_count": 12,
      "metadata": {
        "colab": {
          "base_uri": "https://localhost:8080/"
        },
        "id": "5joE0FIdIeQk",
        "outputId": "4184f51f-c9de-46c6-ca2a-ab3aa7b10b52"
      },
      "outputs": [
        {
          "output_type": "stream",
          "name": "stdout",
          "text": [
            "input1 =  8\n",
            "input2 =  9\n"
          ]
        }
      ],
      "source": [
        "def print_inputs(input1, input2):\n",
        "  print(\"input1 = \" , input1)\n",
        "  print(\"input2 = \" , input2)\n",
        "\n",
        "# Here it matches up the arguments passed by position\n",
        "# The first argument will be assigned to input1\n",
        "# The second argument will be assigned to input2\n",
        "print_inputs(8,9)"
      ]
    },
    {
      "cell_type": "code",
      "execution_count": 13,
      "metadata": {
        "colab": {
          "base_uri": "https://localhost:8080/"
        },
        "id": "LRLmTMT2c9_9",
        "outputId": "337aad91-1f8d-469c-ff6b-73faaa939d46"
      },
      "outputs": [
        {
          "output_type": "stream",
          "name": "stdout",
          "text": [
            "input1 =  8\n",
            "input2 =  9\n"
          ]
        }
      ],
      "source": [
        "print_inputs(input1 = 8, input2 = 9)"
      ]
    },
    {
      "cell_type": "code",
      "execution_count": 14,
      "metadata": {
        "colab": {
          "base_uri": "https://localhost:8080/"
        },
        "id": "t-5nOsvtdEoi",
        "outputId": "bfbd005f-ecd6-4bea-f01c-d2636d33d566"
      },
      "outputs": [
        {
          "output_type": "stream",
          "name": "stdout",
          "text": [
            "input1 =  8\n",
            "input2 =  9\n"
          ]
        }
      ],
      "source": [
        "print_inputs(input2 = 9, input1 = 8 )"
      ]
    },
    {
      "cell_type": "code",
      "execution_count": 15,
      "metadata": {
        "colab": {
          "base_uri": "https://localhost:8080/"
        },
        "id": "xXIh416ZUXtg",
        "outputId": "28fa3bb2-690a-4752-ac62-3b243669649d"
      },
      "outputs": [
        {
          "output_type": "stream",
          "name": "stdout",
          "text": [
            "input1 =  Bye\n",
            "input2 =  Hi\n"
          ]
        }
      ],
      "source": [
        "print_inputs(\"Bye\",\"Hi\")"
      ]
    },
    {
      "cell_type": "markdown",
      "metadata": {
        "id": "0AKyMVxAJRmK"
      },
      "source": [
        "### Optional Parameters (Arguments)"
      ]
    },
    {
      "cell_type": "code",
      "execution_count": 16,
      "metadata": {
        "id": "buJc0AHIJVmn"
      },
      "outputs": [],
      "source": [
        "# Optional parameters have default values\n",
        "# that will be used if no values is given\n",
        "def greet_person(name, greeting=\"hi\", day=\"Monday\"):\n",
        "  print(greeting, name,  \"it's\", day)"
      ]
    },
    {
      "cell_type": "code",
      "execution_count": 17,
      "metadata": {
        "colab": {
          "base_uri": "https://localhost:8080/"
        },
        "id": "84YKnJQJPkdO",
        "outputId": "69d7662f-42b1-4818-8b5a-fb691474689f"
      },
      "outputs": [
        {
          "output_type": "stream",
          "name": "stdout",
          "text": [
            "hi Joe it's Monday\n"
          ]
        }
      ],
      "source": [
        "greet_person(\"Joe\")"
      ]
    },
    {
      "cell_type": "code",
      "execution_count": null,
      "metadata": {
        "id": "_-v7pqEg49Mv"
      },
      "outputs": [],
      "source": [
        "greet_person(\"Lewis\", day=\"Tuesday\", greeting='hola')"
      ]
    },
    {
      "cell_type": "code",
      "execution_count": null,
      "metadata": {
        "id": "BWCpG4ZhLVPt"
      },
      "outputs": [],
      "source": [
        "greet_person('Bob', 'bye', 'Wednesday')"
      ]
    },
    {
      "cell_type": "code",
      "execution_count": null,
      "metadata": {
        "id": "Rgb9f5NGbs12"
      },
      "outputs": [],
      "source": [
        "greet_person(day=\"Tuesday\", greeting='hola', name = \"Lewis\" )"
      ]
    },
    {
      "cell_type": "markdown",
      "metadata": {
        "id": "VKLbmETMpaBq"
      },
      "source": [
        "### Your Turn\n",
        "1. Write a function called `play_tennis` that takes the following arguments:\n",
        "- `sunny` (required)\n",
        "-  `weekend` (required)\n",
        "-  `friend` (optional - give a default value of `True`)\n",
        "\n",
        "Return `True` if `sunny`, `weekend`, and `friend` are all `True`. Return `False` otherwise. Make sure to include a docstring.\n",
        "\n",
        "2. Test your code by running the following:\n",
        "- `play_tennis(False, False, True)` (should return `False`)\n",
        "- `play_tennis(True, True)` (should return `True`)\n",
        "\n"
      ]
    },
    {
      "cell_type": "code",
      "execution_count": null,
      "metadata": {
        "id": "4w7swteZqnir"
      },
      "outputs": [],
      "source": [
        "# Solution\n"
      ]
    },
    {
      "cell_type": "code",
      "execution_count": null,
      "metadata": {
        "id": "f8aWjZ_sJmFD"
      },
      "outputs": [],
      "source": [
        "# Solution\n"
      ]
    },
    {
      "cell_type": "markdown",
      "metadata": {
        "id": "vx7w8jKX9PPJ"
      },
      "source": [
        "## Return options"
      ]
    },
    {
      "cell_type": "markdown",
      "metadata": {
        "id": "afvxKXKy6I9S"
      },
      "source": [
        " - `return` exits the function\n",
        " - `return` also optionally returns a value or list, etc. (any type of object)\n",
        " - `return` can also be used to exit the function early if certain conditions are met\n",
        " - you can have multiple returns in a function (only the first one executed will be hit because `return` exits the function)\n",
        " - `return` will return `None` if nothing else is specified"
      ]
    },
    {
      "cell_type": "markdown",
      "metadata": {
        "id": "EiRbp1F09Zpx"
      },
      "source": [
        "### return early"
      ]
    },
    {
      "cell_type": "code",
      "execution_count": null,
      "metadata": {
        "id": "neTTFFaX6SRm"
      },
      "outputs": [],
      "source": [
        "def add_two_integers(number1, number2):\n",
        "  #check if the inputs are integers\n",
        "  if not ( isinstance(number1, int) and isinstance(number2, int) ):\n",
        "    #return from the function if they are not integers\n",
        "    return \"Not a number\"\n",
        "  #otherwise return the sum of the integers\n",
        "  return number1 + number2"
      ]
    },
    {
      "cell_type": "code",
      "execution_count": null,
      "metadata": {
        "id": "HNEjrXsl6gD_"
      },
      "outputs": [],
      "source": [
        "print(add_two_integers(\"a\",5))\n",
        "print(add_two_integers(4,5))\n",
        "\n",
        "results = add_two_integers(6,7)\n",
        "print(results)"
      ]
    },
    {
      "cell_type": "code",
      "execution_count": null,
      "metadata": {
        "id": "PEA3LQo_gUwq"
      },
      "outputs": [],
      "source": [
        "input1= input(\"Enter an integer: \")\n",
        "input2 = input(\"Enter an integer, again: \")\n",
        "print(\"Combined: \" , add_two_integers(input1, input2))\n"
      ]
    },
    {
      "cell_type": "code",
      "execution_count": null,
      "metadata": {
        "id": "KOL0EEgKdkf3"
      },
      "outputs": [],
      "source": [
        "input1= input(\"Enter an integer: \")\n",
        "input2 = input(\"Enter an integer, again: \")\n",
        "if input1.isdecimal() and input2.isdecimal():\n",
        "  print(\"Combined: \" , add_two_integers(int(input1), int(input2)))\n",
        "else:\n",
        "  print(\"Enter only integers\")"
      ]
    },
    {
      "cell_type": "markdown",
      "metadata": {
        "id": "wM9ewnTR_frq"
      },
      "source": [
        "## Examples"
      ]
    },
    {
      "cell_type": "markdown",
      "metadata": {
        "id": "DUjncql768Vm"
      },
      "source": [
        "### Pig Latin"
      ]
    },
    {
      "cell_type": "markdown",
      "metadata": {
        "id": "HFJ4gJfK7A4z"
      },
      "source": [
        "pig latin translator\n",
        "sentence -> pig latin\n",
        "\n",
        "first letter -> end of word add ay\n",
        "unless it's a vowel -> add way"
      ]
    },
    {
      "cell_type": "code",
      "execution_count": null,
      "metadata": {
        "id": "vjR6ILbr6-Pl"
      },
      "outputs": [],
      "source": [
        "def pig_latin(sentence):\n",
        "  \"\"\"Takes a sentence and translates it to pig latin\"\"\"\n",
        "  if not isinstance(sentence, str):\n",
        "    return \"not a string\"\n",
        "  words = sentence.lower().split()\n",
        "  new_sentence = \"\"\n",
        "  vowels = [\"a\", \"e\", \"i\", \"o\", \"u\"]\n",
        "  for word in words:\n",
        "    if word[0] in vowels:\n",
        "      new_sentence += word + 'way '\n",
        "    else:\n",
        "      new_sentence += word[1:] + word[0] + 'ay '\n",
        "  return new_sentence"
      ]
    },
    {
      "cell_type": "code",
      "execution_count": null,
      "metadata": {
        "id": "iz_boS6jokM1"
      },
      "outputs": [],
      "source": [
        "sentence1 = \"Today is Friday\"\n",
        "print(pig_latin(sentence1))\n"
      ]
    },
    {
      "cell_type": "code",
      "execution_count": null,
      "metadata": {
        "id": "J74PG5kqyHwP"
      },
      "outputs": [],
      "source": [
        "\n",
        "print(pig_latin(\"Fridays are the very best day of the week\"))\n",
        "print(pig_latin(\"No Saturdays are\"))"
      ]
    },
    {
      "cell_type": "code",
      "execution_count": null,
      "metadata": {
        "id": "C7X_EspwhBj_"
      },
      "outputs": [],
      "source": []
    }
  ],
  "metadata": {
    "colab": {
      "provenance": [],
      "include_colab_link": true
    },
    "kernelspec": {
      "display_name": "Python 3 (ipykernel)",
      "language": "python",
      "name": "python3"
    },
    "language_info": {
      "codemirror_mode": {
        "name": "ipython",
        "version": 3
      },
      "file_extension": ".py",
      "mimetype": "text/x-python",
      "name": "python",
      "nbconvert_exporter": "python",
      "pygments_lexer": "ipython3",
      "version": "3.10.12"
    }
  },
  "nbformat": 4,
  "nbformat_minor": 0
}